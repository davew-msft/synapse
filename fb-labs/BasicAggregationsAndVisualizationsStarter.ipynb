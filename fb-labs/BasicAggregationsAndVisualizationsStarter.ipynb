{
  "cells": [
    {
      "cell_type": "markdown",
      "source": [
        "# Explore NYC Yellow Taxi Data using Spark\n",
        "\n",
        "load and analyze an Open Dataset that tracks NYC Yellow Taxi trips with Spark.\n",
        "\n",
        "\n"
      ],
      "metadata": {}
    },
    {
      "cell_type": "markdown",
      "source": [
        "## Load Data\n",
        "\n",
        "Read NYC Yellow Taxi data as a Spark DataFrame object to manipulate."
      ],
      "metadata": {}
    },
    {
      "cell_type": "code",
      "source": [
        "1+1"
      ],
      "outputs": [],
      "execution_count": null,
      "metadata": {
        "jupyter": {
          "source_hidden": false,
          "outputs_hidden": false
        },
        "nteract": {
          "transient": {
            "deleting": false
          }
        }
      }
    },
    {
      "cell_type": "code",
      "source": [
        "# Read NYC yellow cab data from Azure Open Datasets\n",
        "from azureml.opendatasets import NycTlcYellow\n",
        "\n",
        "from datetime import datetime\n",
        "from dateutil import parser\n",
        "\n",
        "start_date = parser.parse('2018-05-01 00:00:00')\n",
        "end_date = parser.parse('2018-05-08 00:00:00')\n",
        "\n",
        "\n",
        "nyc_tlc = NycTlcYellow(start_date=start_date, end_date=end_date)\n"
      ],
      "outputs": [],
      "execution_count": null,
      "metadata": {}
    },
    {
      "cell_type": "code",
      "source": [
        "display(nyc_tlc)"
      ],
      "outputs": [],
      "execution_count": null,
      "metadata": {
        "jupyter": {
          "source_hidden": false,
          "outputs_hidden": false
        },
        "nteract": {
          "transient": {
            "deleting": false
          }
        }
      }
    },
    {
      "cell_type": "code",
      "source": [
        "dfTaxi = nyc_tlc.to_spark_dataframe()"
      ],
      "outputs": [],
      "execution_count": null,
      "metadata": {
        "jupyter": {
          "source_hidden": false,
          "outputs_hidden": false
        },
        "nteract": {
          "transient": {
            "deleting": false
          }
        }
      }
    },
    {
      "cell_type": "markdown",
      "source": [
        "## Analyze the NYC Taxi data using Spark and notebooks\n"
      ],
      "metadata": {}
    },
    {
      "cell_type": "code",
      "source": [
        "dfTaxi.printSchema()"
      ],
      "outputs": [],
      "execution_count": null,
      "metadata": {}
    },
    {
      "cell_type": "code",
      "source": [
        "display(dfTaxi)"
      ],
      "outputs": [],
      "execution_count": null,
      "metadata": {
        "jupyter": {
          "source_hidden": false,
          "outputs_hidden": false
        },
        "nteract": {
          "transient": {
            "deleting": false
          }
        },
        "collapsed": false
      }
    },
    {
      "cell_type": "markdown",
      "source": [
        "## Using SQL, what is the `TotalPassengers` and `TotalTripDistance` by `Vendor` for this time period?"
      ],
      "metadata": {
        "nteract": {
          "transient": {
            "deleting": false
          }
        }
      }
    },
    {
      "cell_type": "code",
      "source": [
        "%%sql\r\n",
        "SELECT \r\n",
        "    vendorID,\r\n",
        "    sum(passengerCount) as TotalPassengers,\r\n",
        "    sum(tripDistance) as TotalTripDistance\r\n",
        "FROM dfTaxi\r\n",
        "GROUP BY vendorID"
      ],
      "outputs": [],
      "execution_count": null,
      "metadata": {
        "jupyter": {
          "source_hidden": false,
          "outputs_hidden": false
        },
        "nteract": {
          "transient": {
            "deleting": false
          }
        },
        "microsoft": {
          "language": "sparksql"
        },
        "collapsed": false
      }
    },
    {
      "cell_type": "markdown",
      "source": [
        "# Why didn't that work and what is the fix?"
      ],
      "metadata": {
        "nteract": {
          "transient": {
            "deleting": false
          }
        }
      }
    },
    {
      "cell_type": "code",
      "source": [
        "# put the fix here and rerun the SQL statement"
      ],
      "outputs": [],
      "execution_count": null,
      "metadata": {
        "jupyter": {
          "source_hidden": false,
          "outputs_hidden": false
        },
        "nteract": {
          "transient": {
            "deleting": false
          }
        }
      }
    },
    {
      "cell_type": "markdown",
      "source": [
        "# Trips by PassengerCount\r\n",
        "## Look at this query.   We want to save it so we can build a visualization using python.  How?  "
      ],
      "metadata": {
        "nteract": {
          "transient": {
            "deleting": false
          }
        }
      }
    },
    {
      "cell_type": "code",
      "source": [
        "%%sql\r\n",
        "SELECT \r\n",
        "    passengerCount,\r\n",
        "    sum(tripDistance) as SumTripDistance,\r\n",
        "    avg(tripDistance) as AvgTripDistance\r\n",
        "FROM dfTaxi\r\n",
        "GROUP BY passengerCount\r\n",
        "ORDER BY passengerCount"
      ],
      "outputs": [],
      "execution_count": null,
      "metadata": {
        "jupyter": {
          "source_hidden": false,
          "outputs_hidden": false
        },
        "nteract": {
          "transient": {
            "deleting": false
          }
        },
        "microsoft": {
          "language": "sparksql"
        },
        "collapsed": false
      }
    },
    {
      "cell_type": "markdown",
      "source": [
        "# How would you chart the data using the cell output above?  \r\n",
        "\r\n",
        "But let's assume you want to use some fancy python charting library..."
      ],
      "metadata": {
        "nteract": {
          "transient": {
            "deleting": false
          }
        }
      }
    },
    {
      "cell_type": "code",
      "source": [
        "dfDistanceByPassengerCount = ???"
      ],
      "outputs": [],
      "execution_count": null,
      "metadata": {
        "jupyter": {
          "source_hidden": false,
          "outputs_hidden": false
        },
        "nteract": {
          "transient": {
            "deleting": false
          }
        }
      }
    },
    {
      "cell_type": "markdown",
      "source": [
        "## Customize data visualization with Spark and notebooks\n",
        "You can control how charts render by using notebooks. The following code shows a simple example. It uses the popular libraries matplotlib and seaborn. The code renders the same kind of line chart as the SQL queries we ran earlier.\n",
        "\n"
      ],
      "metadata": {}
    },
    {
      "cell_type": "code",
      "source": [
        "import matplotlib.pyplot\n",
        "import seaborn\n",
        "\n",
        "seaborn.set(style = \"whitegrid\")\n",
        "pdfDistanceByPassengerCount = dfDistanceByPassengerCount.toPandas()\n",
        "seaborn.lineplot(x=\"passengerCount\", y=\"SumTripDistance\" , data = pdfDistanceByPassengerCount)\n",
        "seaborn.lineplot(x=\"passengerCount\", y=\"AvgTripDistance\" , data = pdfDistanceByPassengerCount)\n",
        "matplotlib.pyplot.show()"
      ],
      "outputs": [],
      "execution_count": null,
      "metadata": {}
    }
  ],
  "metadata": {
    "kernelspec": {
      "name": "synapse_pyspark",
      "language": "Python",
      "display_name": "Synapse PySpark"
    },
    "language_info": {
      "name": "python"
    },
    "kernel_info": {
      "name": "synapse_pyspark"
    },
    "save_output": true,
    "synapse_widget": {
      "version": "0.1",
      "state": {}
    }
  },
  "nbformat": 4,
  "nbformat_minor": 2
}