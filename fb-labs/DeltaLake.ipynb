{
  "cells": [
    {
      "cell_type": "markdown",
      "source": [
        "# Delta Lake\n",
        "\n",
        "`Delta Lake` is how we make a data lake a little bit easier to use and make it feel more like a traditional data lake.  \n",
        "\n",
        "\n",
        "Contents\n",
        "*  a table\n",
        "* Understanding meta-data\n",
        "* Read data\n",
        "* Update table data\n",
        "* Overwrite table data\n",
        "* Conditional update without overwrite\n",
        "* Read older versions of data using Time Travel"
      ],
      "metadata": {}
    },
    {
      "cell_type": "code",
      "source": [
        "1+1"
      ],
      "outputs": [
        {
          "output_type": "display_data",
          "data": {
            "application/vnd.livy.statement-meta+json": {
              "spark_pool": "SampleSpark",
              "session_id": "9",
              "statement_id": 2,
              "state": "finished",
              "livy_statement_state": "available",
              "queued_time": "2023-05-01T14:30:36.4423052Z",
              "session_start_time": "2023-05-01T14:30:36.495101Z",
              "execution_start_time": "2023-05-01T14:33:27.3347157Z",
              "execution_finish_time": "2023-05-01T14:33:27.5293287Z",
              "spark_jobs": null,
              "parent_msg_id": "4042a14d-16e5-48fb-8ee5-12f01691f895"
            },
            "text/plain": "StatementMeta(SampleSpark, 9, 2, Finished, Available)"
          },
          "metadata": {}
        },
        {
          "output_type": "execute_result",
          "execution_count": 5,
          "data": {
            "text/plain": "2"
          },
          "metadata": {}
        }
      ],
      "execution_count": 1,
      "metadata": {
        "jupyter": {
          "source_hidden": false,
          "outputs_hidden": false
        },
        "nteract": {
          "transient": {
            "deleting": false
          }
        }
      }
    },
    {
      "cell_type": "markdown",
      "source": [
        "## Configuration\n",
        "Make sure you modify this as appropriate."
      ],
      "metadata": {}
    },
    {
      "cell_type": "code",
      "source": [
        "# variables, setup, and imports\r\n",
        "\r\n",
        "import random\r\n",
        "\r\n",
        "#changeme\r\n",
        "whoami = \"davew\"\r\n",
        "sandboxRoot = \"abfss://defaultfs@asadatalakedavew891.dfs.core.windows.net\"\r\n",
        "\r\n",
        "delta_table_path = \"{}/deltaExample/delta-table-{}\".format(sandboxRoot,whoami)\r\n",
        "delta_table_path"
      ],
      "outputs": [
        {
          "output_type": "display_data",
          "data": {
            "application/vnd.livy.statement-meta+json": {
              "spark_pool": "SampleSpark",
              "session_id": "9",
              "statement_id": 10,
              "state": "finished",
              "livy_statement_state": "available",
              "queued_time": "2023-05-01T14:40:53.7839509Z",
              "session_start_time": null,
              "execution_start_time": "2023-05-01T14:40:53.9163079Z",
              "execution_finish_time": "2023-05-01T14:40:54.0768692Z",
              "spark_jobs": null,
              "parent_msg_id": "afd57a8b-9bd7-4cd5-93dc-6647822f063e"
            },
            "text/plain": "StatementMeta(SampleSpark, 9, 10, Finished, Available)"
          },
          "metadata": {}
        },
        {
          "output_type": "execute_result",
          "execution_count": 21,
          "data": {
            "text/plain": "'abfss://defaultfs@asadatalakedavew891.dfs.core.windows.net/deltaExample/delta-table-davew'"
          },
          "metadata": {}
        }
      ],
      "execution_count": 9,
      "metadata": {
        "jupyter": {
          "source_hidden": false,
          "outputs_hidden": false
        },
        "nteract": {
          "transient": {
            "deleting": false
          }
        }
      }
    },
    {
      "cell_type": "markdown",
      "source": [
        "## Create a table\n",
        "To create a Delta Lake table, write a DataFrame out in the **delta** format. You can use existing Spark SQL code and change the format from parquet, csv, json, and so on, to delta.\n",
        "\n",
        "These operations create a new Delta Lake table using the schema that was inferred from your DataFrame. "
      ],
      "metadata": {}
    },
    {
      "cell_type": "code",
      "source": [
        "dfData = spark.range(0,5)\n",
        "display(dfData)\n"
      ],
      "outputs": [
        {
          "output_type": "display_data",
          "data": {
            "application/vnd.livy.statement-meta+json": {
              "spark_pool": "SampleSpark",
              "session_id": "9",
              "statement_id": 11,
              "state": "finished",
              "livy_statement_state": "available",
              "queued_time": "2023-05-01T14:41:25.7468424Z",
              "session_start_time": null,
              "execution_start_time": "2023-05-01T14:41:25.9011974Z",
              "execution_finish_time": "2023-05-01T14:41:26.4362407Z",
              "spark_jobs": null,
              "parent_msg_id": "90cb21c6-8941-483b-ad3b-80fe89edb3d4"
            },
            "text/plain": "StatementMeta(SampleSpark, 9, 11, Finished, Available)"
          },
          "metadata": {}
        },
        {
          "output_type": "display_data",
          "data": {
            "application/vnd.synapse.widget-view+json": {
              "widget_id": "d77e5657-59d8-4023-9a16-659dda79a8d8",
              "widget_type": "Synapse.DataFrame"
            },
            "text/plain": "SynapseWidget(Synapse.DataFrame, d77e5657-59d8-4023-9a16-659dda79a8d8)"
          },
          "metadata": {}
        }
      ],
      "execution_count": 10,
      "metadata": {
        "collapsed": false
      }
    },
    {
      "cell_type": "code",
      "source": [
        "(dfData\r\n",
        "    .write\r\n",
        "    .format(\"delta\")\r\n",
        "    .save(delta_table_path))"
      ],
      "outputs": [
        {
          "output_type": "display_data",
          "data": {
            "application/vnd.livy.statement-meta+json": {
              "spark_pool": "SampleSpark",
              "session_id": "9",
              "statement_id": 12,
              "state": "finished",
              "livy_statement_state": "available",
              "queued_time": "2023-05-01T14:41:30.600898Z",
              "session_start_time": null,
              "execution_start_time": "2023-05-01T14:41:30.7410214Z",
              "execution_finish_time": "2023-05-01T14:41:34.7708214Z",
              "spark_jobs": null,
              "parent_msg_id": "465e96a8-b5cb-4803-ad9b-ef5a2664d2ab"
            },
            "text/plain": "StatementMeta(SampleSpark, 9, 12, Finished, Available)"
          },
          "metadata": {}
        }
      ],
      "execution_count": 11,
      "metadata": {
        "jupyter": {
          "source_hidden": false,
          "outputs_hidden": false
        },
        "nteract": {
          "transient": {
            "deleting": false
          }
        }
      }
    },
    {
      "cell_type": "markdown",
      "source": [
        "Now, let's go look at what was created in the datalake using the FileExplorer.  \n",
        "\n",
        "\n",
        "## Understanding Meta-data\n",
        "\n",
        "In Delta Lake, meta-data is no different from data i.e., it is stored next to the data. Therefore, an interesting side-effect here is that you can peek into meta-data using regular Spark APIs. "
      ],
      "metadata": {}
    },
    {
      "cell_type": "code",
      "source": [
        "[log_line.value for log_line in spark.read.text(delta_table_path + \"/_delta_log/\").collect()]"
      ],
      "outputs": [
        {
          "output_type": "display_data",
          "data": {
            "application/vnd.livy.statement-meta+json": {
              "spark_pool": "SampleSpark",
              "session_id": "9",
              "statement_id": 13,
              "state": "finished",
              "livy_statement_state": "available",
              "queued_time": "2023-05-01T14:43:47.3402614Z",
              "session_start_time": null,
              "execution_start_time": "2023-05-01T14:43:47.4815368Z",
              "execution_finish_time": "2023-05-01T14:43:48.0264433Z",
              "spark_jobs": null,
              "parent_msg_id": "451dc607-2221-4e32-b9c2-1fcfc51e7de8"
            },
            "text/plain": "StatementMeta(SampleSpark, 9, 13, Finished, Available)"
          },
          "metadata": {}
        },
        {
          "output_type": "execute_result",
          "execution_count": 27,
          "data": {
            "text/plain": "['{\"commitInfo\":{\"timestamp\":1682952091741,\"operation\":\"WRITE\",\"operationParameters\":{\"mode\":\"ErrorIfExists\",\"partitionBy\":\"[]\"},\"isolationLevel\":\"Serializable\",\"isBlindAppend\":true,\"operationMetrics\":{\"numFiles\":\"6\",\"numOutputRows\":\"5\",\"numOutputBytes\":\"2686\"},\"engineInfo\":\"Apache-Spark/3.3.1.5.2-86323270 Delta-Lake/2.2.0.2\",\"txnId\":\"f7aa1d4b-e6b9-4fd1-b5c6-130d6bd83c6d\"}}',\n '{\"protocol\":{\"minReaderVersion\":1,\"minWriterVersion\":2}}',\n '{\"metaData\":{\"id\":\"62158500-1dd0-484e-b1f8-fc5d96d0d742\",\"format\":{\"provider\":\"parquet\",\"options\":{}},\"schemaString\":\"{\\\\\"type\\\\\":\\\\\"struct\\\\\",\\\\\"fields\\\\\":[{\\\\\"name\\\\\":\\\\\"id\\\\\",\\\\\"type\\\\\":\\\\\"long\\\\\",\\\\\"nullable\\\\\":true,\\\\\"metadata\\\\\":{}}]}\",\"partitionColumns\":[],\"configuration\":{},\"createdTime\":1682952091051}}',\n '{\"add\":{\"path\":\"part-00001-e77a500e-e216-42da-a44e-e5a64d338653-c000.snappy.parquet\",\"partitionValues\":{},\"size\":478,\"modificationTime\":1682952091622,\"dataChange\":true,\"stats\":\"{\\\\\"numRecords\\\\\":1,\\\\\"minValues\\\\\":{\\\\\"id\\\\\":0},\\\\\"maxValues\\\\\":{\\\\\"id\\\\\":0},\\\\\"nullCount\\\\\":{\\\\\"id\\\\\":0}}\",\"tags\":{}}}',\n '{\"add\":{\"path\":\"part-00003-1c3084a4-49b7-4320-8299-7fc5d071600b-c000.snappy.parquet\",\"partitionValues\":{},\"size\":478,\"modificationTime\":1682952091621,\"dataChange\":true,\"stats\":\"{\\\\\"numRecords\\\\\":1,\\\\\"minValues\\\\\":{\\\\\"id\\\\\":1},\\\\\"maxValues\\\\\":{\\\\\"id\\\\\":1},\\\\\"nullCount\\\\\":{\\\\\"id\\\\\":0}}\",\"tags\":{}}}',\n '{\"add\":{\"path\":\"part-00004-81d198bb-47ac-4795-87b8-3ead986e4b28-c000.snappy.parquet\",\"partitionValues\":{},\"size\":478,\"modificationTime\":1682952091621,\"dataChange\":true,\"stats\":\"{\\\\\"numRecords\\\\\":1,\\\\\"minValues\\\\\":{\\\\\"id\\\\\":2},\\\\\"maxValues\\\\\":{\\\\\"id\\\\\":2},\\\\\"nullCount\\\\\":{\\\\\"id\\\\\":0}}\",\"tags\":{}}}',\n '{\"add\":{\"path\":\"part-00006-1ce1bb0b-e800-41a3-ac5d-1286e531d3e4-c000.snappy.parquet\",\"partitionValues\":{},\"size\":478,\"modificationTime\":1682952091617,\"dataChange\":true,\"stats\":\"{\\\\\"numRecords\\\\\":1,\\\\\"minValues\\\\\":{\\\\\"id\\\\\":3},\\\\\"maxValues\\\\\":{\\\\\"id\\\\\":3},\\\\\"nullCount\\\\\":{\\\\\"id\\\\\":0}}\",\"tags\":{}}}',\n '{\"add\":{\"path\":\"part-00007-5187e66c-c723-4e6e-8032-3d528cffe61a-c000.snappy.parquet\",\"partitionValues\":{},\"size\":478,\"modificationTime\":1682952091624,\"dataChange\":true,\"stats\":\"{\\\\\"numRecords\\\\\":1,\\\\\"minValues\\\\\":{\\\\\"id\\\\\":4},\\\\\"maxValues\\\\\":{\\\\\"id\\\\\":4},\\\\\"nullCount\\\\\":{\\\\\"id\\\\\":0}}\",\"tags\":{}}}']"
          },
          "metadata": {}
        }
      ],
      "execution_count": 12,
      "metadata": {}
    },
    {
      "cell_type": "markdown",
      "source": [
        "## Read data\n",
        "\n",
        "You read data in your Delta Lake table by specifying the path to the files."
      ],
      "metadata": {}
    },
    {
      "cell_type": "code",
      "source": [
        "dfReader = (\n",
        "        spark\n",
        "            .read\n",
        "            .format(\"delta\")\n",
        "            .load(delta_table_path))\n",
        "display(dfReader)"
      ],
      "outputs": [
        {
          "output_type": "display_data",
          "data": {
            "application/vnd.livy.statement-meta+json": {
              "spark_pool": "SampleSpark",
              "session_id": "9",
              "statement_id": 14,
              "state": "finished",
              "livy_statement_state": "available",
              "queued_time": "2023-05-01T14:46:09.7787798Z",
              "session_start_time": null,
              "execution_start_time": "2023-05-01T14:46:09.9262971Z",
              "execution_finish_time": "2023-05-01T14:46:13.9827224Z",
              "spark_jobs": null,
              "parent_msg_id": "7b83960e-5ed2-4fe5-a5f4-a26c02be0f10"
            },
            "text/plain": "StatementMeta(SampleSpark, 9, 14, Finished, Available)"
          },
          "metadata": {}
        },
        {
          "output_type": "display_data",
          "data": {
            "application/vnd.synapse.widget-view+json": {
              "widget_id": "a9f2ef5c-9aca-4dcd-a74f-160f00c72580",
              "widget_type": "Synapse.DataFrame"
            },
            "text/plain": "SynapseWidget(Synapse.DataFrame, a9f2ef5c-9aca-4dcd-a74f-160f00c72580)"
          },
          "metadata": {}
        }
      ],
      "execution_count": 13,
      "metadata": {
        "collapsed": false
      }
    },
    {
      "cell_type": "markdown",
      "source": [
        "## Update table data\n",
        "\n",
        "Delta Lake supports several operations to modify tables using standard DataFrame APIs. This example runs a batch job to overwrite the data in the table.\n"
      ],
      "metadata": {}
    },
    {
      "cell_type": "code",
      "source": [
        "dfNewData = spark.range(5,10)\n",
        "(dfNewData\n",
        "    .write\n",
        "    .format(\"delta\")\n",
        "    .mode(\"overwrite\")\n",
        "    .save(delta_table_path))\n",
        "display(dfNewData)"
      ],
      "outputs": [
        {
          "output_type": "display_data",
          "data": {
            "application/vnd.livy.statement-meta+json": {
              "spark_pool": "SampleSpark",
              "session_id": "9",
              "statement_id": 15,
              "state": "finished",
              "livy_statement_state": "available",
              "queued_time": "2023-05-01T14:47:34.7017583Z",
              "session_start_time": null,
              "execution_start_time": "2023-05-01T14:47:34.8756212Z",
              "execution_finish_time": "2023-05-01T14:47:38.9220752Z",
              "spark_jobs": null,
              "parent_msg_id": "9874f1af-11ce-428b-acc8-a3282496ff3a"
            },
            "text/plain": "StatementMeta(SampleSpark, 9, 15, Finished, Available)"
          },
          "metadata": {}
        },
        {
          "output_type": "display_data",
          "data": {
            "application/vnd.synapse.widget-view+json": {
              "widget_id": "3cb187a8-3ec3-4733-8dfd-db80de0f7f89",
              "widget_type": "Synapse.DataFrame"
            },
            "text/plain": "SynapseWidget(Synapse.DataFrame, 3cb187a8-3ec3-4733-8dfd-db80de0f7f89)"
          },
          "metadata": {}
        }
      ],
      "execution_count": 14,
      "metadata": {
        "collapsed": false
      }
    },
    {
      "cell_type": "markdown",
      "source": [
        "Go look at the files again in the FileExplorer.  \r\n",
        "\r\n",
        "When you now inspect the meta-data, what you will notice is that the original data is over-written. Well, not in a true sense but appropriate entries are added to Delta's transaction log so it can provide an \"illusion\" that the original data was deleted. We can verify this by re-inspecting the meta-data. You will see several entries indicating reference removal to the original data."
      ],
      "metadata": {}
    },
    {
      "cell_type": "code",
      "source": [
        "[log_line.value for log_line in spark.read.text(delta_table_path + \"/_delta_log/\").collect()]"
      ],
      "outputs": [
        {
          "output_type": "display_data",
          "data": {
            "application/vnd.livy.statement-meta+json": {
              "spark_pool": "SampleSpark",
              "session_id": "9",
              "statement_id": 16,
              "state": "finished",
              "livy_statement_state": "available",
              "queued_time": "2023-05-01T14:49:44.1023042Z",
              "session_start_time": null,
              "execution_start_time": "2023-05-01T14:49:44.2475255Z",
              "execution_finish_time": "2023-05-01T14:49:44.8132036Z",
              "spark_jobs": null,
              "parent_msg_id": "6c079372-e3c1-4afd-9985-05cacc88befa"
            },
            "text/plain": "StatementMeta(SampleSpark, 9, 16, Finished, Available)"
          },
          "metadata": {}
        },
        {
          "output_type": "execute_result",
          "execution_count": 33,
          "data": {
            "text/plain": "['{\"commitInfo\":{\"timestamp\":1682952456240,\"operation\":\"WRITE\",\"operationParameters\":{\"mode\":\"Overwrite\",\"partitionBy\":\"[]\"},\"readVersion\":0,\"isolationLevel\":\"Serializable\",\"isBlindAppend\":false,\"operationMetrics\":{\"numFiles\":\"6\",\"numOutputRows\":\"5\",\"numOutputBytes\":\"2686\"},\"engineInfo\":\"Apache-Spark/3.3.1.5.2-86323270 Delta-Lake/2.2.0.2\",\"txnId\":\"83d98e82-1060-4387-be14-a7b062c55303\"}}',\n '{\"add\":{\"path\":\"part-00001-6d6ce37f-2526-4e49-b4b2-e5d4ab84fd77-c000.snappy.parquet\",\"partitionValues\":{},\"size\":478,\"modificationTime\":1682952455451,\"dataChange\":true,\"stats\":\"{\\\\\"numRecords\\\\\":1,\\\\\"minValues\\\\\":{\\\\\"id\\\\\":5},\\\\\"maxValues\\\\\":{\\\\\"id\\\\\":5},\\\\\"nullCount\\\\\":{\\\\\"id\\\\\":0}}\",\"tags\":{}}}',\n '{\"add\":{\"path\":\"part-00003-60b62020-eb96-46fd-9dec-5e3c544e57c0-c000.snappy.parquet\",\"partitionValues\":{},\"size\":478,\"modificationTime\":1682952455426,\"dataChange\":true,\"stats\":\"{\\\\\"numRecords\\\\\":1,\\\\\"minValues\\\\\":{\\\\\"id\\\\\":6},\\\\\"maxValues\\\\\":{\\\\\"id\\\\\":6},\\\\\"nullCount\\\\\":{\\\\\"id\\\\\":0}}\",\"tags\":{}}}',\n '{\"add\":{\"path\":\"part-00004-e23abd96-7a9b-493e-aa8f-ff2f3b0d4ec8-c000.snappy.parquet\",\"partitionValues\":{},\"size\":478,\"modificationTime\":1682952455427,\"dataChange\":true,\"stats\":\"{\\\\\"numRecords\\\\\":1,\\\\\"minValues\\\\\":{\\\\\"id\\\\\":7},\\\\\"maxValues\\\\\":{\\\\\"id\\\\\":7},\\\\\"nullCount\\\\\":{\\\\\"id\\\\\":0}}\",\"tags\":{}}}',\n '{\"add\":{\"path\":\"part-00006-eef85d46-dd31-44db-9a25-c04e5f32f6f8-c000.snappy.parquet\",\"partitionValues\":{},\"size\":478,\"modificationTime\":1682952455493,\"dataChange\":true,\"stats\":\"{\\\\\"numRecords\\\\\":1,\\\\\"minValues\\\\\":{\\\\\"id\\\\\":8},\\\\\"maxValues\\\\\":{\\\\\"id\\\\\":8},\\\\\"nullCount\\\\\":{\\\\\"id\\\\\":0}}\",\"tags\":{}}}',\n '{\"add\":{\"path\":\"part-00007-456fcb83-f071-47e8-bc6f-6bce713b5ce5-c000.snappy.parquet\",\"partitionValues\":{},\"size\":478,\"modificationTime\":1682952455428,\"dataChange\":true,\"stats\":\"{\\\\\"numRecords\\\\\":1,\\\\\"minValues\\\\\":{\\\\\"id\\\\\":9},\\\\\"maxValues\\\\\":{\\\\\"id\\\\\":9},\\\\\"nullCount\\\\\":{\\\\\"id\\\\\":0}}\",\"tags\":{}}}',\n '{\"remove\":{\"path\":\"part-00003-1c3084a4-49b7-4320-8299-7fc5d071600b-c000.snappy.parquet\",\"deletionTimestamp\":1682952456239,\"dataChange\":true,\"extendedFileMetadata\":true,\"partitionValues\":{},\"size\":478,\"tags\":{}}}',\n '{\"remove\":{\"path\":\"part-00006-1ce1bb0b-e800-41a3-ac5d-1286e531d3e4-c000.snappy.parquet\",\"deletionTimestamp\":1682952456239,\"dataChange\":true,\"extendedFileMetadata\":true,\"partitionValues\":{},\"size\":478,\"tags\":{}}}',\n '{\"remove\":{\"path\":\"part-00004-81d198bb-47ac-4795-87b8-3ead986e4b28-c000.snappy.parquet\",\"deletionTimestamp\":1682952456239,\"dataChange\":true,\"extendedFileMetadata\":true,\"partitionValues\":{},\"size\":478,\"tags\":{}}}',\n '{\"remove\":{\"path\":\"part-00001-e77a500e-e216-42da-a44e-e5a64d338653-c000.snappy.parquet\",\"deletionTimestamp\":1682952456239,\"dataChange\":true,\"extendedFileMetadata\":true,\"partitionValues\":{},\"size\":478,\"tags\":{}}}',\n '{\"remove\":{\"path\":\"part-00007-5187e66c-c723-4e6e-8032-3d528cffe61a-c000.snappy.parquet\",\"deletionTimestamp\":1682952456239,\"dataChange\":true,\"extendedFileMetadata\":true,\"partitionValues\":{},\"size\":478,\"tags\":{}}}',\n '{\"commitInfo\":{\"timestamp\":1682952091741,\"operation\":\"WRITE\",\"operationParameters\":{\"mode\":\"ErrorIfExists\",\"partitionBy\":\"[]\"},\"isolationLevel\":\"Serializable\",\"isBlindAppend\":true,\"operationMetrics\":{\"numFiles\":\"6\",\"numOutputRows\":\"5\",\"numOutputBytes\":\"2686\"},\"engineInfo\":\"Apache-Spark/3.3.1.5.2-86323270 Delta-Lake/2.2.0.2\",\"txnId\":\"f7aa1d4b-e6b9-4fd1-b5c6-130d6bd83c6d\"}}',\n '{\"protocol\":{\"minReaderVersion\":1,\"minWriterVersion\":2}}',\n '{\"metaData\":{\"id\":\"62158500-1dd0-484e-b1f8-fc5d96d0d742\",\"format\":{\"provider\":\"parquet\",\"options\":{}},\"schemaString\":\"{\\\\\"type\\\\\":\\\\\"struct\\\\\",\\\\\"fields\\\\\":[{\\\\\"name\\\\\":\\\\\"id\\\\\",\\\\\"type\\\\\":\\\\\"long\\\\\",\\\\\"nullable\\\\\":true,\\\\\"metadata\\\\\":{}}]}\",\"partitionColumns\":[],\"configuration\":{},\"createdTime\":1682952091051}}',\n '{\"add\":{\"path\":\"part-00001-e77a500e-e216-42da-a44e-e5a64d338653-c000.snappy.parquet\",\"partitionValues\":{},\"size\":478,\"modificationTime\":1682952091622,\"dataChange\":true,\"stats\":\"{\\\\\"numRecords\\\\\":1,\\\\\"minValues\\\\\":{\\\\\"id\\\\\":0},\\\\\"maxValues\\\\\":{\\\\\"id\\\\\":0},\\\\\"nullCount\\\\\":{\\\\\"id\\\\\":0}}\",\"tags\":{}}}',\n '{\"add\":{\"path\":\"part-00003-1c3084a4-49b7-4320-8299-7fc5d071600b-c000.snappy.parquet\",\"partitionValues\":{},\"size\":478,\"modificationTime\":1682952091621,\"dataChange\":true,\"stats\":\"{\\\\\"numRecords\\\\\":1,\\\\\"minValues\\\\\":{\\\\\"id\\\\\":1},\\\\\"maxValues\\\\\":{\\\\\"id\\\\\":1},\\\\\"nullCount\\\\\":{\\\\\"id\\\\\":0}}\",\"tags\":{}}}',\n '{\"add\":{\"path\":\"part-00004-81d198bb-47ac-4795-87b8-3ead986e4b28-c000.snappy.parquet\",\"partitionValues\":{},\"size\":478,\"modificationTime\":1682952091621,\"dataChange\":true,\"stats\":\"{\\\\\"numRecords\\\\\":1,\\\\\"minValues\\\\\":{\\\\\"id\\\\\":2},\\\\\"maxValues\\\\\":{\\\\\"id\\\\\":2},\\\\\"nullCount\\\\\":{\\\\\"id\\\\\":0}}\",\"tags\":{}}}',\n '{\"add\":{\"path\":\"part-00006-1ce1bb0b-e800-41a3-ac5d-1286e531d3e4-c000.snappy.parquet\",\"partitionValues\":{},\"size\":478,\"modificationTime\":1682952091617,\"dataChange\":true,\"stats\":\"{\\\\\"numRecords\\\\\":1,\\\\\"minValues\\\\\":{\\\\\"id\\\\\":3},\\\\\"maxValues\\\\\":{\\\\\"id\\\\\":3},\\\\\"nullCount\\\\\":{\\\\\"id\\\\\":0}}\",\"tags\":{}}}',\n '{\"add\":{\"path\":\"part-00007-5187e66c-c723-4e6e-8032-3d528cffe61a-c000.snappy.parquet\",\"partitionValues\":{},\"size\":478,\"modificationTime\":1682952091624,\"dataChange\":true,\"stats\":\"{\\\\\"numRecords\\\\\":1,\\\\\"minValues\\\\\":{\\\\\"id\\\\\":4},\\\\\"maxValues\\\\\":{\\\\\"id\\\\\":4},\\\\\"nullCount\\\\\":{\\\\\"id\\\\\":0}}\",\"tags\":{}}}']"
          },
          "metadata": {}
        }
      ],
      "execution_count": 15,
      "metadata": {}
    },
    {
      "cell_type": "markdown",
      "source": [
        "## Let's make this a little more complicated and do something real with the data"
      ],
      "metadata": {
        "nteract": {
          "transient": {
            "deleting": false
          }
        }
      }
    },
    {
      "cell_type": "code",
      "source": [
        "#changeme\r\n",
        "whoami = \"davew\"\r\n",
        "sandboxRoot = \"abfss://defaultfs@asadatalakedavew891.dfs.core.windows.net\"\r\n",
        "\r\n",
        "delta_table_path = \"{}/deltaExample/cities-{}\".format(sandboxRoot,whoami)\r\n",
        "delta_table_path\r\n",
        "\r\n",
        "# this \"trick\" is how we pass variables from pySpark cells to SparkSQL cells\r\n",
        "# I use the nv namespace so I know these are \"notebook variables\"\r\n",
        "# and I always keep the variable names the same to ease confusion later\r\n",
        "\r\n",
        "spark.conf.set(\"nv.delta_table_path\", delta_table_path)\r\n"
      ],
      "outputs": [
        {
          "output_type": "display_data",
          "data": {
            "application/vnd.livy.statement-meta+json": {
              "spark_pool": "SampleSpark",
              "session_id": "9",
              "statement_id": 20,
              "state": "finished",
              "livy_statement_state": "available",
              "queued_time": "2023-05-01T15:04:11.1752559Z",
              "session_start_time": null,
              "execution_start_time": "2023-05-01T15:04:11.3114381Z",
              "execution_finish_time": "2023-05-01T15:04:11.5001568Z",
              "spark_jobs": null,
              "parent_msg_id": "a2967308-344c-4b06-b5a2-e3d25281e1ef"
            },
            "text/plain": "StatementMeta(SampleSpark, 9, 20, Finished, Available)"
          },
          "metadata": {}
        }
      ],
      "execution_count": 19,
      "metadata": {
        "jupyter": {
          "source_hidden": false,
          "outputs_hidden": false
        },
        "nteract": {
          "transient": {
            "deleting": false
          }
        }
      }
    },
    {
      "cell_type": "markdown",
      "source": [
        "Now we can use the variable in SparkSQL.  Here's the syntax:  "
      ],
      "metadata": {
        "nteract": {
          "transient": {
            "deleting": false
          }
        }
      }
    },
    {
      "cell_type": "code",
      "source": [
        "%%sql\r\n",
        "select \"${nv.delta_table_path}\" as delta_table_path"
      ],
      "outputs": [
        {
          "output_type": "display_data",
          "data": {
            "application/vnd.livy.statement-meta+json": {
              "spark_pool": "SampleSpark",
              "session_id": "9",
              "statement_id": 23,
              "state": "finished",
              "livy_statement_state": "available",
              "queued_time": "2023-05-01T15:05:15.1716837Z",
              "session_start_time": null,
              "execution_start_time": "2023-05-01T15:05:15.3441511Z",
              "execution_finish_time": "2023-05-01T15:05:15.8701284Z",
              "spark_jobs": null,
              "parent_msg_id": "0e072114-88c6-430a-a532-115e43bfe99c"
            },
            "text/plain": "StatementMeta(SampleSpark, 9, 23, Finished, Available)"
          },
          "metadata": {}
        },
        {
          "output_type": "execute_result",
          "execution_count": 22,
          "data": {
            "application/vnd.synapse.sparksql-result+json": {
              "schema": {
                "type": "struct",
                "fields": [
                  {
                    "name": "delta_table_path",
                    "type": "string",
                    "nullable": false,
                    "metadata": {}
                  }
                ]
              },
              "data": [
                [
                  "abfss://defaultfs@asadatalakedavew891.dfs.core.windows.net/deltaExample/cities-davew"
                ]
              ]
            },
            "text/plain": "<Spark SQL result set with 1 rows and 1 fields>"
          },
          "metadata": {}
        }
      ],
      "execution_count": 22,
      "metadata": {
        "jupyter": {
          "source_hidden": false,
          "outputs_hidden": false
        },
        "nteract": {
          "transient": {
            "deleting": false
          }
        },
        "microsoft": {
          "language": "sparksql"
        },
        "collapsed": false
      }
    },
    {
      "cell_type": "code",
      "source": [
        "%%sql\r\n",
        "\r\n",
        "CREATE TABLE cities  (name STRING, population INT) USING DELTA LOCATION '${nv.delta_table_path}'"
      ],
      "outputs": [
        {
          "output_type": "display_data",
          "data": {
            "application/vnd.livy.statement-meta+json": {
              "spark_pool": "SampleSpark",
              "session_id": "9",
              "statement_id": 25,
              "state": "finished",
              "livy_statement_state": "available",
              "queued_time": "2023-05-01T15:06:24.7797744Z",
              "session_start_time": null,
              "execution_start_time": "2023-05-01T15:06:24.9469596Z",
              "execution_finish_time": "2023-05-01T15:06:41.8117135Z",
              "spark_jobs": null,
              "parent_msg_id": "d4c17538-1584-46be-bd3f-89ac8389e253"
            },
            "text/plain": "StatementMeta(SampleSpark, 9, 25, Finished, Available)"
          },
          "metadata": {}
        },
        {
          "output_type": "execute_result",
          "execution_count": 24,
          "data": {
            "application/vnd.synapse.sparksql-result+json": {
              "schema": {
                "type": "struct",
                "fields": []
              },
              "data": []
            },
            "text/plain": "<Spark SQL result set with 0 rows and 0 fields>"
          },
          "metadata": {}
        }
      ],
      "execution_count": 24,
      "metadata": {
        "jupyter": {
          "source_hidden": false,
          "outputs_hidden": false
        },
        "nteract": {
          "transient": {
            "deleting": false
          }
        },
        "microsoft": {
          "language": "sparksql"
        },
        "collapsed": false
      }
    },
    {
      "cell_type": "markdown",
      "source": [
        "Now, go see what shows up in the FileExplorer"
      ],
      "metadata": {
        "nteract": {
          "transient": {
            "deleting": false
          }
        }
      }
    },
    {
      "cell_type": "code",
      "source": [
        "%%sql\r\n",
        "\r\n",
        "INSERT INTO cities VALUES \r\n",
        "    ('Seattle', 730400), \r\n",
        "    ('San Francisco', 881549), \r\n",
        "    ('Beijing', 21540000), \r\n",
        "    ('Bangalore', 10540000)"
      ],
      "outputs": [
        {
          "output_type": "display_data",
          "data": {
            "application/vnd.livy.statement-meta+json": {
              "spark_pool": "SampleSpark",
              "session_id": "9",
              "statement_id": 26,
              "state": "finished",
              "livy_statement_state": "available",
              "queued_time": "2023-05-01T15:09:04.0177871Z",
              "session_start_time": null,
              "execution_start_time": "2023-05-01T15:09:04.2200785Z",
              "execution_finish_time": "2023-05-01T15:09:08.2244148Z",
              "spark_jobs": null,
              "parent_msg_id": "eaa82652-fbf9-49a2-bb9b-ad0ea68fbbc3"
            },
            "text/plain": "StatementMeta(SampleSpark, 9, 26, Finished, Available)"
          },
          "metadata": {}
        },
        {
          "output_type": "execute_result",
          "execution_count": 25,
          "data": {
            "application/vnd.synapse.sparksql-result+json": {
              "schema": {
                "type": "struct",
                "fields": []
              },
              "data": []
            },
            "text/plain": "<Spark SQL result set with 0 rows and 0 fields>"
          },
          "metadata": {}
        }
      ],
      "execution_count": 25,
      "metadata": {
        "jupyter": {
          "source_hidden": false,
          "outputs_hidden": false
        },
        "nteract": {
          "transient": {
            "deleting": false
          }
        },
        "microsoft": {
          "language": "sparksql"
        },
        "collapsed": false
      }
    },
    {
      "cell_type": "markdown",
      "source": [
        "Again, what shows up in the lake?  "
      ],
      "metadata": {
        "nteract": {
          "transient": {
            "deleting": false
          }
        }
      }
    },
    {
      "cell_type": "code",
      "source": [
        "%%sql \r\n",
        "\r\n",
        "SELECT * FROM cities ORDER BY name"
      ],
      "outputs": [
        {
          "output_type": "display_data",
          "data": {
            "application/vnd.livy.statement-meta+json": {
              "spark_pool": "SampleSpark",
              "session_id": "9",
              "statement_id": 27,
              "state": "finished",
              "livy_statement_state": "available",
              "queued_time": "2023-05-01T15:10:07.046338Z",
              "session_start_time": null,
              "execution_start_time": "2023-05-01T15:10:07.1909479Z",
              "execution_finish_time": "2023-05-01T15:10:09.0320759Z",
              "spark_jobs": null,
              "parent_msg_id": "2a40c112-eb05-471d-aad4-c23757e9f45b"
            },
            "text/plain": "StatementMeta(SampleSpark, 9, 27, Finished, Available)"
          },
          "metadata": {}
        },
        {
          "output_type": "execute_result",
          "execution_count": 26,
          "data": {
            "application/vnd.synapse.sparksql-result+json": {
              "schema": {
                "type": "struct",
                "fields": [
                  {
                    "name": "name",
                    "type": "string",
                    "nullable": true,
                    "metadata": {}
                  },
                  {
                    "name": "population",
                    "type": "integer",
                    "nullable": true,
                    "metadata": {}
                  }
                ]
              },
              "data": [
                [
                  "Bangalore",
                  10540000
                ],
                [
                  "Beijing",
                  21540000
                ],
                [
                  "San Francisco",
                  881549
                ],
                [
                  "Seattle",
                  730400
                ]
              ]
            },
            "text/plain": "<Spark SQL result set with 4 rows and 2 fields>"
          },
          "metadata": {}
        }
      ],
      "execution_count": 26,
      "metadata": {
        "jupyter": {
          "source_hidden": false,
          "outputs_hidden": false
        },
        "nteract": {
          "transient": {
            "deleting": false
          }
        },
        "microsoft": {
          "language": "sparksql"
        },
        "collapsed": false
      }
    },
    {
      "cell_type": "markdown",
      "source": [
        "What we created is actually called a `managed table` which means that this table is automatically created in the defaut lake database and is available to any user with SQL Serverless access.  \r\n",
        "\r\n",
        "Let me show you.  \r\n",
        "\r\n",
        "**If at this point we ran `DROP TABLE cities` the net effect would be the table is dropped from the lake database AND the data is removed from the datalake path**\r\n",
        "\r\n",
        "These \"managed tables\" are sometimes known as `catalog tables`.  \"Managed\" just means anything we do to the lake data with SQL will be reflected in the underlying lake file structures.  \r\n"
      ],
      "metadata": {
        "nteract": {
          "transient": {
            "deleting": false
          }
        }
      }
    },
    {
      "cell_type": "code",
      "source": [
        "%%sql\r\n",
        "\r\n",
        "SHOW TABLES;\r\n",
        "DESCRIBE TABLE cities;"
      ],
      "outputs": [
        {
          "output_type": "display_data",
          "data": {
            "application/vnd.livy.statement-meta+json": {
              "spark_pool": null,
              "session_id": "9",
              "statement_id": -1,
              "state": "finished",
              "livy_statement_state": "available",
              "queued_time": "2023-05-01T15:36:51.6591859Z",
              "session_start_time": null,
              "execution_start_time": "2023-05-01T15:36:54.2824346Z",
              "execution_finish_time": "2023-05-01T15:36:54.2827057Z",
              "spark_jobs": null,
              "parent_msg_id": "046ae729-6a72-4ead-a142-5064eca03078"
            },
            "text/plain": "StatementMeta(, 9, -1, Finished, Available)"
          },
          "metadata": {}
        },
        {
          "output_type": "execute_result",
          "execution_count": 28,
          "data": {
            "application/vnd.synapse.sparksql-result+json": {
              "schema": {
                "type": "struct",
                "fields": [
                  {
                    "name": "namespace",
                    "type": "string",
                    "nullable": false,
                    "metadata": {}
                  },
                  {
                    "name": "tableName",
                    "type": "string",
                    "nullable": false,
                    "metadata": {}
                  },
                  {
                    "name": "isTemporary",
                    "type": "boolean",
                    "nullable": false,
                    "metadata": {}
                  }
                ]
              },
              "data": [
                [
                  "default",
                  "cities",
                  false
                ]
              ]
            },
            "text/plain": "<Spark SQL result set with 1 rows and 3 fields>"
          },
          "metadata": {}
        },
        {
          "output_type": "execute_result",
          "execution_count": 28,
          "data": {
            "application/vnd.synapse.sparksql-result+json": {
              "schema": {
                "type": "struct",
                "fields": [
                  {
                    "name": "col_name",
                    "type": "string",
                    "nullable": false,
                    "metadata": {
                      "comment": "name of the column"
                    }
                  },
                  {
                    "name": "data_type",
                    "type": "string",
                    "nullable": false,
                    "metadata": {
                      "comment": "data type of the column"
                    }
                  },
                  {
                    "name": "comment",
                    "type": "string",
                    "nullable": true,
                    "metadata": {
                      "comment": "comment of the column"
                    }
                  }
                ]
              },
              "data": [
                [
                  "name",
                  "string",
                  ""
                ],
                [
                  "population",
                  "int",
                  ""
                ],
                [
                  "",
                  "",
                  ""
                ],
                [
                  "# Partitioning",
                  "",
                  ""
                ],
                [
                  "Not partitioned",
                  "",
                  ""
                ]
              ]
            },
            "text/plain": "<Spark SQL result set with 5 rows and 3 fields>"
          },
          "metadata": {}
        }
      ],
      "execution_count": 28,
      "metadata": {
        "jupyter": {
          "source_hidden": false,
          "outputs_hidden": false
        },
        "nteract": {
          "transient": {
            "deleting": false
          }
        },
        "microsoft": {
          "language": "sparksql"
        },
        "collapsed": false
      }
    },
    {
      "cell_type": "code",
      "source": [
        "%%sql\r\n",
        "\r\n",
        "DESCRIBE EXTENDED Cities;"
      ],
      "outputs": [
        {
          "output_type": "display_data",
          "data": {
            "application/vnd.livy.statement-meta+json": {
              "spark_pool": "SampleSpark",
              "session_id": "9",
              "statement_id": 94,
              "state": "finished",
              "livy_statement_state": "available",
              "queued_time": "2023-05-01T15:37:37.8255811Z",
              "session_start_time": null,
              "execution_start_time": "2023-05-01T15:37:37.9569788Z",
              "execution_finish_time": "2023-05-01T15:37:39.0739836Z",
              "spark_jobs": null,
              "parent_msg_id": "8b5859c4-47d0-402a-95a2-a1808508dfa2"
            },
            "text/plain": "StatementMeta(SampleSpark, 9, 94, Finished, Available)"
          },
          "metadata": {}
        },
        {
          "output_type": "execute_result",
          "execution_count": 29,
          "data": {
            "application/vnd.synapse.sparksql-result+json": {
              "schema": {
                "type": "struct",
                "fields": [
                  {
                    "name": "col_name",
                    "type": "string",
                    "nullable": false,
                    "metadata": {
                      "comment": "name of the column"
                    }
                  },
                  {
                    "name": "data_type",
                    "type": "string",
                    "nullable": false,
                    "metadata": {
                      "comment": "data type of the column"
                    }
                  },
                  {
                    "name": "comment",
                    "type": "string",
                    "nullable": true,
                    "metadata": {
                      "comment": "comment of the column"
                    }
                  }
                ]
              },
              "data": [
                [
                  "name",
                  "string",
                  ""
                ],
                [
                  "population",
                  "int",
                  ""
                ],
                [
                  "",
                  "",
                  ""
                ],
                [
                  "# Partitioning",
                  "",
                  ""
                ],
                [
                  "Not partitioned",
                  "",
                  ""
                ],
                [
                  "",
                  "",
                  ""
                ],
                [
                  "# Detailed Table Information",
                  "",
                  ""
                ],
                [
                  "Name",
                  "default.cities",
                  ""
                ],
                [
                  "Location",
                  "abfss://defaultfs@asadatalakedavew891.dfs.core.windows.net/deltaExample/cities-davew",
                  ""
                ],
                [
                  "Provider",
                  "delta",
                  ""
                ],
                [
                  "Owner",
                  "trusted-service-user",
                  ""
                ],
                [
                  "External",
                  "true",
                  ""
                ],
                [
                  "Table Properties",
                  "[delta.minReaderVersion=1,delta.minWriterVersion=2]",
                  ""
                ]
              ]
            },
            "text/plain": "<Spark SQL result set with 13 rows and 3 fields>"
          },
          "metadata": {}
        }
      ],
      "execution_count": 29,
      "metadata": {
        "jupyter": {
          "source_hidden": false,
          "outputs_hidden": false
        },
        "nteract": {
          "transient": {
            "deleting": false
          }
        },
        "microsoft": {
          "language": "sparksql"
        },
        "collapsed": false
      }
    },
    {
      "cell_type": "code",
      "source": [
        "# the truncation of certain SQL commands like DESCRIBE can be annoying.  Here's one fix:\r\n",
        "spark.sql(\"DESCRIBE EXTENDED cities\").show(truncate=False)"
      ],
      "outputs": [
        {
          "output_type": "display_data",
          "data": {
            "application/vnd.livy.statement-meta+json": {
              "spark_pool": "SampleSpark",
              "session_id": "9",
              "statement_id": 116,
              "state": "finished",
              "livy_statement_state": "available",
              "queued_time": "2023-05-01T15:45:28.8117417Z",
              "session_start_time": null,
              "execution_start_time": "2023-05-01T15:45:28.9541868Z",
              "execution_finish_time": "2023-05-01T15:45:30.0553138Z",
              "spark_jobs": null,
              "parent_msg_id": "9f727ebd-be65-4601-8b8f-a029c4416939"
            },
            "text/plain": "StatementMeta(SampleSpark, 9, 116, Finished, Available)"
          },
          "metadata": {}
        },
        {
          "output_type": "stream",
          "name": "stdout",
          "text": [
            "+----------------------------+------------------------------------------------------------------------------------+-------+\n|col_name                    |data_type                                                                           |comment|\n+----------------------------+------------------------------------------------------------------------------------+-------+\n|name                        |string                                                                              |       |\n|population                  |int                                                                                 |       |\n|                            |                                                                                    |       |\n|# Partitioning              |                                                                                    |       |\n|Not partitioned             |                                                                                    |       |\n|                            |                                                                                    |       |\n|# Detailed Table Information|                                                                                    |       |\n|Name                        |default.cities                                                                      |       |\n|Location                    |abfss://defaultfs@asadatalakedavew891.dfs.core.windows.net/deltaExample/cities-davew|       |\n|Provider                    |delta                                                                               |       |\n|Owner                       |trusted-service-user                                                                |       |\n|External                    |true                                                                                |       |\n|Table Properties            |[delta.minReaderVersion=1,delta.minWriterVersion=2]                                 |       |\n+----------------------------+------------------------------------------------------------------------------------+-------+\n\n"
          ]
        }
      ],
      "execution_count": 30,
      "metadata": {
        "jupyter": {
          "source_hidden": false,
          "outputs_hidden": false
        },
        "nteract": {
          "transient": {
            "deleting": false
          }
        }
      }
    },
    {
      "cell_type": "code",
      "source": [
        "%%sql\r\n",
        "\r\n",
        "DESCRIBE DETAIL cities"
      ],
      "outputs": [
        {
          "output_type": "display_data",
          "data": {
            "application/vnd.livy.statement-meta+json": {
              "spark_pool": "SampleSpark",
              "session_id": "9",
              "statement_id": 390,
              "state": "finished",
              "livy_statement_state": "available",
              "queued_time": "2023-05-01T17:10:29.634582Z",
              "session_start_time": null,
              "execution_start_time": "2023-05-01T17:10:29.7961467Z",
              "execution_finish_time": "2023-05-01T17:10:30.940128Z",
              "spark_jobs": null,
              "parent_msg_id": "80ca407d-3475-461c-b044-60767ed7ace0"
            },
            "text/plain": "StatementMeta(SampleSpark, 9, 390, Finished, Available)"
          },
          "metadata": {}
        },
        {
          "output_type": "execute_result",
          "execution_count": 68,
          "data": {
            "application/vnd.synapse.sparksql-result+json": {
              "schema": {
                "type": "struct",
                "fields": [
                  {
                    "name": "format",
                    "type": "string",
                    "nullable": true,
                    "metadata": {}
                  },
                  {
                    "name": "id",
                    "type": "string",
                    "nullable": true,
                    "metadata": {}
                  },
                  {
                    "name": "name",
                    "type": "string",
                    "nullable": true,
                    "metadata": {}
                  },
                  {
                    "name": "description",
                    "type": "string",
                    "nullable": true,
                    "metadata": {}
                  },
                  {
                    "name": "location",
                    "type": "string",
                    "nullable": true,
                    "metadata": {}
                  },
                  {
                    "name": "createdAt",
                    "type": "timestamp",
                    "nullable": true,
                    "metadata": {}
                  },
                  {
                    "name": "lastModified",
                    "type": "timestamp",
                    "nullable": true,
                    "metadata": {}
                  },
                  {
                    "name": "partitionColumns",
                    "type": {
                      "type": "array",
                      "elementType": "string",
                      "containsNull": true
                    },
                    "nullable": true,
                    "metadata": {}
                  },
                  {
                    "name": "numFiles",
                    "type": "long",
                    "nullable": true,
                    "metadata": {}
                  },
                  {
                    "name": "sizeInBytes",
                    "type": "long",
                    "nullable": true,
                    "metadata": {}
                  },
                  {
                    "name": "properties",
                    "type": {
                      "type": "map",
                      "keyType": "string",
                      "valueType": "string",
                      "valueContainsNull": true
                    },
                    "nullable": true,
                    "metadata": {}
                  },
                  {
                    "name": "minReaderVersion",
                    "type": "integer",
                    "nullable": true,
                    "metadata": {}
                  },
                  {
                    "name": "minWriterVersion",
                    "type": "integer",
                    "nullable": true,
                    "metadata": {}
                  }
                ]
              },
              "data": [
                [
                  "delta",
                  "7684d987-dc6c-44cd-ad55-981460b8740a",
                  "default.cities",
                  null,
                  "abfss://defaultfs@asadatalakedavew891.dfs.core.windows.net/deltaExample/cities-davew",
                  "2023-05-01T15:06:37Z",
                  "2023-05-01T15:54:28Z",
                  [],
                  "3",
                  "2252",
                  {},
                  1,
                  2
                ]
              ]
            },
            "text/plain": "<Spark SQL result set with 1 rows and 13 fields>"
          },
          "metadata": {}
        }
      ],
      "execution_count": 68,
      "metadata": {
        "jupyter": {
          "source_hidden": false,
          "outputs_hidden": false
        },
        "nteract": {
          "transient": {
            "deleting": false
          }
        },
        "microsoft": {
          "language": "sparksql"
        },
        "collapsed": false
      }
    },
    {
      "cell_type": "markdown",
      "source": [
        "## Updates\n",
        "\n",
        "You can update, delete, and merge (upsert) data into tables. "
      ],
      "metadata": {}
    },
    {
      "cell_type": "code",
      "source": [
        "%%sql\r\n",
        "\r\n",
        "-- increase every cities population by 10%\r\n",
        "UPDATE cities SET population = population * 1.10"
      ],
      "outputs": [
        {
          "output_type": "display_data",
          "data": {
            "application/vnd.livy.statement-meta+json": {
              "spark_pool": "SampleSpark",
              "session_id": "9",
              "statement_id": 226,
              "state": "finished",
              "livy_statement_state": "available",
              "queued_time": "2023-05-01T15:53:31.8829806Z",
              "session_start_time": null,
              "execution_start_time": "2023-05-01T15:53:32.0173623Z",
              "execution_finish_time": "2023-05-01T15:53:36.0168296Z",
              "spark_jobs": null,
              "parent_msg_id": "3926ff67-16b9-4119-8513-b478ffbb75c4"
            },
            "text/plain": "StatementMeta(SampleSpark, 9, 226, Finished, Available)"
          },
          "metadata": {}
        },
        {
          "output_type": "execute_result",
          "execution_count": 35,
          "data": {
            "application/vnd.synapse.sparksql-result+json": {
              "schema": {
                "type": "struct",
                "fields": [
                  {
                    "name": "num_affected_rows",
                    "type": "long",
                    "nullable": true,
                    "metadata": {}
                  }
                ]
              },
              "data": [
                [
                  "4"
                ]
              ]
            },
            "text/plain": "<Spark SQL result set with 1 rows and 1 fields>"
          },
          "metadata": {}
        }
      ],
      "execution_count": 35,
      "metadata": {
        "jupyter": {
          "source_hidden": false,
          "outputs_hidden": false
        },
        "nteract": {
          "transient": {
            "deleting": false
          }
        },
        "microsoft": {
          "language": "sparksql"
        },
        "collapsed": false
      }
    },
    {
      "cell_type": "code",
      "source": [
        "%%sql\r\n",
        "\r\n",
        "SELECT * FROM cities;"
      ],
      "outputs": [
        {
          "output_type": "display_data",
          "data": {
            "application/vnd.livy.statement-meta+json": {
              "spark_pool": "SampleSpark",
              "session_id": "9",
              "statement_id": 240,
              "state": "finished",
              "livy_statement_state": "available",
              "queued_time": "2023-05-01T15:53:41.7047559Z",
              "session_start_time": null,
              "execution_start_time": "2023-05-01T15:53:41.9912739Z",
              "execution_finish_time": "2023-05-01T15:53:43.8442826Z",
              "spark_jobs": null,
              "parent_msg_id": "9f4c343c-8eb4-4070-a148-ef5956388c17"
            },
            "text/plain": "StatementMeta(SampleSpark, 9, 240, Finished, Available)"
          },
          "metadata": {}
        },
        {
          "output_type": "execute_result",
          "execution_count": 36,
          "data": {
            "application/vnd.synapse.sparksql-result+json": {
              "schema": {
                "type": "struct",
                "fields": [
                  {
                    "name": "name",
                    "type": "string",
                    "nullable": true,
                    "metadata": {}
                  },
                  {
                    "name": "population",
                    "type": "integer",
                    "nullable": true,
                    "metadata": {}
                  }
                ]
              },
              "data": [
                [
                  "San Francisco",
                  9696
                ],
                [
                  "Bangalore",
                  115940
                ],
                [
                  "Beijing",
                  236940
                ],
                [
                  "Seattle",
                  8034
                ]
              ]
            },
            "text/plain": "<Spark SQL result set with 4 rows and 2 fields>"
          },
          "metadata": {}
        }
      ],
      "execution_count": 36,
      "metadata": {
        "jupyter": {
          "source_hidden": false,
          "outputs_hidden": false
        },
        "nteract": {
          "transient": {
            "deleting": false
          }
        },
        "microsoft": {
          "language": "sparksql"
        },
        "collapsed": false
      }
    },
    {
      "cell_type": "code",
      "source": [
        "%%sql\r\n",
        "\r\n",
        "DELETE FROM cities WHERE name = 'Seattle'"
      ],
      "outputs": [
        {
          "output_type": "display_data",
          "data": {
            "application/vnd.livy.statement-meta+json": {
              "spark_pool": "SampleSpark",
              "session_id": "9",
              "statement_id": 270,
              "state": "finished",
              "livy_statement_state": "available",
              "queued_time": "2023-05-01T15:54:25.8273496Z",
              "session_start_time": null,
              "execution_start_time": "2023-05-01T15:54:25.9544672Z",
              "execution_finish_time": "2023-05-01T15:54:31.4186212Z",
              "spark_jobs": null,
              "parent_msg_id": "25119f07-2190-491a-9d0f-6b59887937b9"
            },
            "text/plain": "StatementMeta(SampleSpark, 9, 270, Finished, Available)"
          },
          "metadata": {}
        },
        {
          "output_type": "execute_result",
          "execution_count": 37,
          "data": {
            "application/vnd.synapse.sparksql-result+json": {
              "schema": {
                "type": "struct",
                "fields": [
                  {
                    "name": "num_affected_rows",
                    "type": "long",
                    "nullable": true,
                    "metadata": {}
                  }
                ]
              },
              "data": [
                [
                  "1"
                ]
              ]
            },
            "text/plain": "<Spark SQL result set with 1 rows and 1 fields>"
          },
          "metadata": {}
        }
      ],
      "execution_count": 37,
      "metadata": {
        "jupyter": {
          "source_hidden": false,
          "outputs_hidden": false
        },
        "nteract": {
          "transient": {
            "deleting": false
          }
        },
        "microsoft": {
          "language": "sparksql"
        },
        "collapsed": false
      }
    },
    {
      "cell_type": "code",
      "source": [
        "%%sql \r\n",
        "\r\n",
        "SELECT * FROM cities;"
      ],
      "outputs": [
        {
          "output_type": "display_data",
          "data": {
            "application/vnd.livy.statement-meta+json": {
              "spark_pool": "SampleSpark",
              "session_id": "9",
              "statement_id": 292,
              "state": "finished",
              "livy_statement_state": "available",
              "queued_time": "2023-05-01T15:54:56.3092244Z",
              "session_start_time": null,
              "execution_start_time": "2023-05-01T15:54:56.4382112Z",
              "execution_finish_time": "2023-05-01T15:54:58.3035484Z",
              "spark_jobs": null,
              "parent_msg_id": "72ffdfaa-cb5c-48ad-859b-f4bb19245eec"
            },
            "text/plain": "StatementMeta(SampleSpark, 9, 292, Finished, Available)"
          },
          "metadata": {}
        },
        {
          "output_type": "execute_result",
          "execution_count": 38,
          "data": {
            "application/vnd.synapse.sparksql-result+json": {
              "schema": {
                "type": "struct",
                "fields": [
                  {
                    "name": "name",
                    "type": "string",
                    "nullable": true,
                    "metadata": {}
                  },
                  {
                    "name": "population",
                    "type": "integer",
                    "nullable": true,
                    "metadata": {}
                  }
                ]
              },
              "data": [
                [
                  "San Francisco",
                  9696
                ],
                [
                  "Bangalore",
                  115940
                ],
                [
                  "Beijing",
                  236940
                ]
              ]
            },
            "text/plain": "<Spark SQL result set with 3 rows and 2 fields>"
          },
          "metadata": {}
        }
      ],
      "execution_count": 38,
      "metadata": {
        "jupyter": {
          "source_hidden": false,
          "outputs_hidden": false
        },
        "nteract": {
          "transient": {
            "deleting": false
          }
        },
        "microsoft": {
          "language": "sparksql"
        },
        "collapsed": false
      }
    },
    {
      "cell_type": "code",
      "source": [
        "%%sql\r\n",
        "\r\n",
        "DESCRIBE DETAIL cities"
      ],
      "outputs": [
        {
          "output_type": "display_data",
          "data": {
            "application/vnd.livy.statement-meta+json": {
              "spark_pool": "SampleSpark",
              "session_id": "9",
              "statement_id": 388,
              "state": "finished",
              "livy_statement_state": "available",
              "queued_time": "2023-05-01T17:09:55.0008334Z",
              "session_start_time": null,
              "execution_start_time": "2023-05-01T17:09:55.1455698Z",
              "execution_finish_time": "2023-05-01T17:09:59.1338381Z",
              "spark_jobs": null,
              "parent_msg_id": "17a1365e-044a-4a00-9d53-ced8122239b6"
            },
            "text/plain": "StatementMeta(SampleSpark, 9, 388, Finished, Available)"
          },
          "metadata": {}
        },
        {
          "output_type": "execute_result",
          "execution_count": 67,
          "data": {
            "application/vnd.synapse.sparksql-result+json": {
              "schema": {
                "type": "struct",
                "fields": [
                  {
                    "name": "format",
                    "type": "string",
                    "nullable": true,
                    "metadata": {}
                  },
                  {
                    "name": "id",
                    "type": "string",
                    "nullable": true,
                    "metadata": {}
                  },
                  {
                    "name": "name",
                    "type": "string",
                    "nullable": true,
                    "metadata": {}
                  },
                  {
                    "name": "description",
                    "type": "string",
                    "nullable": true,
                    "metadata": {}
                  },
                  {
                    "name": "location",
                    "type": "string",
                    "nullable": true,
                    "metadata": {}
                  },
                  {
                    "name": "createdAt",
                    "type": "timestamp",
                    "nullable": true,
                    "metadata": {}
                  },
                  {
                    "name": "lastModified",
                    "type": "timestamp",
                    "nullable": true,
                    "metadata": {}
                  },
                  {
                    "name": "partitionColumns",
                    "type": {
                      "type": "array",
                      "elementType": "string",
                      "containsNull": true
                    },
                    "nullable": true,
                    "metadata": {}
                  },
                  {
                    "name": "numFiles",
                    "type": "long",
                    "nullable": true,
                    "metadata": {}
                  },
                  {
                    "name": "sizeInBytes",
                    "type": "long",
                    "nullable": true,
                    "metadata": {}
                  },
                  {
                    "name": "properties",
                    "type": {
                      "type": "map",
                      "keyType": "string",
                      "valueType": "string",
                      "valueContainsNull": true
                    },
                    "nullable": true,
                    "metadata": {}
                  },
                  {
                    "name": "minReaderVersion",
                    "type": "integer",
                    "nullable": true,
                    "metadata": {}
                  },
                  {
                    "name": "minWriterVersion",
                    "type": "integer",
                    "nullable": true,
                    "metadata": {}
                  }
                ]
              },
              "data": [
                [
                  "delta",
                  "7684d987-dc6c-44cd-ad55-981460b8740a",
                  "default.cities",
                  null,
                  "abfss://defaultfs@asadatalakedavew891.dfs.core.windows.net/deltaExample/cities-davew",
                  "2023-05-01T15:06:37Z",
                  "2023-05-01T15:54:28Z",
                  [],
                  "3",
                  "2252",
                  {},
                  1,
                  2
                ]
              ]
            },
            "text/plain": "<Spark SQL result set with 1 rows and 13 fields>"
          },
          "metadata": {}
        }
      ],
      "execution_count": 67,
      "metadata": {
        "jupyter": {
          "source_hidden": false,
          "outputs_hidden": false
        },
        "nteract": {
          "transient": {
            "deleting": false
          }
        },
        "microsoft": {
          "language": "sparksql"
        },
        "collapsed": false
      }
    },
    {
      "cell_type": "code",
      "source": [
        "# what do the lake files look like now?\r\n",
        "mssparkutils.fs.ls(delta_table_path)"
      ],
      "outputs": [
        {
          "output_type": "display_data",
          "data": {
            "application/vnd.livy.statement-meta+json": {
              "spark_pool": "SampleSpark",
              "session_id": "9",
              "statement_id": 396,
              "state": "finished",
              "livy_statement_state": "available",
              "queued_time": "2023-05-01T17:13:09.3510058Z",
              "session_start_time": null,
              "execution_start_time": "2023-05-01T17:13:09.5158783Z",
              "execution_finish_time": "2023-05-01T17:13:10.068364Z",
              "spark_jobs": null,
              "parent_msg_id": "fe917738-4de6-43e9-bdc4-02ab4eb7dfa9"
            },
            "text/plain": "StatementMeta(SampleSpark, 9, 396, Finished, Available)"
          },
          "metadata": {}
        },
        {
          "output_type": "execute_result",
          "execution_count": 727,
          "data": {
            "text/plain": "[FileInfo(path=abfss://defaultfs@asadatalakedavew891.dfs.core.windows.net/deltaExample/cities-davew/_delta_log, name=_delta_log, size=0),\n FileInfo(path=abfss://defaultfs@asadatalakedavew891.dfs.core.windows.net/deltaExample/cities-davew/part-00000-4b116107-f89c-480c-8ead-fdba3bc881d6-c000.snappy.parquet, name=part-00000-4b116107-f89c-480c-8ead-fdba3bc881d6-c000.snappy.parquet, size=398),\n FileInfo(path=abfss://defaultfs@asadatalakedavew891.dfs.core.windows.net/deltaExample/cities-davew/part-00000-889e19bd-250d-4530-ab67-55ca84b11deb-c000.snappy.parquet, name=part-00000-889e19bd-250d-4530-ab67-55ca84b11deb-c000.snappy.parquet, size=774),\n FileInfo(path=abfss://defaultfs@asadatalakedavew891.dfs.core.windows.net/deltaExample/cities-davew/part-00000-89630fab-68a6-4bbc-adb9-7214e1d8e55f-c000.snappy.parquet, name=part-00000-89630fab-68a6-4bbc-adb9-7214e1d8e55f-c000.snappy.parquet, size=774),\n FileInfo(path=abfss://defaultfs@asadatalakedavew891.dfs.core.windows.net/deltaExample/cities-davew/part-00000-d4deebd5-9424-4d47-a30e-4a855a45e150-c000.snappy.parquet, name=part-00000-d4deebd5-9424-4d47-a30e-4a855a45e150-c000.snappy.parquet, size=774),\n FileInfo(path=abfss://defaultfs@asadatalakedavew891.dfs.core.windows.net/deltaExample/cities-davew/part-00000-f3366407-9ef1-4d8a-96dc-678e9bd8decf-c000.snappy.parquet, name=part-00000-f3366407-9ef1-4d8a-96dc-678e9bd8decf-c000.snappy.parquet, size=732),\n FileInfo(path=abfss://defaultfs@asadatalakedavew891.dfs.core.windows.net/deltaExample/cities-davew/part-00001-4688fdd4-42bd-4f8c-a9fa-aaa4251585a3-c000.snappy.parquet, name=part-00001-4688fdd4-42bd-4f8c-a9fa-aaa4251585a3-c000.snappy.parquet, size=746),\n FileInfo(path=abfss://defaultfs@asadatalakedavew891.dfs.core.windows.net/deltaExample/cities-davew/part-00001-6be2415d-e0f3-4628-8005-e6bc31edaab0-c000.snappy.parquet, name=part-00001-6be2415d-e0f3-4628-8005-e6bc31edaab0-c000.snappy.parquet, size=746),\n FileInfo(path=abfss://defaultfs@asadatalakedavew891.dfs.core.windows.net/deltaExample/cities-davew/part-00001-837a0e3f-62fe-4d28-b644-c7ce7b7e7d8e-c000.snappy.parquet, name=part-00001-837a0e3f-62fe-4d28-b644-c7ce7b7e7d8e-c000.snappy.parquet, size=746),\n FileInfo(path=abfss://defaultfs@asadatalakedavew891.dfs.core.windows.net/deltaExample/cities-davew/part-00001-d4922b11-6761-449a-841d-67b2dacb4d99-c000.snappy.parquet, name=part-00001-d4922b11-6761-449a-841d-67b2dacb4d99-c000.snappy.parquet, size=774),\n FileInfo(path=abfss://defaultfs@asadatalakedavew891.dfs.core.windows.net/deltaExample/cities-davew/part-00002-1cb404b6-5686-4be5-a01f-de0ba4a30b1d-c000.snappy.parquet, name=part-00002-1cb404b6-5686-4be5-a01f-de0ba4a30b1d-c000.snappy.parquet, size=732),\n FileInfo(path=abfss://defaultfs@asadatalakedavew891.dfs.core.windows.net/deltaExample/cities-davew/part-00002-2ad07a87-81dd-4c7b-a1b3-799d64e32b6e-c000.snappy.parquet, name=part-00002-2ad07a87-81dd-4c7b-a1b3-799d64e32b6e-c000.snappy.parquet, size=732),\n FileInfo(path=abfss://defaultfs@asadatalakedavew891.dfs.core.windows.net/deltaExample/cities-davew/part-00002-4eb2618b-9052-4d38-b2a0-92ae33c99b63-c000.snappy.parquet, name=part-00002-4eb2618b-9052-4d38-b2a0-92ae33c99b63-c000.snappy.parquet, size=732),\n FileInfo(path=abfss://defaultfs@asadatalakedavew891.dfs.core.windows.net/deltaExample/cities-davew/part-00002-d20b98bc-eb8b-41b9-8165-72334f6165c9-c000.snappy.parquet, name=part-00002-d20b98bc-eb8b-41b9-8165-72334f6165c9-c000.snappy.parquet, size=732),\n FileInfo(path=abfss://defaultfs@asadatalakedavew891.dfs.core.windows.net/deltaExample/cities-davew/part-00003-106673de-8cd9-45e7-9d20-235d4a75d4d5-c000.snappy.parquet, name=part-00003-106673de-8cd9-45e7-9d20-235d4a75d4d5-c000.snappy.parquet, size=732),\n FileInfo(path=abfss://defaultfs@asadatalakedavew891.dfs.core.windows.net/deltaExample/cities-davew/part-00003-6fd08371-fb2b-407c-b1da-f10333d97074-c000.snappy.parquet, name=part-00003-6fd08371-fb2b-407c-b1da-f10333d97074-c000.snappy.parquet, size=732),\n FileInfo(path=abfss://defaultfs@asadatalakedavew891.dfs.core.windows.net/deltaExample/cities-davew/part-00003-7ab3e4e7-f926-43f9-a7fb-d7185b20c845-c000.snappy.parquet, name=part-00003-7ab3e4e7-f926-43f9-a7fb-d7185b20c845-c000.snappy.parquet, size=732),\n FileInfo(path=abfss://defaultfs@asadatalakedavew891.dfs.core.windows.net/deltaExample/cities-davew/part-00003-fc04b4c2-9093-4b17-97b1-d8cf0d3ad777-c000.snappy.parquet, name=part-00003-fc04b4c2-9093-4b17-97b1-d8cf0d3ad777-c000.snappy.parquet, size=746)]"
          },
          "metadata": {}
        }
      ],
      "execution_count": 71,
      "metadata": {
        "jupyter": {
          "source_hidden": false,
          "outputs_hidden": false
        },
        "nteract": {
          "transient": {
            "deleting": false
          }
        }
      }
    },
    {
      "cell_type": "markdown",
      "source": [
        "We are starting to get a lot of really small files out there.  \r\n",
        "\r\n",
        "Is that a problem?  \r\n",
        "\r\n",
        "Maybe...\r\n",
        "\r\n",
        "...but we can fix it.  "
      ],
      "metadata": {
        "nteract": {
          "transient": {
            "deleting": false
          }
        }
      }
    },
    {
      "cell_type": "code",
      "source": [
        "%%sql\r\n",
        "\r\n",
        "OPTIMIZE cities;"
      ],
      "outputs": [
        {
          "output_type": "display_data",
          "data": {
            "application/vnd.livy.statement-meta+json": {
              "spark_pool": "SampleSpark",
              "session_id": "9",
              "statement_id": 398,
              "state": "finished",
              "livy_statement_state": "available",
              "queued_time": "2023-05-01T17:14:36.9656841Z",
              "session_start_time": null,
              "execution_start_time": "2023-05-01T17:14:37.146608Z",
              "execution_finish_time": "2023-05-01T17:14:42.4891646Z",
              "spark_jobs": null,
              "parent_msg_id": "afad3e6e-b5a0-49c1-b362-fa197f89b215"
            },
            "text/plain": "StatementMeta(SampleSpark, 9, 398, Finished, Available)"
          },
          "metadata": {}
        },
        {
          "output_type": "execute_result",
          "execution_count": 72,
          "data": {
            "application/vnd.synapse.sparksql-result+json": {
              "schema": {
                "type": "struct",
                "fields": [
                  {
                    "name": "path",
                    "type": "string",
                    "nullable": true,
                    "metadata": {}
                  },
                  {
                    "name": "metrics",
                    "type": {
                      "type": "struct",
                      "fields": [
                        {
                          "name": "numFilesAdded",
                          "type": "long",
                          "nullable": false,
                          "metadata": {}
                        },
                        {
                          "name": "numFilesRemoved",
                          "type": "long",
                          "nullable": false,
                          "metadata": {}
                        },
                        {
                          "name": "filesAdded",
                          "type": {
                            "type": "struct",
                            "fields": [
                              {
                                "name": "min",
                                "type": "long",
                                "nullable": true,
                                "metadata": {}
                              },
                              {
                                "name": "max",
                                "type": "long",
                                "nullable": true,
                                "metadata": {}
                              },
                              {
                                "name": "avg",
                                "type": "double",
                                "nullable": false,
                                "metadata": {}
                              },
                              {
                                "name": "totalFiles",
                                "type": "long",
                                "nullable": false,
                                "metadata": {}
                              },
                              {
                                "name": "totalSize",
                                "type": "long",
                                "nullable": false,
                                "metadata": {}
                              }
                            ]
                          },
                          "nullable": true,
                          "metadata": {}
                        },
                        {
                          "name": "filesRemoved",
                          "type": {
                            "type": "struct",
                            "fields": [
                              {
                                "name": "min",
                                "type": "long",
                                "nullable": true,
                                "metadata": {}
                              },
                              {
                                "name": "max",
                                "type": "long",
                                "nullable": true,
                                "metadata": {}
                              },
                              {
                                "name": "avg",
                                "type": "double",
                                "nullable": false,
                                "metadata": {}
                              },
                              {
                                "name": "totalFiles",
                                "type": "long",
                                "nullable": false,
                                "metadata": {}
                              },
                              {
                                "name": "totalSize",
                                "type": "long",
                                "nullable": false,
                                "metadata": {}
                              }
                            ]
                          },
                          "nullable": true,
                          "metadata": {}
                        },
                        {
                          "name": "partitionsOptimized",
                          "type": "long",
                          "nullable": false,
                          "metadata": {}
                        },
                        {
                          "name": "zOrderStats",
                          "type": {
                            "type": "struct",
                            "fields": [
                              {
                                "name": "strategyName",
                                "type": "string",
                                "nullable": true,
                                "metadata": {}
                              },
                              {
                                "name": "inputCubeFiles",
                                "type": {
                                  "type": "struct",
                                  "fields": [
                                    {
                                      "name": "num",
                                      "type": "long",
                                      "nullable": false,
                                      "metadata": {}
                                    },
                                    {
                                      "name": "size",
                                      "type": "long",
                                      "nullable": false,
                                      "metadata": {}
                                    }
                                  ]
                                },
                                "nullable": true,
                                "metadata": {}
                              },
                              {
                                "name": "inputOtherFiles",
                                "type": {
                                  "type": "struct",
                                  "fields": [
                                    {
                                      "name": "num",
                                      "type": "long",
                                      "nullable": false,
                                      "metadata": {}
                                    },
                                    {
                                      "name": "size",
                                      "type": "long",
                                      "nullable": false,
                                      "metadata": {}
                                    }
                                  ]
                                },
                                "nullable": true,
                                "metadata": {}
                              },
                              {
                                "name": "inputNumCubes",
                                "type": "long",
                                "nullable": false,
                                "metadata": {}
                              },
                              {
                                "name": "mergedFiles",
                                "type": {
                                  "type": "struct",
                                  "fields": [
                                    {
                                      "name": "num",
                                      "type": "long",
                                      "nullable": false,
                                      "metadata": {}
                                    },
                                    {
                                      "name": "size",
                                      "type": "long",
                                      "nullable": false,
                                      "metadata": {}
                                    }
                                  ]
                                },
                                "nullable": true,
                                "metadata": {}
                              },
                              {
                                "name": "numOutputCubes",
                                "type": "long",
                                "nullable": false,
                                "metadata": {}
                              },
                              {
                                "name": "mergedNumCubes",
                                "type": "long",
                                "nullable": true,
                                "metadata": {}
                              }
                            ]
                          },
                          "nullable": true,
                          "metadata": {}
                        },
                        {
                          "name": "numBatches",
                          "type": "long",
                          "nullable": false,
                          "metadata": {}
                        },
                        {
                          "name": "totalConsideredFiles",
                          "type": "long",
                          "nullable": false,
                          "metadata": {}
                        },
                        {
                          "name": "totalFilesSkipped",
                          "type": "long",
                          "nullable": false,
                          "metadata": {}
                        },
                        {
                          "name": "preserveInsertionOrder",
                          "type": "boolean",
                          "nullable": false,
                          "metadata": {}
                        },
                        {
                          "name": "numFilesSkippedToReduceWriteAmplification",
                          "type": "long",
                          "nullable": false,
                          "metadata": {}
                        },
                        {
                          "name": "numBytesSkippedToReduceWriteAmplification",
                          "type": "long",
                          "nullable": false,
                          "metadata": {}
                        },
                        {
                          "name": "startTimeMs",
                          "type": "long",
                          "nullable": false,
                          "metadata": {}
                        },
                        {
                          "name": "endTimeMs",
                          "type": "long",
                          "nullable": false,
                          "metadata": {}
                        },
                        {
                          "name": "totalClusterParallelism",
                          "type": "long",
                          "nullable": false,
                          "metadata": {}
                        },
                        {
                          "name": "totalScheduledTasks",
                          "type": "long",
                          "nullable": false,
                          "metadata": {}
                        },
                        {
                          "name": "autoCompactParallelismStats",
                          "type": {
                            "type": "struct",
                            "fields": [
                              {
                                "name": "maxClusterActiveParallelism",
                                "type": "long",
                                "nullable": true,
                                "metadata": {}
                              },
                              {
                                "name": "minClusterActiveParallelism",
                                "type": "long",
                                "nullable": true,
                                "metadata": {}
                              },
                              {
                                "name": "maxSessionActiveParallelism",
                                "type": "long",
                                "nullable": true,
                                "metadata": {}
                              },
                              {
                                "name": "minSessionActiveParallelism",
                                "type": "long",
                                "nullable": true,
                                "metadata": {}
                              }
                            ]
                          },
                          "nullable": true,
                          "metadata": {}
                        }
                      ]
                    },
                    "nullable": true,
                    "metadata": {}
                  }
                ]
              },
              "data": [
                [
                  "abfss://defaultfs@asadatalakedavew891.dfs.core.windows.net/deltaExample/cities-davew",
                  {
                    "schema": [
                      {
                        "name": "numFilesAdded",
                        "dataType": {},
                        "nullable": false,
                        "metadata": {
                          "map": {}
                        }
                      },
                      {
                        "name": "numFilesRemoved",
                        "dataType": {},
                        "nullable": false,
                        "metadata": {
                          "map": {}
                        }
                      },
                      {
                        "name": "filesAdded",
                        "dataType": [
                          {
                            "name": "min",
                            "dataType": {},
                            "nullable": true,
                            "metadata": {
                              "map": {}
                            }
                          },
                          {
                            "name": "max",
                            "dataType": {},
                            "nullable": true,
                            "metadata": {
                              "map": {}
                            }
                          },
                          {
                            "name": "avg",
                            "dataType": {},
                            "nullable": false,
                            "metadata": {
                              "map": {}
                            }
                          },
                          {
                            "name": "totalFiles",
                            "dataType": {},
                            "nullable": false,
                            "metadata": {
                              "map": {}
                            }
                          },
                          {
                            "name": "totalSize",
                            "dataType": {},
                            "nullable": false,
                            "metadata": {
                              "map": {}
                            }
                          }
                        ],
                        "nullable": true,
                        "metadata": {
                          "map": {}
                        }
                      },
                      {
                        "name": "filesRemoved",
                        "dataType": [
                          {
                            "name": "min",
                            "dataType": {},
                            "nullable": true,
                            "metadata": {
                              "map": {}
                            }
                          },
                          {
                            "name": "max",
                            "dataType": {},
                            "nullable": true,
                            "metadata": {
                              "map": {}
                            }
                          },
                          {
                            "name": "avg",
                            "dataType": {},
                            "nullable": false,
                            "metadata": {
                              "map": {}
                            }
                          },
                          {
                            "name": "totalFiles",
                            "dataType": {},
                            "nullable": false,
                            "metadata": {
                              "map": {}
                            }
                          },
                          {
                            "name": "totalSize",
                            "dataType": {},
                            "nullable": false,
                            "metadata": {
                              "map": {}
                            }
                          }
                        ],
                        "nullable": true,
                        "metadata": {
                          "map": {}
                        }
                      },
                      {
                        "name": "partitionsOptimized",
                        "dataType": {},
                        "nullable": false,
                        "metadata": {
                          "map": {}
                        }
                      },
                      {
                        "name": "zOrderStats",
                        "dataType": [
                          {
                            "name": "strategyName",
                            "dataType": {},
                            "nullable": true,
                            "metadata": {
                              "map": {}
                            }
                          },
                          {
                            "name": "inputCubeFiles",
                            "dataType": [
                              {
                                "name": "num",
                                "dataType": {},
                                "nullable": false,
                                "metadata": {
                                  "map": {}
                                }
                              },
                              {
                                "name": "size",
                                "dataType": {},
                                "nullable": false,
                                "metadata": {
                                  "map": {}
                                }
                              }
                            ],
                            "nullable": true,
                            "metadata": {
                              "map": {}
                            }
                          },
                          {
                            "name": "inputOtherFiles",
                            "dataType": [
                              {
                                "name": "num",
                                "dataType": {},
                                "nullable": false,
                                "metadata": {
                                  "map": {}
                                }
                              },
                              {
                                "name": "size",
                                "dataType": {},
                                "nullable": false,
                                "metadata": {
                                  "map": {}
                                }
                              }
                            ],
                            "nullable": true,
                            "metadata": {
                              "map": {}
                            }
                          },
                          {
                            "name": "inputNumCubes",
                            "dataType": {},
                            "nullable": false,
                            "metadata": {
                              "map": {}
                            }
                          },
                          {
                            "name": "mergedFiles",
                            "dataType": [
                              {
                                "name": "num",
                                "dataType": {},
                                "nullable": false,
                                "metadata": {
                                  "map": {}
                                }
                              },
                              {
                                "name": "size",
                                "dataType": {},
                                "nullable": false,
                                "metadata": {
                                  "map": {}
                                }
                              }
                            ],
                            "nullable": true,
                            "metadata": {
                              "map": {}
                            }
                          },
                          {
                            "name": "numOutputCubes",
                            "dataType": {},
                            "nullable": false,
                            "metadata": {
                              "map": {}
                            }
                          },
                          {
                            "name": "mergedNumCubes",
                            "dataType": {},
                            "nullable": true,
                            "metadata": {
                              "map": {}
                            }
                          }
                        ],
                        "nullable": true,
                        "metadata": {
                          "map": {}
                        }
                      },
                      {
                        "name": "numBatches",
                        "dataType": {},
                        "nullable": false,
                        "metadata": {
                          "map": {}
                        }
                      },
                      {
                        "name": "totalConsideredFiles",
                        "dataType": {},
                        "nullable": false,
                        "metadata": {
                          "map": {}
                        }
                      },
                      {
                        "name": "totalFilesSkipped",
                        "dataType": {},
                        "nullable": false,
                        "metadata": {
                          "map": {}
                        }
                      },
                      {
                        "name": "preserveInsertionOrder",
                        "dataType": {},
                        "nullable": false,
                        "metadata": {
                          "map": {}
                        }
                      },
                      {
                        "name": "numFilesSkippedToReduceWriteAmplification",
                        "dataType": {},
                        "nullable": false,
                        "metadata": {
                          "map": {}
                        }
                      },
                      {
                        "name": "numBytesSkippedToReduceWriteAmplification",
                        "dataType": {},
                        "nullable": false,
                        "metadata": {
                          "map": {}
                        }
                      },
                      {
                        "name": "startTimeMs",
                        "dataType": {},
                        "nullable": false,
                        "metadata": {
                          "map": {}
                        }
                      },
                      {
                        "name": "endTimeMs",
                        "dataType": {},
                        "nullable": false,
                        "metadata": {
                          "map": {}
                        }
                      },
                      {
                        "name": "totalClusterParallelism",
                        "dataType": {},
                        "nullable": false,
                        "metadata": {
                          "map": {}
                        }
                      },
                      {
                        "name": "totalScheduledTasks",
                        "dataType": {},
                        "nullable": false,
                        "metadata": {
                          "map": {}
                        }
                      },
                      {
                        "name": "autoCompactParallelismStats",
                        "dataType": [
                          {
                            "name": "maxClusterActiveParallelism",
                            "dataType": {},
                            "nullable": true,
                            "metadata": {
                              "map": {}
                            }
                          },
                          {
                            "name": "minClusterActiveParallelism",
                            "dataType": {},
                            "nullable": true,
                            "metadata": {
                              "map": {}
                            }
                          },
                          {
                            "name": "maxSessionActiveParallelism",
                            "dataType": {},
                            "nullable": true,
                            "metadata": {
                              "map": {}
                            }
                          },
                          {
                            "name": "minSessionActiveParallelism",
                            "dataType": {},
                            "nullable": true,
                            "metadata": {
                              "map": {}
                            }
                          }
                        ],
                        "nullable": true,
                        "metadata": {
                          "map": {}
                        }
                      }
                    ],
                    "values": [
                      "1",
                      "3",
                      {
                        "schema": [
                          {
                            "name": "min",
                            "dataType": {},
                            "nullable": true,
                            "metadata": {
                              "map": {}
                            }
                          },
                          {
                            "name": "max",
                            "dataType": {},
                            "nullable": true,
                            "metadata": {
                              "map": {}
                            }
                          },
                          {
                            "name": "avg",
                            "dataType": {},
                            "nullable": false,
                            "metadata": {
                              "map": {}
                            }
                          },
                          {
                            "name": "totalFiles",
                            "dataType": {},
                            "nullable": false,
                            "metadata": {
                              "map": {}
                            }
                          },
                          {
                            "name": "totalSize",
                            "dataType": {},
                            "nullable": false,
                            "metadata": {
                              "map": {}
                            }
                          }
                        ],
                        "values": [
                          "774",
                          "774",
                          774,
                          "1",
                          "774"
                        ]
                      },
                      {
                        "schema": [
                          {
                            "name": "min",
                            "dataType": {},
                            "nullable": true,
                            "metadata": {
                              "map": {}
                            }
                          },
                          {
                            "name": "max",
                            "dataType": {},
                            "nullable": true,
                            "metadata": {
                              "map": {}
                            }
                          },
                          {
                            "name": "avg",
                            "dataType": {},
                            "nullable": false,
                            "metadata": {
                              "map": {}
                            }
                          },
                          {
                            "name": "totalFiles",
                            "dataType": {},
                            "nullable": false,
                            "metadata": {
                              "map": {}
                            }
                          },
                          {
                            "name": "totalSize",
                            "dataType": {},
                            "nullable": false,
                            "metadata": {
                              "map": {}
                            }
                          }
                        ],
                        "values": [
                          "732",
                          "774",
                          750.6666666666666,
                          "3",
                          "2252"
                        ]
                      },
                      "1",
                      null,
                      "1",
                      "3",
                      "0",
                      false,
                      "0",
                      "0",
                      "1682961280957",
                      "0",
                      "8",
                      "0",
                      null
                    ]
                  }
                ]
              ]
            },
            "text/plain": "<Spark SQL result set with 1 rows and 2 fields>"
          },
          "metadata": {}
        }
      ],
      "execution_count": 72,
      "metadata": {
        "jupyter": {
          "source_hidden": false,
          "outputs_hidden": false
        },
        "nteract": {
          "transient": {
            "deleting": false
          }
        },
        "microsoft": {
          "language": "sparksql"
        },
        "collapsed": false
      }
    },
    {
      "cell_type": "markdown",
      "source": [
        "Ugh...now it's worse..."
      ],
      "metadata": {
        "nteract": {
          "transient": {
            "deleting": false
          }
        }
      }
    },
    {
      "cell_type": "code",
      "source": [
        "%%sql\r\n",
        "\r\n",
        "VACUUM cities retain 0 hours;"
      ],
      "outputs": [
        {
          "output_type": "display_data",
          "data": {
            "application/vnd.livy.statement-meta+json": {
              "spark_pool": "SampleSpark",
              "session_id": "9",
              "statement_id": 414,
              "state": "finished",
              "livy_statement_state": "available",
              "queued_time": "2023-05-01T17:25:12.8912716Z",
              "session_start_time": null,
              "execution_start_time": "2023-05-01T17:25:13.1228917Z",
              "execution_finish_time": "2023-05-01T17:25:23.7973237Z",
              "spark_jobs": null,
              "parent_msg_id": "5471ade8-8e46-4b27-8b6c-0366400cc918"
            },
            "text/plain": "StatementMeta(SampleSpark, 9, 414, Finished, Available)"
          },
          "metadata": {}
        },
        {
          "output_type": "execute_result",
          "execution_count": 80,
          "data": {
            "application/vnd.synapse.sparksql-result+json": {
              "schema": {
                "type": "struct",
                "fields": [
                  {
                    "name": "path",
                    "type": "string",
                    "nullable": true,
                    "metadata": {}
                  }
                ]
              },
              "data": [
                [
                  "abfss://defaultfs@asadatalakedavew891.dfs.core.windows.net/deltaExample/cities-davew"
                ]
              ]
            },
            "text/plain": "<Spark SQL result set with 1 rows and 1 fields>"
          },
          "metadata": {}
        }
      ],
      "execution_count": 80,
      "metadata": {
        "jupyter": {
          "source_hidden": false,
          "outputs_hidden": false
        },
        "nteract": {
          "transient": {
            "deleting": false
          }
        },
        "microsoft": {
          "language": "sparksql"
        },
        "collapsed": false
      }
    },
    {
      "cell_type": "code",
      "source": [
        "spark.sql(\"SET spark.databricks.delta.retentionDurationCheck.enabled = false\")"
      ],
      "outputs": [
        {
          "output_type": "display_data",
          "data": {
            "application/vnd.livy.statement-meta+json": {
              "spark_pool": "SampleSpark",
              "session_id": "9",
              "statement_id": 412,
              "state": "finished",
              "livy_statement_state": "available",
              "queued_time": "2023-05-01T17:24:53.4168833Z",
              "session_start_time": null,
              "execution_start_time": "2023-05-01T17:24:53.5761292Z",
              "execution_finish_time": "2023-05-01T17:24:53.7864029Z",
              "spark_jobs": null,
              "parent_msg_id": "79dc9aad-40b9-4704-baa8-1fd618b4e179"
            },
            "text/plain": "StatementMeta(SampleSpark, 9, 412, Finished, Available)"
          },
          "metadata": {}
        },
        {
          "output_type": "execute_result",
          "execution_count": 755,
          "data": {
            "text/plain": "DataFrame[key: string, value: string]"
          },
          "metadata": {}
        }
      ],
      "execution_count": 79,
      "metadata": {
        "jupyter": {
          "source_hidden": false,
          "outputs_hidden": false
        },
        "nteract": {
          "transient": {
            "deleting": false
          }
        }
      }
    },
    {
      "cell_type": "code",
      "source": [
        "%%sql\r\n",
        "\r\n",
        "VACUUM cities retain 0 hours;"
      ],
      "outputs": [
        {
          "output_type": "display_data",
          "data": {
            "application/vnd.livy.statement-meta+json": {
              "spark_pool": "SampleSpark",
              "session_id": "9",
              "statement_id": 416,
              "state": "finished",
              "livy_statement_state": "available",
              "queued_time": "2023-05-01T17:25:31.6718085Z",
              "session_start_time": null,
              "execution_start_time": "2023-05-01T17:25:31.8160487Z",
              "execution_finish_time": "2023-05-01T17:25:38.7849089Z",
              "spark_jobs": null,
              "parent_msg_id": "9d8d57f4-b01b-4f10-8a97-65e9aab6d7c0"
            },
            "text/plain": "StatementMeta(SampleSpark, 9, 416, Finished, Available)"
          },
          "metadata": {}
        },
        {
          "output_type": "execute_result",
          "execution_count": 81,
          "data": {
            "application/vnd.synapse.sparksql-result+json": {
              "schema": {
                "type": "struct",
                "fields": [
                  {
                    "name": "path",
                    "type": "string",
                    "nullable": true,
                    "metadata": {}
                  }
                ]
              },
              "data": [
                [
                  "abfss://defaultfs@asadatalakedavew891.dfs.core.windows.net/deltaExample/cities-davew"
                ]
              ]
            },
            "text/plain": "<Spark SQL result set with 1 rows and 1 fields>"
          },
          "metadata": {}
        }
      ],
      "execution_count": 81,
      "metadata": {
        "jupyter": {
          "source_hidden": false,
          "outputs_hidden": false
        },
        "nteract": {
          "transient": {
            "deleting": false
          }
        },
        "microsoft": {
          "language": "sparksql"
        },
        "collapsed": false
      }
    },
    {
      "cell_type": "markdown",
      "source": [
        "Now what do the lake files look like?  \r\n",
        "\r\n",
        "## Learnings:\r\n",
        "* OPTIMIZE compacts small files into larger ones but does not do housekeeping.\r\n",
        "* VACUUM does the housekeeping of the small files from prior to compaction, and more."
      ],
      "metadata": {
        "nteract": {
          "transient": {
            "deleting": false
          }
        }
      }
    },
    {
      "cell_type": "markdown",
      "source": [
        "Now, let's say you want to merge/upsert the data from another dataframe where you have already got the data exactly how you want to have it written to `cities`.  "
      ],
      "metadata": {
        "nteract": {
          "transient": {
            "deleting": false
          }
        }
      }
    },
    {
      "cell_type": "code",
      "source": [
        "%%sql\r\n",
        "CREATE OR REPLACE TEMP VIEW dfNewCities \r\n",
        "AS \r\n",
        "SELECT 'San Francisco' AS name, 10 as population\r\n",
        "UNION ALL SELECT 'Bangalore', 20\r\n",
        "UNION ALL SELECT 'Philadelphia',30\r\n",
        ";\r\n",
        "\r\n",
        "--we deleted Beijing, added Philly, updated the other 2 rows\r\n",
        "SELECT * FROM dfNewCities\r\n",
        ";"
      ],
      "outputs": [
        {
          "output_type": "display_data",
          "data": {
            "application/vnd.livy.statement-meta+json": {
              "spark_pool": null,
              "session_id": "9",
              "statement_id": -1,
              "state": "finished",
              "livy_statement_state": "available",
              "queued_time": "2023-05-01T17:32:15.7459085Z",
              "session_start_time": null,
              "execution_start_time": "2023-05-01T17:32:17.2608068Z",
              "execution_finish_time": "2023-05-01T17:32:17.261046Z",
              "spark_jobs": null,
              "parent_msg_id": "e68edfb3-bcce-4719-8ac1-185ce562897c"
            },
            "text/plain": "StatementMeta(, 9, -1, Finished, Available)"
          },
          "metadata": {}
        },
        {
          "output_type": "execute_result",
          "execution_count": 84,
          "data": {
            "application/vnd.synapse.sparksql-result+json": {
              "schema": {
                "type": "struct",
                "fields": []
              },
              "data": []
            },
            "text/plain": "<Spark SQL result set with 0 rows and 0 fields>"
          },
          "metadata": {}
        },
        {
          "output_type": "execute_result",
          "execution_count": 84,
          "data": {
            "application/vnd.synapse.sparksql-result+json": {
              "schema": {
                "type": "struct",
                "fields": [
                  {
                    "name": "name",
                    "type": "string",
                    "nullable": false,
                    "metadata": {}
                  },
                  {
                    "name": "population",
                    "type": "integer",
                    "nullable": false,
                    "metadata": {}
                  }
                ]
              },
              "data": [
                [
                  "San Francisco",
                  10
                ],
                [
                  "Bangalore",
                  20
                ],
                [
                  "Philadelphia",
                  30
                ]
              ]
            },
            "text/plain": "<Spark SQL result set with 3 rows and 2 fields>"
          },
          "metadata": {}
        }
      ],
      "execution_count": 84,
      "metadata": {
        "jupyter": {
          "source_hidden": false,
          "outputs_hidden": false
        },
        "nteract": {
          "transient": {
            "deleting": false
          }
        },
        "microsoft": {
          "language": "sparksql"
        },
        "collapsed": false
      }
    },
    {
      "cell_type": "code",
      "source": [
        "dfNewCities = spark.sql(\"SELECT * FROM dfNewCities\")\r\n",
        "dfCities = spark.sql(\"SELECT * FROM Cities\")"
      ],
      "outputs": [
        {
          "output_type": "display_data",
          "data": {
            "application/vnd.livy.statement-meta+json": {
              "spark_pool": "SampleSpark",
              "session_id": "9",
              "statement_id": 451,
              "state": "finished",
              "livy_statement_state": "available",
              "queued_time": "2023-05-01T17:57:41.5587572Z",
              "session_start_time": null,
              "execution_start_time": "2023-05-01T17:57:41.7069592Z",
              "execution_finish_time": "2023-05-01T17:57:42.2555014Z",
              "spark_jobs": null,
              "parent_msg_id": "65b95929-dd98-496c-990c-627846a55211"
            },
            "text/plain": "StatementMeta(SampleSpark, 9, 451, Finished, Available)"
          },
          "metadata": {}
        }
      ],
      "execution_count": 97,
      "metadata": {
        "jupyter": {
          "source_hidden": false,
          "outputs_hidden": false
        },
        "nteract": {
          "transient": {
            "deleting": false
          }
        }
      }
    },
    {
      "cell_type": "code",
      "source": [
        "display(dfNewCities)"
      ],
      "outputs": [
        {
          "output_type": "display_data",
          "data": {
            "application/vnd.livy.statement-meta+json": {
              "spark_pool": "SampleSpark",
              "session_id": "9",
              "statement_id": 428,
              "state": "finished",
              "livy_statement_state": "available",
              "queued_time": "2023-05-01T17:32:36.7154072Z",
              "session_start_time": null,
              "execution_start_time": "2023-05-01T17:32:36.8617424Z",
              "execution_finish_time": "2023-05-01T17:32:37.0406953Z",
              "spark_jobs": null,
              "parent_msg_id": "a4d31e00-2306-44af-becf-7ef237f5f61a"
            },
            "text/plain": "StatementMeta(SampleSpark, 9, 428, Finished, Available)"
          },
          "metadata": {}
        },
        {
          "output_type": "display_data",
          "data": {
            "application/vnd.synapse.widget-view+json": {
              "widget_id": "b939baa4-255b-40ac-9444-3059646f088e",
              "widget_type": "Synapse.DataFrame"
            },
            "text/plain": "SynapseWidget(Synapse.DataFrame, b939baa4-255b-40ac-9444-3059646f088e)"
          },
          "metadata": {}
        }
      ],
      "execution_count": 86,
      "metadata": {
        "jupyter": {
          "source_hidden": false,
          "outputs_hidden": false
        },
        "nteract": {
          "transient": {
            "deleting": false
          }
        },
        "collapsed": false
      }
    },
    {
      "cell_type": "code",
      "source": [
        "%%sql\r\n",
        "SELECT * FROM cities;\r\n",
        "select * from dfNewCities;"
      ],
      "outputs": [
        {
          "output_type": "display_data",
          "data": {
            "application/vnd.livy.statement-meta+json": {
              "spark_pool": null,
              "session_id": "9",
              "statement_id": -1,
              "state": "finished",
              "livy_statement_state": "available",
              "queued_time": "2023-05-01T17:32:44.6029234Z",
              "session_start_time": null,
              "execution_start_time": "2023-05-01T17:32:47.410188Z",
              "execution_finish_time": "2023-05-01T17:32:47.4104561Z",
              "spark_jobs": null,
              "parent_msg_id": "0e9dacc7-1135-4b29-bf9d-ef38761d59ef"
            },
            "text/plain": "StatementMeta(, 9, -1, Finished, Available)"
          },
          "metadata": {}
        },
        {
          "output_type": "execute_result",
          "execution_count": 87,
          "data": {
            "application/vnd.synapse.sparksql-result+json": {
              "schema": {
                "type": "struct",
                "fields": [
                  {
                    "name": "name",
                    "type": "string",
                    "nullable": true,
                    "metadata": {}
                  },
                  {
                    "name": "population",
                    "type": "integer",
                    "nullable": true,
                    "metadata": {}
                  }
                ]
              },
              "data": [
                [
                  "San Francisco",
                  9696
                ],
                [
                  "Bangalore",
                  115940
                ],
                [
                  "Beijing",
                  236940
                ]
              ]
            },
            "text/plain": "<Spark SQL result set with 3 rows and 2 fields>"
          },
          "metadata": {}
        },
        {
          "output_type": "execute_result",
          "execution_count": 87,
          "data": {
            "application/vnd.synapse.sparksql-result+json": {
              "schema": {
                "type": "struct",
                "fields": [
                  {
                    "name": "name",
                    "type": "string",
                    "nullable": false,
                    "metadata": {}
                  },
                  {
                    "name": "population",
                    "type": "integer",
                    "nullable": false,
                    "metadata": {}
                  }
                ]
              },
              "data": [
                [
                  "San Francisco",
                  10
                ],
                [
                  "Bangalore",
                  20
                ],
                [
                  "Philadelphia",
                  30
                ]
              ]
            },
            "text/plain": "<Spark SQL result set with 3 rows and 2 fields>"
          },
          "metadata": {}
        }
      ],
      "execution_count": 87,
      "metadata": {
        "jupyter": {
          "source_hidden": false,
          "outputs_hidden": false
        },
        "nteract": {
          "transient": {
            "deleting": false
          }
        },
        "microsoft": {
          "language": "sparksql"
        },
        "collapsed": false
      }
    },
    {
      "cell_type": "code",
      "source": [
        "%%sql\r\n",
        "\r\n",
        "MERGE INTO cities\r\n",
        "USING dfNewCities\r\n",
        "    ON cities.name = dfNewCities.name\r\n",
        "WHEN MATCHED THEN\r\n",
        "    UPDATE SET \r\n",
        "        cities.population = dfNewCities.population\r\n",
        "WHEN NOT MATCHED THEN \r\n",
        "    INSERT (name,population) VALUES (dfNewCities.name,dfNewCities.population)\r\n"
      ],
      "outputs": [
        {
          "output_type": "display_data",
          "data": {
            "application/vnd.livy.statement-meta+json": {
              "spark_pool": "SampleSpark",
              "session_id": "9",
              "statement_id": 437,
              "state": "finished",
              "livy_statement_state": "available",
              "queued_time": "2023-05-01T17:36:51.5278897Z",
              "session_start_time": null,
              "execution_start_time": "2023-05-01T17:36:51.6684418Z",
              "execution_finish_time": "2023-05-01T17:36:58.6688039Z",
              "spark_jobs": null,
              "parent_msg_id": "d0a3c474-070b-432a-9464-1ddfad58bad9"
            },
            "text/plain": "StatementMeta(SampleSpark, 9, 437, Finished, Available)"
          },
          "metadata": {}
        },
        {
          "output_type": "execute_result",
          "execution_count": 90,
          "data": {
            "application/vnd.synapse.sparksql-result+json": {
              "schema": {
                "type": "struct",
                "fields": [
                  {
                    "name": "num_affected_rows",
                    "type": "long",
                    "nullable": true,
                    "metadata": {}
                  },
                  {
                    "name": "num_updated_rows",
                    "type": "long",
                    "nullable": true,
                    "metadata": {}
                  },
                  {
                    "name": "num_deleted_rows",
                    "type": "long",
                    "nullable": true,
                    "metadata": {}
                  },
                  {
                    "name": "num_inserted_rows",
                    "type": "long",
                    "nullable": true,
                    "metadata": {}
                  }
                ]
              },
              "data": [
                [
                  "3",
                  "2",
                  "0",
                  "1"
                ]
              ]
            },
            "text/plain": "<Spark SQL result set with 1 rows and 4 fields>"
          },
          "metadata": {}
        }
      ],
      "execution_count": 90,
      "metadata": {
        "jupyter": {
          "source_hidden": false,
          "outputs_hidden": false
        },
        "nteract": {
          "transient": {
            "deleting": false
          }
        },
        "microsoft": {
          "language": "sparksql"
        },
        "collapsed": false
      }
    },
    {
      "cell_type": "markdown",
      "source": [
        "Do you see any problem with this?  \r\n",
        "\r\n",
        "Let's run it again."
      ],
      "metadata": {
        "nteract": {
          "transient": {
            "deleting": false
          }
        }
      }
    },
    {
      "cell_type": "code",
      "source": [
        "%%sql\r\n",
        "\r\n",
        "MERGE INTO cities\r\n",
        "USING dfNewCities\r\n",
        "    ON cities.name = dfNewCities.name\r\n",
        "WHEN MATCHED THEN\r\n",
        "    UPDATE SET \r\n",
        "        cities.population = dfNewCities.population\r\n",
        "WHEN NOT MATCHED THEN \r\n",
        "    INSERT (name,population) VALUES (dfNewCities.name,dfNewCities.population)"
      ],
      "outputs": [
        {
          "output_type": "display_data",
          "data": {
            "application/vnd.livy.statement-meta+json": {
              "spark_pool": "SampleSpark",
              "session_id": "9",
              "statement_id": 439,
              "state": "finished",
              "livy_statement_state": "available",
              "queued_time": "2023-05-01T17:37:38.8126838Z",
              "session_start_time": null,
              "execution_start_time": "2023-05-01T17:37:38.9544985Z",
              "execution_finish_time": "2023-05-01T17:37:44.3820944Z",
              "spark_jobs": null,
              "parent_msg_id": "0d7dc342-58fd-45e1-91bb-576e1d4e867a"
            },
            "text/plain": "StatementMeta(SampleSpark, 9, 439, Finished, Available)"
          },
          "metadata": {}
        },
        {
          "output_type": "execute_result",
          "execution_count": 91,
          "data": {
            "application/vnd.synapse.sparksql-result+json": {
              "schema": {
                "type": "struct",
                "fields": [
                  {
                    "name": "num_affected_rows",
                    "type": "long",
                    "nullable": true,
                    "metadata": {}
                  },
                  {
                    "name": "num_updated_rows",
                    "type": "long",
                    "nullable": true,
                    "metadata": {}
                  },
                  {
                    "name": "num_deleted_rows",
                    "type": "long",
                    "nullable": true,
                    "metadata": {}
                  },
                  {
                    "name": "num_inserted_rows",
                    "type": "long",
                    "nullable": true,
                    "metadata": {}
                  }
                ]
              },
              "data": [
                [
                  "3",
                  "3",
                  "0",
                  "0"
                ]
              ]
            },
            "text/plain": "<Spark SQL result set with 1 rows and 4 fields>"
          },
          "metadata": {}
        }
      ],
      "execution_count": 91,
      "metadata": {
        "jupyter": {
          "source_hidden": false,
          "outputs_hidden": false
        },
        "nteract": {
          "transient": {
            "deleting": false
          }
        },
        "microsoft": {
          "language": "sparksql"
        },
        "collapsed": false
      }
    },
    {
      "cell_type": "markdown",
      "source": [
        "Note that the default behavior is to do \"non-updating\" updates.  This is generally have every DBMS handles MERGE.  This may not be efficient."
      ],
      "metadata": {
        "nteract": {
          "transient": {
            "deleting": false
          }
        }
      }
    },
    {
      "cell_type": "code",
      "source": [
        "%%sql\r\n",
        "SELECT * FROM cities;"
      ],
      "outputs": [
        {
          "output_type": "display_data",
          "data": {
            "application/vnd.livy.statement-meta+json": {
              "spark_pool": "SampleSpark",
              "session_id": "9",
              "statement_id": 441,
              "state": "finished",
              "livy_statement_state": "available",
              "queued_time": "2023-05-01T17:39:11.8524683Z",
              "session_start_time": null,
              "execution_start_time": "2023-05-01T17:39:11.9996261Z",
              "execution_finish_time": "2023-05-01T17:39:13.8582478Z",
              "spark_jobs": null,
              "parent_msg_id": "551d9142-295b-4e9a-bc29-b331de29dcdd"
            },
            "text/plain": "StatementMeta(SampleSpark, 9, 441, Finished, Available)"
          },
          "metadata": {}
        },
        {
          "output_type": "execute_result",
          "execution_count": 92,
          "data": {
            "application/vnd.synapse.sparksql-result+json": {
              "schema": {
                "type": "struct",
                "fields": [
                  {
                    "name": "name",
                    "type": "string",
                    "nullable": true,
                    "metadata": {}
                  },
                  {
                    "name": "population",
                    "type": "integer",
                    "nullable": true,
                    "metadata": {}
                  }
                ]
              },
              "data": [
                [
                  "Bangalore",
                  20
                ],
                [
                  "Philadelphia",
                  30
                ],
                [
                  "San Francisco",
                  10
                ],
                [
                  "Beijing",
                  236940
                ]
              ]
            },
            "text/plain": "<Spark SQL result set with 4 rows and 2 fields>"
          },
          "metadata": {}
        }
      ],
      "execution_count": 92,
      "metadata": {
        "jupyter": {
          "source_hidden": false,
          "outputs_hidden": false
        },
        "nteract": {
          "transient": {
            "deleting": false
          }
        },
        "microsoft": {
          "language": "sparksql"
        },
        "collapsed": false
      }
    },
    {
      "cell_type": "markdown",
      "source": [
        "Beijing still wasn't removed, how do we do that?\r\n",
        "\r\n",
        "Unfortunately, this won't work\r\n",
        "\r\n",
        "```sql\r\n",
        "%%sql\r\n",
        "\r\n",
        "MERGE INTO cities\r\n",
        "USING dfNewCities\r\n",
        "    ON cities.name = dfNewCities.name\r\n",
        "WHEN MATCHED THEN\r\n",
        "    UPDATE SET \r\n",
        "        cities.population = dfNewCities.population\r\n",
        "WHEN NOT MATCHED THEN \r\n",
        "    INSERT (name,population) VALUES (dfNewCities.name,dfNewCities.population)\r\n",
        "WHEN NOT MATCHED BY SOURCE THEN \r\n",
        "    DELETE\r\n",
        "\r\n",
        "```\r\n",
        "\r\n",
        "What else could we do?  "
      ],
      "metadata": {
        "nteract": {
          "transient": {
            "deleting": false
          }
        }
      }
    },
    {
      "cell_type": "code",
      "source": [
        "%%sql\r\n",
        "\r\n",
        "--write the code here\r\n"
      ],
      "outputs": [
        {
          "output_type": "display_data",
          "data": {
            "application/vnd.livy.statement-meta+json": {
              "spark_pool": "SampleSpark",
              "session_id": "9",
              "statement_id": 449,
              "state": "finished",
              "livy_statement_state": "available",
              "queued_time": "2023-05-01T17:55:33.6846198Z",
              "session_start_time": null,
              "execution_start_time": "2023-05-01T17:55:33.8441302Z",
              "execution_finish_time": "2023-05-01T17:55:34.3632839Z",
              "spark_jobs": null,
              "parent_msg_id": "ad574168-12be-4ae6-a74f-51d539c4ed84"
            },
            "text/plain": "StatementMeta(SampleSpark, 9, 449, Finished, Available)"
          },
          "metadata": {}
        },
        {
          "output_type": "error",
          "ename": "Error",
          "evalue": "\nSyntax error at or near end of input(line 3, pos 0)\n\n== SQL ==\n\n--write the code here\n^^^\n",
          "traceback": [
            "Error: \nSyntax error at or near end of input(line 3, pos 0)\n\n== SQL ==\n\n--write the code here\n^^^\n",
            "org.apache.spark.sql.catalyst.parser.ParseException.withCommand(ParseDriver.scala:306)",
            "org.apache.spark.sql.catalyst.parser.AbstractSqlParser.parse(ParseDriver.scala:143)",
            "org.apache.spark.sql.execution.SparkSqlParser.parse(SparkSqlParser.scala:52)",
            "org.apache.spark.sql.catalyst.parser.AbstractSqlParser.parsePlan(ParseDriver.scala:89)",
            "io.delta.sql.parser.DeltaSqlParser.$anonfun$parsePlan$1(DeltaSqlParser.scala:78)",
            "io.delta.sql.parser.DeltaSqlParser.parse(DeltaSqlParser.scala:111)",
            "io.delta.sql.parser.DeltaSqlParser.parsePlan(DeltaSqlParser.scala:75)",
            "com.microsoft.azure.synapse.ml.predict.SynapsePredictParser.parsePlan(SynapsePredictParser.scala:19)",
            "org.apache.spark.sql.SparkSession.$anonfun$sql$2(SparkSession.scala:620)",
            "org.apache.spark.sql.catalyst.QueryPlanningTracker.measurePhase(QueryPlanningTracker.scala:120)",
            "org.apache.spark.sql.SparkSession.$anonfun$sql$1(SparkSession.scala:620)",
            "org.apache.spark.sql.SparkSession.withActive(SparkSession.scala:779)",
            "org.apache.spark.sql.SparkSession.sql(SparkSession.scala:617)",
            "org.apache.livy.repl.SQLInterpreter.execute(SQLInterpreter.scala:129)",
            "org.apache.livy.repl.Session.$anonfun$executeCode$1(Session.scala:708)",
            "scala.Option.map(Option.scala:230)",
            "org.apache.livy.repl.Session.executeCode(Session.scala:705)",
            "org.apache.livy.repl.Session.$anonfun$execute$4(Session.scala:485)",
            "org.apache.livy.repl.Session.withRealtimeOutputSupport(Session.scala:911)",
            "org.apache.livy.repl.Session.$anonfun$execute$1(Session.scala:485)",
            "scala.runtime.java8.JFunction0$mcV$sp.apply(JFunction0$mcV$sp.java:23)",
            "scala.concurrent.Future$.$anonfun$apply$1(Future.scala:659)",
            "scala.util.Success.$anonfun$map$1(Try.scala:255)",
            "scala.util.Success.map(Try.scala:213)",
            "scala.concurrent.Future.$anonfun$map$1(Future.scala:292)",
            "scala.concurrent.impl.Promise.liftedTree1$1(Promise.scala:33)",
            "scala.concurrent.impl.Promise.$anonfun$transform$1(Promise.scala:33)",
            "scala.concurrent.impl.CallbackRunnable.run(Promise.scala:64)",
            "java.util.concurrent.ThreadPoolExecutor.runWorker(ThreadPoolExecutor.java:1149)",
            "java.util.concurrent.ThreadPoolExecutor$Worker.run(ThreadPoolExecutor.java:624)",
            "java.lang.Thread.run(Thread.java:750)"
          ]
        }
      ],
      "execution_count": 96,
      "metadata": {
        "jupyter": {
          "source_hidden": false,
          "outputs_hidden": false
        },
        "nteract": {
          "transient": {
            "deleting": false
          }
        },
        "microsoft": {
          "language": "sparksql"
        }
      }
    },
    {
      "cell_type": "markdown",
      "source": [
        "## History\n",
        "Delta's most powerful feature is the ability to allow looking into history i.e., the changes that were made to the underlying Delta Table. The cell below shows how simple it is to inspect the history."
      ],
      "metadata": {}
    },
    {
      "cell_type": "code",
      "source": [
        "%%sql\r\n",
        "DESCRIBE HISTORY cities;"
      ],
      "outputs": [
        {
          "output_type": "display_data",
          "data": {
            "application/vnd.livy.statement-meta+json": {
              "spark_pool": "SampleSpark",
              "session_id": "9",
              "statement_id": 455,
              "state": "finished",
              "livy_statement_state": "available",
              "queued_time": "2023-05-01T17:58:48.0099754Z",
              "session_start_time": null,
              "execution_start_time": "2023-05-01T17:58:48.1618656Z",
              "execution_finish_time": "2023-05-01T17:58:49.9904931Z",
              "spark_jobs": null,
              "parent_msg_id": "8818f39c-91fd-41f4-b0e1-0ddea30859e2"
            },
            "text/plain": "StatementMeta(SampleSpark, 9, 455, Finished, Available)"
          },
          "metadata": {}
        },
        {
          "output_type": "execute_result",
          "execution_count": 99,
          "data": {
            "application/vnd.synapse.sparksql-result+json": {
              "schema": {
                "type": "struct",
                "fields": [
                  {
                    "name": "version",
                    "type": "long",
                    "nullable": true,
                    "metadata": {}
                  },
                  {
                    "name": "timestamp",
                    "type": "timestamp",
                    "nullable": true,
                    "metadata": {}
                  },
                  {
                    "name": "userId",
                    "type": "string",
                    "nullable": true,
                    "metadata": {}
                  },
                  {
                    "name": "userName",
                    "type": "string",
                    "nullable": true,
                    "metadata": {}
                  },
                  {
                    "name": "operation",
                    "type": "string",
                    "nullable": true,
                    "metadata": {}
                  },
                  {
                    "name": "operationParameters",
                    "type": {
                      "type": "map",
                      "keyType": "string",
                      "valueType": "string",
                      "valueContainsNull": true
                    },
                    "nullable": true,
                    "metadata": {}
                  },
                  {
                    "name": "job",
                    "type": {
                      "type": "struct",
                      "fields": [
                        {
                          "name": "jobId",
                          "type": "string",
                          "nullable": true,
                          "metadata": {}
                        },
                        {
                          "name": "jobName",
                          "type": "string",
                          "nullable": true,
                          "metadata": {}
                        },
                        {
                          "name": "runId",
                          "type": "string",
                          "nullable": true,
                          "metadata": {}
                        },
                        {
                          "name": "jobOwnerId",
                          "type": "string",
                          "nullable": true,
                          "metadata": {}
                        },
                        {
                          "name": "triggerType",
                          "type": "string",
                          "nullable": true,
                          "metadata": {}
                        }
                      ]
                    },
                    "nullable": true,
                    "metadata": {}
                  },
                  {
                    "name": "notebook",
                    "type": {
                      "type": "struct",
                      "fields": [
                        {
                          "name": "notebookId",
                          "type": "string",
                          "nullable": true,
                          "metadata": {}
                        }
                      ]
                    },
                    "nullable": true,
                    "metadata": {}
                  },
                  {
                    "name": "clusterId",
                    "type": "string",
                    "nullable": true,
                    "metadata": {}
                  },
                  {
                    "name": "readVersion",
                    "type": "long",
                    "nullable": true,
                    "metadata": {}
                  },
                  {
                    "name": "isolationLevel",
                    "type": "string",
                    "nullable": true,
                    "metadata": {}
                  },
                  {
                    "name": "isBlindAppend",
                    "type": "boolean",
                    "nullable": true,
                    "metadata": {}
                  },
                  {
                    "name": "operationMetrics",
                    "type": {
                      "type": "map",
                      "keyType": "string",
                      "valueType": "string",
                      "valueContainsNull": true
                    },
                    "nullable": true,
                    "metadata": {}
                  },
                  {
                    "name": "userMetadata",
                    "type": "string",
                    "nullable": true,
                    "metadata": {}
                  },
                  {
                    "name": "engineInfo",
                    "type": "string",
                    "nullable": true,
                    "metadata": {}
                  }
                ]
              },
              "data": [
                [
                  "8",
                  "2023-05-01T17:37:42Z",
                  null,
                  null,
                  "MERGE",
                  {
                    "predicate": "(spark_catalog.default.cities.name = dfnewcities.name)",
                    "matchedPredicates": "[{\"actionType\":\"update\"}]",
                    "notMatchedPredicates": "[{\"actionType\":\"insert\"}]"
                  },
                  null,
                  null,
                  null,
                  "7",
                  "Serializable",
                  false,
                  {
                    "numTargetRowsCopied": "0",
                    "numTargetRowsDeleted": "0",
                    "numTargetFilesAdded": "1",
                    "executionTimeMs": "2758",
                    "numTargetRowsInserted": "0",
                    "unmodifiedRewriteTimeMs": "764",
                    "scanTimeMs": "1558",
                    "numTargetRowsUpdated": "3",
                    "numOutputRows": "3",
                    "numTargetChangeFilesAdded": "0",
                    "numSourceRows": "3",
                    "numTargetFilesRemoved": "1",
                    "rewriteTimeMs": "1047"
                  },
                  null,
                  "Apache-Spark/3.3.1.5.2-86323270 Delta-Lake/2.2.0.2"
                ],
                [
                  "7",
                  "2023-05-01T17:36:56Z",
                  null,
                  null,
                  "MERGE",
                  {
                    "predicate": "(spark_catalog.default.cities.name = dfnewcities.name)",
                    "matchedPredicates": "[{\"actionType\":\"update\"}]",
                    "notMatchedPredicates": "[{\"actionType\":\"insert\"}]"
                  },
                  null,
                  null,
                  null,
                  "6",
                  "Serializable",
                  false,
                  {
                    "numTargetRowsCopied": "1",
                    "numTargetRowsDeleted": "0",
                    "numTargetFilesAdded": "2",
                    "executionTimeMs": "3767",
                    "numTargetRowsInserted": "1",
                    "unmodifiedRewriteTimeMs": "895",
                    "scanTimeMs": "2139",
                    "numTargetRowsUpdated": "2",
                    "numOutputRows": "4",
                    "numTargetChangeFilesAdded": "0",
                    "numSourceRows": "3",
                    "numTargetFilesRemoved": "1",
                    "rewriteTimeMs": "1434"
                  },
                  null,
                  "Apache-Spark/3.3.1.5.2-86323270 Delta-Lake/2.2.0.2"
                ],
                [
                  "6",
                  "2023-05-01T17:14:39Z",
                  null,
                  null,
                  "OPTIMIZE",
                  {
                    "predicate": "[]",
                    "auto": "false",
                    "zOrderBy": "[]"
                  },
                  null,
                  null,
                  null,
                  "5",
                  "SnapshotIsolation",
                  false,
                  {
                    "numRemovedFiles": "3",
                    "numRemovedBytes": "2252",
                    "p25FileSize": "774",
                    "minFileSize": "774",
                    "numAddedFiles": "1",
                    "maxFileSize": "774",
                    "p75FileSize": "774",
                    "p50FileSize": "774",
                    "numAddedBytes": "774"
                  },
                  null,
                  "Apache-Spark/3.3.1.5.2-86323270 Delta-Lake/2.2.0.2"
                ],
                [
                  "5",
                  "2023-05-01T15:54:28Z",
                  null,
                  null,
                  "DELETE",
                  {
                    "predicate": "[\"(spark_catalog.default.cities.name = 'Seattle')\"]"
                  },
                  null,
                  null,
                  null,
                  "4",
                  "Serializable",
                  false,
                  {
                    "numRemovedFiles": "1",
                    "numCopiedRows": "0",
                    "numAddedChangeFiles": "0",
                    "executionTimeMs": "1824",
                    "numDeletedRows": "1",
                    "scanTimeMs": "1236",
                    "numAddedFiles": "0",
                    "rewriteTimeMs": "587"
                  },
                  null,
                  "Apache-Spark/3.3.1.5.2-86323270 Delta-Lake/2.2.0.2"
                ],
                [
                  "4",
                  "2023-05-01T15:53:33Z",
                  null,
                  null,
                  "UPDATE",
                  {},
                  null,
                  null,
                  null,
                  "3",
                  "Serializable",
                  false,
                  {
                    "numRemovedFiles": "4",
                    "numCopiedRows": "0",
                    "numAddedChangeFiles": "0",
                    "executionTimeMs": "927",
                    "scanTimeMs": "250",
                    "numAddedFiles": "4",
                    "numUpdatedRows": "4",
                    "rewriteTimeMs": "676"
                  },
                  null,
                  "Apache-Spark/3.3.1.5.2-86323270 Delta-Lake/2.2.0.2"
                ],
                [
                  "3",
                  "2023-05-01T15:52:28Z",
                  null,
                  null,
                  "UPDATE",
                  {},
                  null,
                  null,
                  null,
                  "2",
                  "Serializable",
                  false,
                  {
                    "numRemovedFiles": "4",
                    "numCopiedRows": "0",
                    "numAddedChangeFiles": "0",
                    "executionTimeMs": "937",
                    "scanTimeMs": "323",
                    "numAddedFiles": "4",
                    "numUpdatedRows": "4",
                    "rewriteTimeMs": "614"
                  },
                  null,
                  "Apache-Spark/3.3.1.5.2-86323270 Delta-Lake/2.2.0.2"
                ],
                [
                  "2",
                  "2023-05-01T15:49:00Z",
                  null,
                  null,
                  "UPDATE",
                  {},
                  null,
                  null,
                  null,
                  "1",
                  "Serializable",
                  false,
                  {
                    "numRemovedFiles": "4",
                    "numCopiedRows": "0",
                    "numAddedChangeFiles": "0",
                    "executionTimeMs": "1937",
                    "scanTimeMs": "404",
                    "numAddedFiles": "4",
                    "numUpdatedRows": "4",
                    "rewriteTimeMs": "1530"
                  },
                  null,
                  "Apache-Spark/3.3.1.5.2-86323270 Delta-Lake/2.2.0.2"
                ],
                [
                  "1",
                  "2023-05-01T15:09:06Z",
                  null,
                  null,
                  "WRITE",
                  {
                    "mode": "Append",
                    "partitionBy": "[]"
                  },
                  null,
                  null,
                  null,
                  "0",
                  "Serializable",
                  true,
                  {
                    "numFiles": "4",
                    "numOutputRows": "4",
                    "numOutputBytes": "2984"
                  },
                  null,
                  "Apache-Spark/3.3.1.5.2-86323270 Delta-Lake/2.2.0.2"
                ],
                [
                  "0",
                  "2023-05-01T15:06:37Z",
                  null,
                  null,
                  "CREATE TABLE",
                  {
                    "isManaged": "false",
                    "description": null,
                    "partitionBy": "[]",
                    "properties": "{}"
                  },
                  null,
                  null,
                  null,
                  null,
                  "Serializable",
                  true,
                  {},
                  null,
                  "Apache-Spark/3.3.1.5.2-86323270 Delta-Lake/2.2.0.2"
                ]
              ]
            },
            "text/plain": "<Spark SQL result set with 9 rows and 15 fields>"
          },
          "metadata": {}
        }
      ],
      "execution_count": 99,
      "metadata": {
        "jupyter": {
          "source_hidden": false,
          "outputs_hidden": false
        },
        "nteract": {
          "transient": {
            "deleting": false
          }
        },
        "microsoft": {
          "language": "sparksql"
        },
        "collapsed": false
      }
    },
    {
      "cell_type": "markdown",
      "source": [
        "We can of course do something similar in pySpark.  Something like this:\r\n",
        "\r\n",
        "```spark\r\n",
        "delta_table.history().show(20, 1000, False)\r\n",
        "```"
      ],
      "metadata": {
        "nteract": {
          "transient": {
            "deleting": false
          }
        }
      }
    },
    {
      "cell_type": "markdown",
      "source": [
        "## Read older versions of data using Time Travel\n",
        "\n",
        "You can query previous snapshots of your Delta Lake table by using a feature called Time Travel. If you want to access the data that you overwrote, you can query a snapshot of the table before you overwrote the first set of data using the versionAsOf option.\n",
        "\n",
        "Once you run the cell below, you should see the first set of data, from before you overwrote it. Time Travel is an extremely powerful feature that takes advantage of the power of the Delta Lake transaction log to access data that is no longer in the table. Removing the version 0 option (or specifying version 1) would let you see the newer data again. For more information, see [Query an older snapshot of a table (time travel)](https://docs.delta.io/latest/delta-batch.html#deltatimetravel)."
      ],
      "metadata": {}
    },
    {
      "cell_type": "code",
      "source": [
        "%%sql\r\n",
        "REFRESH TABLE cities"
      ],
      "outputs": [
        {
          "output_type": "display_data",
          "data": {
            "application/vnd.livy.statement-meta+json": {
              "spark_pool": "SampleSpark",
              "session_id": "9",
              "statement_id": 461,
              "state": "finished",
              "livy_statement_state": "available",
              "queued_time": "2023-05-01T18:03:22.2602805Z",
              "session_start_time": null,
              "execution_start_time": "2023-05-01T18:03:22.4115179Z",
              "execution_finish_time": "2023-05-01T18:03:23.5103567Z",
              "spark_jobs": null,
              "parent_msg_id": "e0b87d94-a1ad-4365-9e0b-590230b48460"
            },
            "text/plain": "StatementMeta(SampleSpark, 9, 461, Finished, Available)"
          },
          "metadata": {}
        },
        {
          "output_type": "execute_result",
          "execution_count": 102,
          "data": {
            "application/vnd.synapse.sparksql-result+json": {
              "schema": {
                "type": "struct",
                "fields": []
              },
              "data": []
            },
            "text/plain": "<Spark SQL result set with 0 rows and 0 fields>"
          },
          "metadata": {}
        }
      ],
      "execution_count": 102,
      "metadata": {
        "jupyter": {
          "source_hidden": false,
          "outputs_hidden": false
        },
        "nteract": {
          "transient": {
            "deleting": false
          }
        },
        "microsoft": {
          "language": "sparksql"
        },
        "collapsed": false
      }
    },
    {
      "cell_type": "code",
      "source": [
        "%%sql\r\n",
        "\r\n",
        "select * from cities VERSION AS OF 7"
      ],
      "outputs": [
        {
          "output_type": "display_data",
          "data": {
            "application/vnd.livy.statement-meta+json": {
              "spark_pool": "SampleSpark",
              "session_id": "9",
              "statement_id": 472,
              "state": "finished",
              "livy_statement_state": "available",
              "queued_time": "2023-05-01T18:10:34.7752654Z",
              "session_start_time": null,
              "execution_start_time": "2023-05-01T18:10:34.9124506Z",
              "execution_finish_time": "2023-05-01T18:10:37.7853793Z",
              "spark_jobs": null,
              "parent_msg_id": "ec884109-cbd0-4c9a-a754-39503aaf9f50"
            },
            "text/plain": "StatementMeta(SampleSpark, 9, 472, Finished, Available)"
          },
          "metadata": {}
        },
        {
          "output_type": "execute_result",
          "execution_count": 108,
          "data": {
            "application/vnd.synapse.sparksql-result+json": {
              "schema": {
                "type": "struct",
                "fields": [
                  {
                    "name": "name",
                    "type": "string",
                    "nullable": true,
                    "metadata": {}
                  },
                  {
                    "name": "population",
                    "type": "integer",
                    "nullable": true,
                    "metadata": {}
                  }
                ]
              },
              "data": [
                [
                  "Bangalore",
                  20
                ],
                [
                  "Philadelphia",
                  30
                ],
                [
                  "San Francisco",
                  10
                ],
                [
                  "Beijing",
                  236940
                ]
              ]
            },
            "text/plain": "<Spark SQL result set with 4 rows and 2 fields>"
          },
          "metadata": {}
        }
      ],
      "execution_count": 108,
      "metadata": {
        "jupyter": {
          "source_hidden": false,
          "outputs_hidden": false
        },
        "nteract": {
          "transient": {
            "deleting": false
          }
        },
        "microsoft": {
          "language": "sparksql"
        },
        "collapsed": false
      }
    },
    {
      "cell_type": "markdown",
      "source": [
        "or we could do something like this:\r\n",
        "\r\n",
        "```sql\r\n",
        "SELECT * FROM cities TIMESTAMP AS OF '2019-01-29 00:37:58'\r\n",
        "```"
      ],
      "metadata": {
        "nteract": {
          "transient": {
            "deleting": false
          }
        }
      }
    },
    {
      "cell_type": "markdown",
      "source": [
        "## Let's put it all together with a different example\r\n",
        "\r\n",
        "First, create some data"
      ],
      "metadata": {
        "nteract": {
          "transient": {
            "deleting": false
          }
        }
      }
    },
    {
      "cell_type": "code",
      "source": [
        "columns = [\"book_id\", \"book_author\", \"book_name\", \"book_pub_year\"]\r\n",
        "vals = [\r\n",
        "     (\"b00001\", \"Arthur Conan Doyle\", \"A study in scarlet\", 1887),\r\n",
        "     (\"b00001\", \"Arthur Conan Doyle\", \"A study in scarlet\", 1887),\r\n",
        "     (\"b01001\", \"Arthur Conan Doyle\", \"The adventures of Sherlock Holmes\", 1892),\r\n",
        "     (\"b00501\", \"Arthur Conan Doyle\", \"The memoirs of Sherlock Holmes\", 1893),\r\n",
        "     (\"b00300\", \"Arthur Conan Doyle\", \"The hounds of Baskerville\", 1901)\r\n",
        "]\r\n",
        "dfBooks = spark.createDataFrame(vals, columns)\r\n",
        "dfBooks.printSchema\r\n",
        "display(dfBooks)"
      ],
      "outputs": [
        {
          "output_type": "display_data",
          "data": {
            "application/vnd.livy.statement-meta+json": {
              "spark_pool": "SampleSpark",
              "session_id": "9",
              "statement_id": 474,
              "state": "finished",
              "livy_statement_state": "available",
              "queued_time": "2023-05-01T18:15:46.2465835Z",
              "session_start_time": null,
              "execution_start_time": "2023-05-01T18:15:46.3921138Z",
              "execution_finish_time": "2023-05-01T18:15:53.4472466Z",
              "spark_jobs": null,
              "parent_msg_id": "ca9c4b8a-26f6-4b0e-993f-8c8bec9f87ea"
            },
            "text/plain": "StatementMeta(SampleSpark, 9, 474, Finished, Available)"
          },
          "metadata": {}
        },
        {
          "output_type": "display_data",
          "data": {
            "application/vnd.synapse.widget-view+json": {
              "widget_id": "054749af-6074-4416-af32-62625ba3614c",
              "widget_type": "Synapse.DataFrame"
            },
            "text/plain": "SynapseWidget(Synapse.DataFrame, 054749af-6074-4416-af32-62625ba3614c)"
          },
          "metadata": {}
        }
      ],
      "execution_count": 109,
      "metadata": {
        "jupyter": {
          "source_hidden": false,
          "outputs_hidden": false
        },
        "nteract": {
          "transient": {
            "deleting": false
          }
        },
        "collapsed": false
      }
    },
    {
      "cell_type": "code",
      "source": [
        "filePath = \"{}/deltaExample/books-{}\".format(sandboxRoot,whoami)\r\n",
        "print(filePath)\r\n",
        "\r\n",
        "#remember this trick?\r\n",
        "spark.conf.set(\"nv.filePath\", filePath)"
      ],
      "outputs": [
        {
          "output_type": "display_data",
          "data": {
            "application/vnd.livy.statement-meta+json": {
              "spark_pool": "SampleSpark",
              "session_id": "9",
              "statement_id": 480,
              "state": "finished",
              "livy_statement_state": "available",
              "queued_time": "2023-05-01T18:37:09.908995Z",
              "session_start_time": null,
              "execution_start_time": "2023-05-01T18:37:10.0823395Z",
              "execution_finish_time": "2023-05-01T18:37:10.2574019Z",
              "spark_jobs": null,
              "parent_msg_id": "af98c25d-1fcd-4463-8a43-1bab4debe569"
            },
            "text/plain": "StatementMeta(SampleSpark, 9, 480, Finished, Available)"
          },
          "metadata": {}
        },
        {
          "output_type": "stream",
          "name": "stdout",
          "text": [
            "abfss://defaultfs@asadatalakedavew891.dfs.core.windows.net/deltaExample/books-davew\n"
          ]
        }
      ],
      "execution_count": 114,
      "metadata": {
        "jupyter": {
          "source_hidden": false,
          "outputs_hidden": false
        },
        "nteract": {
          "transient": {
            "deleting": false
          }
        }
      }
    },
    {
      "cell_type": "code",
      "source": [
        "dfBooks.write.format(\"delta\").save(filePath)"
      ],
      "outputs": [
        {
          "output_type": "display_data",
          "data": {
            "application/vnd.livy.statement-meta+json": {
              "spark_pool": "SampleSpark",
              "session_id": "9",
              "statement_id": 477,
              "state": "finished",
              "livy_statement_state": "available",
              "queued_time": "2023-05-01T18:32:14.9285376Z",
              "session_start_time": null,
              "execution_start_time": "2023-05-01T18:32:15.0703606Z",
              "execution_finish_time": "2023-05-01T18:32:17.9032639Z",
              "spark_jobs": null,
              "parent_msg_id": "fc1c4f21-44d5-459a-ad00-1e38aff93f7e"
            },
            "text/plain": "StatementMeta(SampleSpark, 9, 477, Finished, Available)"
          },
          "metadata": {}
        }
      ],
      "execution_count": 111,
      "metadata": {
        "jupyter": {
          "source_hidden": false,
          "outputs_hidden": false
        },
        "nteract": {
          "transient": {
            "deleting": false
          }
        }
      }
    },
    {
      "cell_type": "code",
      "source": [
        "%%sql\r\n",
        "\r\n",
        "--let's say you want to do everything from SQL, similar to \"exploring your datalake\"\r\n",
        "--change the code to put the filepath from above\r\n",
        "\r\n",
        "SELECT * FROM \r\n",
        "delta.`abfss://defaultfs@asadatalakedavew891.dfs.core.windows.net/deltaExample/books-davew`\r\n",
        "\r\n"
      ],
      "outputs": [
        {
          "output_type": "display_data",
          "data": {
            "application/vnd.livy.statement-meta+json": {
              "spark_pool": "SampleSpark",
              "session_id": "9",
              "statement_id": 478,
              "state": "finished",
              "livy_statement_state": "available",
              "queued_time": "2023-05-01T18:35:32.684818Z",
              "session_start_time": null,
              "execution_start_time": "2023-05-01T18:35:32.8338886Z",
              "execution_finish_time": "2023-05-01T18:35:36.2389247Z",
              "spark_jobs": null,
              "parent_msg_id": "4eacd636-9095-4688-95c4-f4966d7d3441"
            },
            "text/plain": "StatementMeta(SampleSpark, 9, 478, Finished, Available)"
          },
          "metadata": {}
        },
        {
          "output_type": "execute_result",
          "execution_count": 112,
          "data": {
            "application/vnd.synapse.sparksql-result+json": {
              "schema": {
                "type": "struct",
                "fields": [
                  {
                    "name": "book_id",
                    "type": "string",
                    "nullable": true,
                    "metadata": {}
                  },
                  {
                    "name": "book_author",
                    "type": "string",
                    "nullable": true,
                    "metadata": {}
                  },
                  {
                    "name": "book_name",
                    "type": "string",
                    "nullable": true,
                    "metadata": {}
                  },
                  {
                    "name": "book_pub_year",
                    "type": "long",
                    "nullable": true,
                    "metadata": {}
                  }
                ]
              },
              "data": [
                [
                  "b01001",
                  "Arthur Conan Doyle",
                  "The adventures of Sherlock Holmes",
                  "1892"
                ],
                [
                  "b00501",
                  "Arthur Conan Doyle",
                  "The memoirs of Sherlock Holmes",
                  "1893"
                ],
                [
                  "b00300",
                  "Arthur Conan Doyle",
                  "The hounds of Baskerville",
                  "1901"
                ],
                [
                  "b00001",
                  "Arthur Conan Doyle",
                  "A study in scarlet",
                  "1887"
                ],
                [
                  "b00001",
                  "Arthur Conan Doyle",
                  "A study in scarlet",
                  "1887"
                ]
              ]
            },
            "text/plain": "<Spark SQL result set with 5 rows and 4 fields>"
          },
          "metadata": {}
        }
      ],
      "execution_count": 112,
      "metadata": {
        "jupyter": {
          "source_hidden": false,
          "outputs_hidden": false
        },
        "nteract": {
          "transient": {
            "deleting": false
          }
        },
        "microsoft": {
          "language": "sparksql"
        },
        "collapsed": false
      }
    },
    {
      "cell_type": "code",
      "source": [
        "%%sql\r\n",
        "\r\n",
        "--...or...we can do it this way\r\n",
        "select \"${nv.filePath}\" as delta_table_path;\r\n",
        "\r\n",
        "SELECT * FROM delta.`${nv.filePath}`"
      ],
      "outputs": [
        {
          "output_type": "display_data",
          "data": {
            "application/vnd.livy.statement-meta+json": {
              "spark_pool": null,
              "session_id": "9",
              "statement_id": -1,
              "state": "finished",
              "livy_statement_state": "available",
              "queued_time": "2023-05-01T18:42:07.2793354Z",
              "session_start_time": null,
              "execution_start_time": "2023-05-01T18:42:10.090767Z",
              "execution_finish_time": "2023-05-01T18:42:10.091002Z",
              "spark_jobs": null,
              "parent_msg_id": "9904d02a-afd3-4532-a28c-566056935011"
            },
            "text/plain": "StatementMeta(, 9, -1, Finished, Available)"
          },
          "metadata": {}
        },
        {
          "output_type": "execute_result",
          "execution_count": 121,
          "data": {
            "application/vnd.synapse.sparksql-result+json": {
              "schema": {
                "type": "struct",
                "fields": [
                  {
                    "name": "delta_table_path",
                    "type": "string",
                    "nullable": false,
                    "metadata": {}
                  }
                ]
              },
              "data": [
                [
                  "abfss://defaultfs@asadatalakedavew891.dfs.core.windows.net/deltaExample/books-davew"
                ]
              ]
            },
            "text/plain": "<Spark SQL result set with 1 rows and 1 fields>"
          },
          "metadata": {}
        },
        {
          "output_type": "execute_result",
          "execution_count": 121,
          "data": {
            "application/vnd.synapse.sparksql-result+json": {
              "schema": {
                "type": "struct",
                "fields": [
                  {
                    "name": "book_id",
                    "type": "string",
                    "nullable": true,
                    "metadata": {}
                  },
                  {
                    "name": "book_author",
                    "type": "string",
                    "nullable": true,
                    "metadata": {}
                  },
                  {
                    "name": "book_name",
                    "type": "string",
                    "nullable": true,
                    "metadata": {}
                  },
                  {
                    "name": "book_pub_year",
                    "type": "long",
                    "nullable": true,
                    "metadata": {}
                  }
                ]
              },
              "data": [
                [
                  "b01001",
                  "Arthur Conan Doyle",
                  "The adventures of Sherlock Holmes",
                  "1892"
                ],
                [
                  "b00501",
                  "Arthur Conan Doyle",
                  "The memoirs of Sherlock Holmes",
                  "1893"
                ],
                [
                  "b00300",
                  "Arthur Conan Doyle",
                  "The hounds of Baskerville",
                  "1901"
                ],
                [
                  "b00001",
                  "Arthur Conan Doyle",
                  "A study in scarlet",
                  "1887"
                ],
                [
                  "b00001",
                  "Arthur Conan Doyle",
                  "A study in scarlet",
                  "1887"
                ]
              ]
            },
            "text/plain": "<Spark SQL result set with 5 rows and 4 fields>"
          },
          "metadata": {}
        }
      ],
      "execution_count": 121,
      "metadata": {
        "jupyter": {
          "source_hidden": false,
          "outputs_hidden": false
        },
        "nteract": {
          "transient": {
            "deleting": false
          }
        },
        "microsoft": {
          "language": "sparksql"
        },
        "collapsed": false
      }
    },
    {
      "cell_type": "code",
      "source": [
        "%%sql \r\n",
        "\r\n",
        "--note that we have 5 files and NO PARTITIONING\r\n",
        "DESCRIBE DETAIL delta.`${nv.filePath}`;"
      ],
      "outputs": [
        {
          "output_type": "display_data",
          "data": {
            "application/vnd.livy.statement-meta+json": {
              "spark_pool": "SampleSpark",
              "session_id": "9",
              "statement_id": 491,
              "state": "finished",
              "livy_statement_state": "available",
              "queued_time": "2023-05-01T18:43:17.7597911Z",
              "session_start_time": null,
              "execution_start_time": "2023-05-01T18:43:17.8999695Z",
              "execution_finish_time": "2023-05-01T18:43:18.4426925Z",
              "spark_jobs": null,
              "parent_msg_id": "587cdb44-0269-4d49-8ab0-7f9f9408f7cb"
            },
            "text/plain": "StatementMeta(SampleSpark, 9, 491, Finished, Available)"
          },
          "metadata": {}
        },
        {
          "output_type": "execute_result",
          "execution_count": 122,
          "data": {
            "application/vnd.synapse.sparksql-result+json": {
              "schema": {
                "type": "struct",
                "fields": [
                  {
                    "name": "format",
                    "type": "string",
                    "nullable": true,
                    "metadata": {}
                  },
                  {
                    "name": "id",
                    "type": "string",
                    "nullable": true,
                    "metadata": {}
                  },
                  {
                    "name": "name",
                    "type": "string",
                    "nullable": true,
                    "metadata": {}
                  },
                  {
                    "name": "description",
                    "type": "string",
                    "nullable": true,
                    "metadata": {}
                  },
                  {
                    "name": "location",
                    "type": "string",
                    "nullable": true,
                    "metadata": {}
                  },
                  {
                    "name": "createdAt",
                    "type": "timestamp",
                    "nullable": true,
                    "metadata": {}
                  },
                  {
                    "name": "lastModified",
                    "type": "timestamp",
                    "nullable": true,
                    "metadata": {}
                  },
                  {
                    "name": "partitionColumns",
                    "type": {
                      "type": "array",
                      "elementType": "string",
                      "containsNull": true
                    },
                    "nullable": true,
                    "metadata": {}
                  },
                  {
                    "name": "numFiles",
                    "type": "long",
                    "nullable": true,
                    "metadata": {}
                  },
                  {
                    "name": "sizeInBytes",
                    "type": "long",
                    "nullable": true,
                    "metadata": {}
                  },
                  {
                    "name": "properties",
                    "type": {
                      "type": "map",
                      "keyType": "string",
                      "valueType": "string",
                      "valueContainsNull": true
                    },
                    "nullable": true,
                    "metadata": {}
                  },
                  {
                    "name": "minReaderVersion",
                    "type": "integer",
                    "nullable": true,
                    "metadata": {}
                  },
                  {
                    "name": "minWriterVersion",
                    "type": "integer",
                    "nullable": true,
                    "metadata": {}
                  }
                ]
              },
              "data": [
                [
                  "delta",
                  "c3237847-8268-4304-9a6b-73a48cffb3be",
                  null,
                  null,
                  "abfss://defaultfs@asadatalakedavew891.dfs.core.windows.net/deltaExample/books-davew",
                  "2023-05-01T18:32:15Z",
                  "2023-05-01T18:32:16Z",
                  [],
                  "5",
                  "7575",
                  {},
                  1,
                  2
                ]
              ]
            },
            "text/plain": "<Spark SQL result set with 1 rows and 13 fields>"
          },
          "metadata": {}
        }
      ],
      "execution_count": 122,
      "metadata": {
        "jupyter": {
          "source_hidden": false,
          "outputs_hidden": false
        },
        "nteract": {
          "transient": {
            "deleting": false
          }
        },
        "microsoft": {
          "language": "sparksql"
        },
        "collapsed": false
      }
    },
    {
      "cell_type": "code",
      "source": [
        "%%sql\r\n",
        "\r\n",
        "OPTIMIZE delta.`${nv.filePath}`;"
      ],
      "outputs": [
        {
          "output_type": "display_data",
          "data": {
            "application/vnd.livy.statement-meta+json": {
              "spark_pool": "SampleSpark",
              "session_id": "9",
              "statement_id": 492,
              "state": "finished",
              "livy_statement_state": "available",
              "queued_time": "2023-05-01T18:44:40.3221525Z",
              "session_start_time": null,
              "execution_start_time": "2023-05-01T18:44:40.4694716Z",
              "execution_finish_time": "2023-05-01T18:44:44.4800791Z",
              "spark_jobs": null,
              "parent_msg_id": "a0450201-c4b0-4f31-aa92-f5c3f410ed9b"
            },
            "text/plain": "StatementMeta(SampleSpark, 9, 492, Finished, Available)"
          },
          "metadata": {}
        },
        {
          "output_type": "execute_result",
          "execution_count": 123,
          "data": {
            "application/vnd.synapse.sparksql-result+json": {
              "schema": {
                "type": "struct",
                "fields": [
                  {
                    "name": "path",
                    "type": "string",
                    "nullable": true,
                    "metadata": {}
                  },
                  {
                    "name": "metrics",
                    "type": {
                      "type": "struct",
                      "fields": [
                        {
                          "name": "numFilesAdded",
                          "type": "long",
                          "nullable": false,
                          "metadata": {}
                        },
                        {
                          "name": "numFilesRemoved",
                          "type": "long",
                          "nullable": false,
                          "metadata": {}
                        },
                        {
                          "name": "filesAdded",
                          "type": {
                            "type": "struct",
                            "fields": [
                              {
                                "name": "min",
                                "type": "long",
                                "nullable": true,
                                "metadata": {}
                              },
                              {
                                "name": "max",
                                "type": "long",
                                "nullable": true,
                                "metadata": {}
                              },
                              {
                                "name": "avg",
                                "type": "double",
                                "nullable": false,
                                "metadata": {}
                              },
                              {
                                "name": "totalFiles",
                                "type": "long",
                                "nullable": false,
                                "metadata": {}
                              },
                              {
                                "name": "totalSize",
                                "type": "long",
                                "nullable": false,
                                "metadata": {}
                              }
                            ]
                          },
                          "nullable": true,
                          "metadata": {}
                        },
                        {
                          "name": "filesRemoved",
                          "type": {
                            "type": "struct",
                            "fields": [
                              {
                                "name": "min",
                                "type": "long",
                                "nullable": true,
                                "metadata": {}
                              },
                              {
                                "name": "max",
                                "type": "long",
                                "nullable": true,
                                "metadata": {}
                              },
                              {
                                "name": "avg",
                                "type": "double",
                                "nullable": false,
                                "metadata": {}
                              },
                              {
                                "name": "totalFiles",
                                "type": "long",
                                "nullable": false,
                                "metadata": {}
                              },
                              {
                                "name": "totalSize",
                                "type": "long",
                                "nullable": false,
                                "metadata": {}
                              }
                            ]
                          },
                          "nullable": true,
                          "metadata": {}
                        },
                        {
                          "name": "partitionsOptimized",
                          "type": "long",
                          "nullable": false,
                          "metadata": {}
                        },
                        {
                          "name": "zOrderStats",
                          "type": {
                            "type": "struct",
                            "fields": [
                              {
                                "name": "strategyName",
                                "type": "string",
                                "nullable": true,
                                "metadata": {}
                              },
                              {
                                "name": "inputCubeFiles",
                                "type": {
                                  "type": "struct",
                                  "fields": [
                                    {
                                      "name": "num",
                                      "type": "long",
                                      "nullable": false,
                                      "metadata": {}
                                    },
                                    {
                                      "name": "size",
                                      "type": "long",
                                      "nullable": false,
                                      "metadata": {}
                                    }
                                  ]
                                },
                                "nullable": true,
                                "metadata": {}
                              },
                              {
                                "name": "inputOtherFiles",
                                "type": {
                                  "type": "struct",
                                  "fields": [
                                    {
                                      "name": "num",
                                      "type": "long",
                                      "nullable": false,
                                      "metadata": {}
                                    },
                                    {
                                      "name": "size",
                                      "type": "long",
                                      "nullable": false,
                                      "metadata": {}
                                    }
                                  ]
                                },
                                "nullable": true,
                                "metadata": {}
                              },
                              {
                                "name": "inputNumCubes",
                                "type": "long",
                                "nullable": false,
                                "metadata": {}
                              },
                              {
                                "name": "mergedFiles",
                                "type": {
                                  "type": "struct",
                                  "fields": [
                                    {
                                      "name": "num",
                                      "type": "long",
                                      "nullable": false,
                                      "metadata": {}
                                    },
                                    {
                                      "name": "size",
                                      "type": "long",
                                      "nullable": false,
                                      "metadata": {}
                                    }
                                  ]
                                },
                                "nullable": true,
                                "metadata": {}
                              },
                              {
                                "name": "numOutputCubes",
                                "type": "long",
                                "nullable": false,
                                "metadata": {}
                              },
                              {
                                "name": "mergedNumCubes",
                                "type": "long",
                                "nullable": true,
                                "metadata": {}
                              }
                            ]
                          },
                          "nullable": true,
                          "metadata": {}
                        },
                        {
                          "name": "numBatches",
                          "type": "long",
                          "nullable": false,
                          "metadata": {}
                        },
                        {
                          "name": "totalConsideredFiles",
                          "type": "long",
                          "nullable": false,
                          "metadata": {}
                        },
                        {
                          "name": "totalFilesSkipped",
                          "type": "long",
                          "nullable": false,
                          "metadata": {}
                        },
                        {
                          "name": "preserveInsertionOrder",
                          "type": "boolean",
                          "nullable": false,
                          "metadata": {}
                        },
                        {
                          "name": "numFilesSkippedToReduceWriteAmplification",
                          "type": "long",
                          "nullable": false,
                          "metadata": {}
                        },
                        {
                          "name": "numBytesSkippedToReduceWriteAmplification",
                          "type": "long",
                          "nullable": false,
                          "metadata": {}
                        },
                        {
                          "name": "startTimeMs",
                          "type": "long",
                          "nullable": false,
                          "metadata": {}
                        },
                        {
                          "name": "endTimeMs",
                          "type": "long",
                          "nullable": false,
                          "metadata": {}
                        },
                        {
                          "name": "totalClusterParallelism",
                          "type": "long",
                          "nullable": false,
                          "metadata": {}
                        },
                        {
                          "name": "totalScheduledTasks",
                          "type": "long",
                          "nullable": false,
                          "metadata": {}
                        },
                        {
                          "name": "autoCompactParallelismStats",
                          "type": {
                            "type": "struct",
                            "fields": [
                              {
                                "name": "maxClusterActiveParallelism",
                                "type": "long",
                                "nullable": true,
                                "metadata": {}
                              },
                              {
                                "name": "minClusterActiveParallelism",
                                "type": "long",
                                "nullable": true,
                                "metadata": {}
                              },
                              {
                                "name": "maxSessionActiveParallelism",
                                "type": "long",
                                "nullable": true,
                                "metadata": {}
                              },
                              {
                                "name": "minSessionActiveParallelism",
                                "type": "long",
                                "nullable": true,
                                "metadata": {}
                              }
                            ]
                          },
                          "nullable": true,
                          "metadata": {}
                        }
                      ]
                    },
                    "nullable": true,
                    "metadata": {}
                  }
                ]
              },
              "data": [
                [
                  "abfss://defaultfs@asadatalakedavew891.dfs.core.windows.net/deltaExample/books-davew",
                  {
                    "schema": [
                      {
                        "name": "numFilesAdded",
                        "dataType": {},
                        "nullable": false,
                        "metadata": {
                          "map": {}
                        }
                      },
                      {
                        "name": "numFilesRemoved",
                        "dataType": {},
                        "nullable": false,
                        "metadata": {
                          "map": {}
                        }
                      },
                      {
                        "name": "filesAdded",
                        "dataType": [
                          {
                            "name": "min",
                            "dataType": {},
                            "nullable": true,
                            "metadata": {
                              "map": {}
                            }
                          },
                          {
                            "name": "max",
                            "dataType": {},
                            "nullable": true,
                            "metadata": {
                              "map": {}
                            }
                          },
                          {
                            "name": "avg",
                            "dataType": {},
                            "nullable": false,
                            "metadata": {
                              "map": {}
                            }
                          },
                          {
                            "name": "totalFiles",
                            "dataType": {},
                            "nullable": false,
                            "metadata": {
                              "map": {}
                            }
                          },
                          {
                            "name": "totalSize",
                            "dataType": {},
                            "nullable": false,
                            "metadata": {
                              "map": {}
                            }
                          }
                        ],
                        "nullable": true,
                        "metadata": {
                          "map": {}
                        }
                      },
                      {
                        "name": "filesRemoved",
                        "dataType": [
                          {
                            "name": "min",
                            "dataType": {},
                            "nullable": true,
                            "metadata": {
                              "map": {}
                            }
                          },
                          {
                            "name": "max",
                            "dataType": {},
                            "nullable": true,
                            "metadata": {
                              "map": {}
                            }
                          },
                          {
                            "name": "avg",
                            "dataType": {},
                            "nullable": false,
                            "metadata": {
                              "map": {}
                            }
                          },
                          {
                            "name": "totalFiles",
                            "dataType": {},
                            "nullable": false,
                            "metadata": {
                              "map": {}
                            }
                          },
                          {
                            "name": "totalSize",
                            "dataType": {},
                            "nullable": false,
                            "metadata": {
                              "map": {}
                            }
                          }
                        ],
                        "nullable": true,
                        "metadata": {
                          "map": {}
                        }
                      },
                      {
                        "name": "partitionsOptimized",
                        "dataType": {},
                        "nullable": false,
                        "metadata": {
                          "map": {}
                        }
                      },
                      {
                        "name": "zOrderStats",
                        "dataType": [
                          {
                            "name": "strategyName",
                            "dataType": {},
                            "nullable": true,
                            "metadata": {
                              "map": {}
                            }
                          },
                          {
                            "name": "inputCubeFiles",
                            "dataType": [
                              {
                                "name": "num",
                                "dataType": {},
                                "nullable": false,
                                "metadata": {
                                  "map": {}
                                }
                              },
                              {
                                "name": "size",
                                "dataType": {},
                                "nullable": false,
                                "metadata": {
                                  "map": {}
                                }
                              }
                            ],
                            "nullable": true,
                            "metadata": {
                              "map": {}
                            }
                          },
                          {
                            "name": "inputOtherFiles",
                            "dataType": [
                              {
                                "name": "num",
                                "dataType": {},
                                "nullable": false,
                                "metadata": {
                                  "map": {}
                                }
                              },
                              {
                                "name": "size",
                                "dataType": {},
                                "nullable": false,
                                "metadata": {
                                  "map": {}
                                }
                              }
                            ],
                            "nullable": true,
                            "metadata": {
                              "map": {}
                            }
                          },
                          {
                            "name": "inputNumCubes",
                            "dataType": {},
                            "nullable": false,
                            "metadata": {
                              "map": {}
                            }
                          },
                          {
                            "name": "mergedFiles",
                            "dataType": [
                              {
                                "name": "num",
                                "dataType": {},
                                "nullable": false,
                                "metadata": {
                                  "map": {}
                                }
                              },
                              {
                                "name": "size",
                                "dataType": {},
                                "nullable": false,
                                "metadata": {
                                  "map": {}
                                }
                              }
                            ],
                            "nullable": true,
                            "metadata": {
                              "map": {}
                            }
                          },
                          {
                            "name": "numOutputCubes",
                            "dataType": {},
                            "nullable": false,
                            "metadata": {
                              "map": {}
                            }
                          },
                          {
                            "name": "mergedNumCubes",
                            "dataType": {},
                            "nullable": true,
                            "metadata": {
                              "map": {}
                            }
                          }
                        ],
                        "nullable": true,
                        "metadata": {
                          "map": {}
                        }
                      },
                      {
                        "name": "numBatches",
                        "dataType": {},
                        "nullable": false,
                        "metadata": {
                          "map": {}
                        }
                      },
                      {
                        "name": "totalConsideredFiles",
                        "dataType": {},
                        "nullable": false,
                        "metadata": {
                          "map": {}
                        }
                      },
                      {
                        "name": "totalFilesSkipped",
                        "dataType": {},
                        "nullable": false,
                        "metadata": {
                          "map": {}
                        }
                      },
                      {
                        "name": "preserveInsertionOrder",
                        "dataType": {},
                        "nullable": false,
                        "metadata": {
                          "map": {}
                        }
                      },
                      {
                        "name": "numFilesSkippedToReduceWriteAmplification",
                        "dataType": {},
                        "nullable": false,
                        "metadata": {
                          "map": {}
                        }
                      },
                      {
                        "name": "numBytesSkippedToReduceWriteAmplification",
                        "dataType": {},
                        "nullable": false,
                        "metadata": {
                          "map": {}
                        }
                      },
                      {
                        "name": "startTimeMs",
                        "dataType": {},
                        "nullable": false,
                        "metadata": {
                          "map": {}
                        }
                      },
                      {
                        "name": "endTimeMs",
                        "dataType": {},
                        "nullable": false,
                        "metadata": {
                          "map": {}
                        }
                      },
                      {
                        "name": "totalClusterParallelism",
                        "dataType": {},
                        "nullable": false,
                        "metadata": {
                          "map": {}
                        }
                      },
                      {
                        "name": "totalScheduledTasks",
                        "dataType": {},
                        "nullable": false,
                        "metadata": {
                          "map": {}
                        }
                      },
                      {
                        "name": "autoCompactParallelismStats",
                        "dataType": [
                          {
                            "name": "maxClusterActiveParallelism",
                            "dataType": {},
                            "nullable": true,
                            "metadata": {
                              "map": {}
                            }
                          },
                          {
                            "name": "minClusterActiveParallelism",
                            "dataType": {},
                            "nullable": true,
                            "metadata": {
                              "map": {}
                            }
                          },
                          {
                            "name": "maxSessionActiveParallelism",
                            "dataType": {},
                            "nullable": true,
                            "metadata": {
                              "map": {}
                            }
                          },
                          {
                            "name": "minSessionActiveParallelism",
                            "dataType": {},
                            "nullable": true,
                            "metadata": {
                              "map": {}
                            }
                          }
                        ],
                        "nullable": true,
                        "metadata": {
                          "map": {}
                        }
                      }
                    ],
                    "values": [
                      "1",
                      "5",
                      {
                        "schema": [
                          {
                            "name": "min",
                            "dataType": {},
                            "nullable": true,
                            "metadata": {
                              "map": {}
                            }
                          },
                          {
                            "name": "max",
                            "dataType": {},
                            "nullable": true,
                            "metadata": {
                              "map": {}
                            }
                          },
                          {
                            "name": "avg",
                            "dataType": {},
                            "nullable": false,
                            "metadata": {
                              "map": {}
                            }
                          },
                          {
                            "name": "totalFiles",
                            "dataType": {},
                            "nullable": false,
                            "metadata": {
                              "map": {}
                            }
                          },
                          {
                            "name": "totalSize",
                            "dataType": {},
                            "nullable": false,
                            "metadata": {
                              "map": {}
                            }
                          }
                        ],
                        "values": [
                          "1698",
                          "1698",
                          1698,
                          "1",
                          "1698"
                        ]
                      },
                      {
                        "schema": [
                          {
                            "name": "min",
                            "dataType": {},
                            "nullable": true,
                            "metadata": {
                              "map": {}
                            }
                          },
                          {
                            "name": "max",
                            "dataType": {},
                            "nullable": true,
                            "metadata": {
                              "map": {}
                            }
                          },
                          {
                            "name": "avg",
                            "dataType": {},
                            "nullable": false,
                            "metadata": {
                              "map": {}
                            }
                          },
                          {
                            "name": "totalFiles",
                            "dataType": {},
                            "nullable": false,
                            "metadata": {
                              "map": {}
                            }
                          },
                          {
                            "name": "totalSize",
                            "dataType": {},
                            "nullable": false,
                            "metadata": {
                              "map": {}
                            }
                          }
                        ],
                        "values": [
                          "1466",
                          "1574",
                          1515,
                          "5",
                          "7575"
                        ]
                      },
                      "1",
                      null,
                      "1",
                      "5",
                      "0",
                      false,
                      "0",
                      "0",
                      "1682966683533",
                      "0",
                      "8",
                      "0",
                      null
                    ]
                  }
                ]
              ]
            },
            "text/plain": "<Spark SQL result set with 1 rows and 2 fields>"
          },
          "metadata": {}
        }
      ],
      "execution_count": 123,
      "metadata": {
        "jupyter": {
          "source_hidden": false,
          "outputs_hidden": false
        },
        "nteract": {
          "transient": {
            "deleting": false
          }
        },
        "microsoft": {
          "language": "sparksql"
        },
        "collapsed": false
      }
    },
    {
      "cell_type": "code",
      "source": [
        "%%sql \r\n",
        "\r\n",
        "--note that we have 1 file now\r\n",
        "DESCRIBE DETAIL delta.`${nv.filePath}`;"
      ],
      "outputs": [
        {
          "output_type": "display_data",
          "data": {
            "application/vnd.livy.statement-meta+json": {
              "spark_pool": "SampleSpark",
              "session_id": "9",
              "statement_id": 493,
              "state": "finished",
              "livy_statement_state": "available",
              "queued_time": "2023-05-01T18:46:01.037589Z",
              "session_start_time": null,
              "execution_start_time": "2023-05-01T18:46:01.1881477Z",
              "execution_finish_time": "2023-05-01T18:46:02.2677394Z",
              "spark_jobs": null,
              "parent_msg_id": "b81ede55-f5fe-4b5a-9d77-e8dd92993aeb"
            },
            "text/plain": "StatementMeta(SampleSpark, 9, 493, Finished, Available)"
          },
          "metadata": {}
        },
        {
          "output_type": "execute_result",
          "execution_count": 124,
          "data": {
            "application/vnd.synapse.sparksql-result+json": {
              "schema": {
                "type": "struct",
                "fields": [
                  {
                    "name": "format",
                    "type": "string",
                    "nullable": true,
                    "metadata": {}
                  },
                  {
                    "name": "id",
                    "type": "string",
                    "nullable": true,
                    "metadata": {}
                  },
                  {
                    "name": "name",
                    "type": "string",
                    "nullable": true,
                    "metadata": {}
                  },
                  {
                    "name": "description",
                    "type": "string",
                    "nullable": true,
                    "metadata": {}
                  },
                  {
                    "name": "location",
                    "type": "string",
                    "nullable": true,
                    "metadata": {}
                  },
                  {
                    "name": "createdAt",
                    "type": "timestamp",
                    "nullable": true,
                    "metadata": {}
                  },
                  {
                    "name": "lastModified",
                    "type": "timestamp",
                    "nullable": true,
                    "metadata": {}
                  },
                  {
                    "name": "partitionColumns",
                    "type": {
                      "type": "array",
                      "elementType": "string",
                      "containsNull": true
                    },
                    "nullable": true,
                    "metadata": {}
                  },
                  {
                    "name": "numFiles",
                    "type": "long",
                    "nullable": true,
                    "metadata": {}
                  },
                  {
                    "name": "sizeInBytes",
                    "type": "long",
                    "nullable": true,
                    "metadata": {}
                  },
                  {
                    "name": "properties",
                    "type": {
                      "type": "map",
                      "keyType": "string",
                      "valueType": "string",
                      "valueContainsNull": true
                    },
                    "nullable": true,
                    "metadata": {}
                  },
                  {
                    "name": "minReaderVersion",
                    "type": "integer",
                    "nullable": true,
                    "metadata": {}
                  },
                  {
                    "name": "minWriterVersion",
                    "type": "integer",
                    "nullable": true,
                    "metadata": {}
                  }
                ]
              },
              "data": [
                [
                  "delta",
                  "c3237847-8268-4304-9a6b-73a48cffb3be",
                  null,
                  null,
                  "abfss://defaultfs@asadatalakedavew891.dfs.core.windows.net/deltaExample/books-davew",
                  "2023-05-01T18:32:15Z",
                  "2023-05-01T18:44:42Z",
                  [],
                  "1",
                  "1698",
                  {},
                  1,
                  2
                ]
              ]
            },
            "text/plain": "<Spark SQL result set with 1 rows and 13 fields>"
          },
          "metadata": {}
        }
      ],
      "execution_count": 124,
      "metadata": {
        "jupyter": {
          "source_hidden": false,
          "outputs_hidden": false
        },
        "nteract": {
          "transient": {
            "deleting": false
          }
        },
        "microsoft": {
          "language": "sparksql"
        },
        "collapsed": false
      }
    },
    {
      "cell_type": "code",
      "source": [
        "%%sql\r\n",
        "\r\n",
        "select * from delta.`${nv.filePath}`"
      ],
      "outputs": [
        {
          "output_type": "display_data",
          "data": {
            "application/vnd.livy.statement-meta+json": {
              "spark_pool": "SampleSpark",
              "session_id": "9",
              "statement_id": 494,
              "state": "finished",
              "livy_statement_state": "available",
              "queued_time": "2023-05-01T18:48:28.4561216Z",
              "session_start_time": null,
              "execution_start_time": "2023-05-01T18:48:28.6638464Z",
              "execution_finish_time": "2023-05-01T18:48:30.5271531Z",
              "spark_jobs": null,
              "parent_msg_id": "62ae5870-a3f0-4b78-bed5-50c533cb6d7d"
            },
            "text/plain": "StatementMeta(SampleSpark, 9, 494, Finished, Available)"
          },
          "metadata": {}
        },
        {
          "output_type": "execute_result",
          "execution_count": 125,
          "data": {
            "application/vnd.synapse.sparksql-result+json": {
              "schema": {
                "type": "struct",
                "fields": [
                  {
                    "name": "book_id",
                    "type": "string",
                    "nullable": true,
                    "metadata": {}
                  },
                  {
                    "name": "book_author",
                    "type": "string",
                    "nullable": true,
                    "metadata": {}
                  },
                  {
                    "name": "book_name",
                    "type": "string",
                    "nullable": true,
                    "metadata": {}
                  },
                  {
                    "name": "book_pub_year",
                    "type": "long",
                    "nullable": true,
                    "metadata": {}
                  }
                ]
              },
              "data": [
                [
                  "b01001",
                  "Arthur Conan Doyle",
                  "The adventures of Sherlock Holmes",
                  "1892"
                ],
                [
                  "b00501",
                  "Arthur Conan Doyle",
                  "The memoirs of Sherlock Holmes",
                  "1893"
                ],
                [
                  "b00300",
                  "Arthur Conan Doyle",
                  "The hounds of Baskerville",
                  "1901"
                ],
                [
                  "b00001",
                  "Arthur Conan Doyle",
                  "A study in scarlet",
                  "1887"
                ],
                [
                  "b00001",
                  "Arthur Conan Doyle",
                  "A study in scarlet",
                  "1887"
                ]
              ]
            },
            "text/plain": "<Spark SQL result set with 5 rows and 4 fields>"
          },
          "metadata": {}
        }
      ],
      "execution_count": 125,
      "metadata": {
        "jupyter": {
          "source_hidden": false,
          "outputs_hidden": false
        },
        "nteract": {
          "transient": {
            "deleting": false
          }
        },
        "microsoft": {
          "language": "sparksql"
        },
        "collapsed": false
      }
    },
    {
      "cell_type": "code",
      "source": [
        "# let's create some new data\r\n",
        "columns = [\"book_id\", \"book_author\", \"book_name\", \"book_pub_year\"]\r\n",
        "vals = [\r\n",
        "     (\"b00909\", \"Arthur Conan Doyle\", \"A scandal in Bohemia\", 1891),\r\n",
        "     (\"b00023\", \"Arthur Conan Doyle\", \"Playing with Fire\", 1900)\r\n",
        "]\r\n",
        "dfNewBooks = spark.createDataFrame(vals, columns)\r\n",
        "dfNewBooks.printSchema\r\n",
        "display(dfNewBooks)"
      ],
      "outputs": [
        {
          "output_type": "display_data",
          "data": {
            "application/vnd.livy.statement-meta+json": {
              "spark_pool": "SampleSpark",
              "session_id": "9",
              "statement_id": 495,
              "state": "finished",
              "livy_statement_state": "available",
              "queued_time": "2023-05-01T18:49:26.5020062Z",
              "session_start_time": null,
              "execution_start_time": "2023-05-01T18:49:26.6489587Z",
              "execution_finish_time": "2023-05-01T18:49:27.7820032Z",
              "spark_jobs": null,
              "parent_msg_id": "678bca78-7bd7-4b9e-87d8-51b05c55a419"
            },
            "text/plain": "StatementMeta(SampleSpark, 9, 495, Finished, Available)"
          },
          "metadata": {}
        },
        {
          "output_type": "display_data",
          "data": {
            "application/vnd.synapse.widget-view+json": {
              "widget_id": "445ea368-8f07-4f24-8932-b2a83814dc66",
              "widget_type": "Synapse.DataFrame"
            },
            "text/plain": "SynapseWidget(Synapse.DataFrame, 445ea368-8f07-4f24-8932-b2a83814dc66)"
          },
          "metadata": {}
        }
      ],
      "execution_count": 126,
      "metadata": {
        "jupyter": {
          "source_hidden": false,
          "outputs_hidden": false
        },
        "nteract": {
          "transient": {
            "deleting": false
          }
        },
        "collapsed": false
      }
    },
    {
      "cell_type": "code",
      "source": [
        "# do an append operation\r\n",
        "(dfNewBooks\r\n",
        "    .write\r\n",
        "    .format(\"delta\")\r\n",
        "    .mode(\"append\")\r\n",
        "    .save(filePath))"
      ],
      "outputs": [
        {
          "output_type": "display_data",
          "data": {
            "application/vnd.livy.statement-meta+json": {
              "spark_pool": "SampleSpark",
              "session_id": "9",
              "statement_id": 496,
              "state": "finished",
              "livy_statement_state": "available",
              "queued_time": "2023-05-01T18:51:08.4007854Z",
              "session_start_time": null,
              "execution_start_time": "2023-05-01T18:51:08.5652654Z",
              "execution_finish_time": "2023-05-01T18:51:11.3669812Z",
              "spark_jobs": null,
              "parent_msg_id": "09befcc2-3f59-4fd8-a85f-79c3eafd3230"
            },
            "text/plain": "StatementMeta(SampleSpark, 9, 496, Finished, Available)"
          },
          "metadata": {}
        }
      ],
      "execution_count": 127,
      "metadata": {
        "jupyter": {
          "source_hidden": false,
          "outputs_hidden": false
        },
        "nteract": {
          "transient": {
            "deleting": false
          }
        }
      }
    },
    {
      "cell_type": "code",
      "source": [
        "%%sql\r\n",
        "\r\n",
        "--we had 5 rows, now we have 7\r\n",
        "--we simulated what happens when another user/process is updating the data while we are reading it\r\n",
        "select * from delta.`${nv.filePath}`\r\n"
      ],
      "outputs": [
        {
          "output_type": "display_data",
          "data": {
            "application/vnd.livy.statement-meta+json": {
              "spark_pool": "SampleSpark",
              "session_id": "9",
              "statement_id": 497,
              "state": "finished",
              "livy_statement_state": "available",
              "queued_time": "2023-05-01T18:51:39.1995203Z",
              "session_start_time": null,
              "execution_start_time": "2023-05-01T18:51:39.3393863Z",
              "execution_finish_time": "2023-05-01T18:51:41.2262977Z",
              "spark_jobs": null,
              "parent_msg_id": "55e41215-be01-493c-a84c-82a798581c58"
            },
            "text/plain": "StatementMeta(SampleSpark, 9, 497, Finished, Available)"
          },
          "metadata": {}
        },
        {
          "output_type": "execute_result",
          "execution_count": 128,
          "data": {
            "application/vnd.synapse.sparksql-result+json": {
              "schema": {
                "type": "struct",
                "fields": [
                  {
                    "name": "book_id",
                    "type": "string",
                    "nullable": true,
                    "metadata": {}
                  },
                  {
                    "name": "book_author",
                    "type": "string",
                    "nullable": true,
                    "metadata": {}
                  },
                  {
                    "name": "book_name",
                    "type": "string",
                    "nullable": true,
                    "metadata": {}
                  },
                  {
                    "name": "book_pub_year",
                    "type": "long",
                    "nullable": true,
                    "metadata": {}
                  }
                ]
              },
              "data": [
                [
                  "b01001",
                  "Arthur Conan Doyle",
                  "The adventures of Sherlock Holmes",
                  "1892"
                ],
                [
                  "b00501",
                  "Arthur Conan Doyle",
                  "The memoirs of Sherlock Holmes",
                  "1893"
                ],
                [
                  "b00300",
                  "Arthur Conan Doyle",
                  "The hounds of Baskerville",
                  "1901"
                ],
                [
                  "b00001",
                  "Arthur Conan Doyle",
                  "A study in scarlet",
                  "1887"
                ],
                [
                  "b00001",
                  "Arthur Conan Doyle",
                  "A study in scarlet",
                  "1887"
                ],
                [
                  "b00909",
                  "Arthur Conan Doyle",
                  "A scandal in Bohemia",
                  "1891"
                ],
                [
                  "b00023",
                  "Arthur Conan Doyle",
                  "Playing with Fire",
                  "1900"
                ]
              ]
            },
            "text/plain": "<Spark SQL result set with 7 rows and 4 fields>"
          },
          "metadata": {}
        }
      ],
      "execution_count": 128,
      "metadata": {
        "jupyter": {
          "source_hidden": false,
          "outputs_hidden": false
        },
        "nteract": {
          "transient": {
            "deleting": false
          }
        },
        "microsoft": {
          "language": "sparksql"
        },
        "collapsed": false
      }
    },
    {
      "cell_type": "code",
      "source": [
        "%%sql \r\n",
        "\r\n",
        "--note that we have new files created\r\n",
        "DESCRIBE DETAIL delta.`${nv.filePath}`;"
      ],
      "outputs": [
        {
          "output_type": "display_data",
          "data": {
            "application/vnd.livy.statement-meta+json": {
              "spark_pool": "SampleSpark",
              "session_id": "9",
              "statement_id": 498,
              "state": "finished",
              "livy_statement_state": "available",
              "queued_time": "2023-05-01T18:52:38.8810084Z",
              "session_start_time": null,
              "execution_start_time": "2023-05-01T18:52:39.0243646Z",
              "execution_finish_time": "2023-05-01T18:52:39.5641228Z",
              "spark_jobs": null,
              "parent_msg_id": "eeacd40a-9166-499f-add0-95f5e8e33c0d"
            },
            "text/plain": "StatementMeta(SampleSpark, 9, 498, Finished, Available)"
          },
          "metadata": {}
        },
        {
          "output_type": "execute_result",
          "execution_count": 129,
          "data": {
            "application/vnd.synapse.sparksql-result+json": {
              "schema": {
                "type": "struct",
                "fields": [
                  {
                    "name": "format",
                    "type": "string",
                    "nullable": true,
                    "metadata": {}
                  },
                  {
                    "name": "id",
                    "type": "string",
                    "nullable": true,
                    "metadata": {}
                  },
                  {
                    "name": "name",
                    "type": "string",
                    "nullable": true,
                    "metadata": {}
                  },
                  {
                    "name": "description",
                    "type": "string",
                    "nullable": true,
                    "metadata": {}
                  },
                  {
                    "name": "location",
                    "type": "string",
                    "nullable": true,
                    "metadata": {}
                  },
                  {
                    "name": "createdAt",
                    "type": "timestamp",
                    "nullable": true,
                    "metadata": {}
                  },
                  {
                    "name": "lastModified",
                    "type": "timestamp",
                    "nullable": true,
                    "metadata": {}
                  },
                  {
                    "name": "partitionColumns",
                    "type": {
                      "type": "array",
                      "elementType": "string",
                      "containsNull": true
                    },
                    "nullable": true,
                    "metadata": {}
                  },
                  {
                    "name": "numFiles",
                    "type": "long",
                    "nullable": true,
                    "metadata": {}
                  },
                  {
                    "name": "sizeInBytes",
                    "type": "long",
                    "nullable": true,
                    "metadata": {}
                  },
                  {
                    "name": "properties",
                    "type": {
                      "type": "map",
                      "keyType": "string",
                      "valueType": "string",
                      "valueContainsNull": true
                    },
                    "nullable": true,
                    "metadata": {}
                  },
                  {
                    "name": "minReaderVersion",
                    "type": "integer",
                    "nullable": true,
                    "metadata": {}
                  },
                  {
                    "name": "minWriterVersion",
                    "type": "integer",
                    "nullable": true,
                    "metadata": {}
                  }
                ]
              },
              "data": [
                [
                  "delta",
                  "c3237847-8268-4304-9a6b-73a48cffb3be",
                  null,
                  null,
                  "abfss://defaultfs@asadatalakedavew891.dfs.core.windows.net/deltaExample/books-davew",
                  "2023-05-01T18:32:15Z",
                  "2023-05-01T18:51:09Z",
                  [],
                  "3",
                  "4637",
                  {},
                  1,
                  2
                ]
              ]
            },
            "text/plain": "<Spark SQL result set with 1 rows and 13 fields>"
          },
          "metadata": {}
        }
      ],
      "execution_count": 129,
      "metadata": {
        "jupyter": {
          "source_hidden": false,
          "outputs_hidden": false
        },
        "nteract": {
          "transient": {
            "deleting": false
          }
        },
        "microsoft": {
          "language": "sparksql"
        },
        "collapsed": false
      }
    },
    {
      "cell_type": "markdown",
      "source": [
        "## Schema Evolution\r\n",
        "\r\n",
        "Now let's say we have a requirement to add new columns to a dataset.  Let's build a new dataframe simulate adding a book_price column"
      ],
      "metadata": {
        "nteract": {
          "transient": {
            "deleting": false
          }
        }
      }
    },
    {
      "cell_type": "code",
      "source": [
        "columns = [\"book_id\", \"book_author\", \"book_name\", \"book_pub_year\", \"book_price\"]\r\n",
        "vals = [\r\n",
        "     (\"b00001\", \"Arthur Conan Doyle\", \"A study in scarlet\", 1887, 2.33),\r\n",
        "     (\"b00001\", \"Arthur Conan Doyle\", \"A study in scarlet\", 1887, 5.12),\r\n",
        "     (\"b01001\", \"Arthur Conan Doyle\", \"The adventures of Sherlock Holmes\", 1892, 12.00),\r\n",
        "     (\"b00501\", \"Arthur Conan Doyle\", \"The memoirs of Sherlock Holmes\", 1893, 13.39),\r\n",
        "     (\"b00300\", \"Arthur Conan Doyle\", \"The hounds of Baskerville\", 1901, 22.00),\r\n",
        "     (\"b00909\", \"Arthur Conan Doyle\", \"A scandal in Bohemia\", 1891, 18.00),\r\n",
        "     (\"b00023\", \"Arthur Conan Doyle\", \"Playing with Fire\", 1900, 29.99)\r\n",
        "]\r\n",
        "dfNewSchema = spark.createDataFrame(vals, columns)\r\n",
        "dfNewSchema.printSchema\r\n",
        "display(dfNewSchema)"
      ],
      "outputs": [
        {
          "output_type": "display_data",
          "data": {
            "application/vnd.livy.statement-meta+json": {
              "spark_pool": "SampleSpark",
              "session_id": "9",
              "statement_id": 499,
              "state": "finished",
              "livy_statement_state": "available",
              "queued_time": "2023-05-01T18:57:41.7554852Z",
              "session_start_time": null,
              "execution_start_time": "2023-05-01T18:57:41.9206761Z",
              "execution_finish_time": "2023-05-01T18:57:43.0669641Z",
              "spark_jobs": null,
              "parent_msg_id": "41bbaf4c-4840-4fbb-84a5-7053a0ba0e3b"
            },
            "text/plain": "StatementMeta(SampleSpark, 9, 499, Finished, Available)"
          },
          "metadata": {}
        },
        {
          "output_type": "display_data",
          "data": {
            "application/vnd.synapse.widget-view+json": {
              "widget_id": "05498cd8-0647-4aec-8969-e7cfe2d22e6f",
              "widget_type": "Synapse.DataFrame"
            },
            "text/plain": "SynapseWidget(Synapse.DataFrame, 05498cd8-0647-4aec-8969-e7cfe2d22e6f)"
          },
          "metadata": {}
        }
      ],
      "execution_count": 130,
      "metadata": {
        "jupyter": {
          "source_hidden": false,
          "outputs_hidden": false
        },
        "nteract": {
          "transient": {
            "deleting": false
          }
        },
        "collapsed": false
      }
    },
    {
      "cell_type": "code",
      "source": [
        "dfNewSchema \\\r\n",
        "    .write \\\r\n",
        "    .format(\"delta\") \\\r\n",
        "    .option(\"mergeSchema\", \"true\") \\\r\n",
        "    .mode(\"append\") \\\r\n",
        "    .save(filePath)"
      ],
      "outputs": [
        {
          "output_type": "display_data",
          "data": {
            "application/vnd.livy.statement-meta+json": {
              "spark_pool": "SampleSpark",
              "session_id": "9",
              "statement_id": 502,
              "state": "finished",
              "livy_statement_state": "available",
              "queued_time": "2023-05-01T18:59:47.2790241Z",
              "session_start_time": null,
              "execution_start_time": "2023-05-01T18:59:47.5171518Z",
              "execution_finish_time": "2023-05-01T18:59:50.3264326Z",
              "spark_jobs": null,
              "parent_msg_id": "00d1b8f8-3d53-4417-9bb8-b8abeba074c7"
            },
            "text/plain": "StatementMeta(SampleSpark, 9, 502, Finished, Available)"
          },
          "metadata": {}
        }
      ],
      "execution_count": 133,
      "metadata": {
        "jupyter": {
          "source_hidden": false,
          "outputs_hidden": false
        },
        "nteract": {
          "transient": {
            "deleting": false
          }
        }
      }
    },
    {
      "cell_type": "code",
      "source": [
        "%%sql\r\n",
        "\r\n",
        "select * from delta.`${nv.filePath}` VERSION AS OF 1;\r\n",
        "select * from delta.`${nv.filePath}`;"
      ],
      "outputs": [
        {
          "output_type": "display_data",
          "data": {
            "application/vnd.livy.statement-meta+json": {
              "spark_pool": null,
              "session_id": "9",
              "statement_id": -1,
              "state": "finished",
              "livy_statement_state": "available",
              "queued_time": "2023-05-01T19:01:06.1562672Z",
              "session_start_time": null,
              "execution_start_time": "2023-05-01T19:01:11.240539Z",
              "execution_finish_time": "2023-05-01T19:01:11.2407799Z",
              "spark_jobs": null,
              "parent_msg_id": "9d86e8da-158f-4013-87e0-11d2ffae9f2a"
            },
            "text/plain": "StatementMeta(, 9, -1, Finished, Available)"
          },
          "metadata": {}
        },
        {
          "output_type": "execute_result",
          "execution_count": 136,
          "data": {
            "application/vnd.synapse.sparksql-result+json": {
              "schema": {
                "type": "struct",
                "fields": [
                  {
                    "name": "book_id",
                    "type": "string",
                    "nullable": true,
                    "metadata": {}
                  },
                  {
                    "name": "book_author",
                    "type": "string",
                    "nullable": true,
                    "metadata": {}
                  },
                  {
                    "name": "book_name",
                    "type": "string",
                    "nullable": true,
                    "metadata": {}
                  },
                  {
                    "name": "book_pub_year",
                    "type": "long",
                    "nullable": true,
                    "metadata": {}
                  }
                ]
              },
              "data": [
                [
                  "b01001",
                  "Arthur Conan Doyle",
                  "The adventures of Sherlock Holmes",
                  "1892"
                ],
                [
                  "b00501",
                  "Arthur Conan Doyle",
                  "The memoirs of Sherlock Holmes",
                  "1893"
                ],
                [
                  "b00300",
                  "Arthur Conan Doyle",
                  "The hounds of Baskerville",
                  "1901"
                ],
                [
                  "b00001",
                  "Arthur Conan Doyle",
                  "A study in scarlet",
                  "1887"
                ],
                [
                  "b00001",
                  "Arthur Conan Doyle",
                  "A study in scarlet",
                  "1887"
                ]
              ]
            },
            "text/plain": "<Spark SQL result set with 5 rows and 4 fields>"
          },
          "metadata": {}
        },
        {
          "output_type": "execute_result",
          "execution_count": 136,
          "data": {
            "application/vnd.synapse.sparksql-result+json": {
              "schema": {
                "type": "struct",
                "fields": [
                  {
                    "name": "book_id",
                    "type": "string",
                    "nullable": true,
                    "metadata": {}
                  },
                  {
                    "name": "book_author",
                    "type": "string",
                    "nullable": true,
                    "metadata": {}
                  },
                  {
                    "name": "book_name",
                    "type": "string",
                    "nullable": true,
                    "metadata": {}
                  },
                  {
                    "name": "book_pub_year",
                    "type": "long",
                    "nullable": true,
                    "metadata": {}
                  },
                  {
                    "name": "book_price",
                    "type": "double",
                    "nullable": true,
                    "metadata": {}
                  }
                ]
              },
              "data": [
                [
                  "b01001",
                  "Arthur Conan Doyle",
                  "The adventures of Sherlock Holmes",
                  "1892",
                  12
                ],
                [
                  "b00501",
                  "Arthur Conan Doyle",
                  "The memoirs of Sherlock Holmes",
                  "1893",
                  13.39
                ],
                [
                  "b00300",
                  "Arthur Conan Doyle",
                  "The hounds of Baskerville",
                  "1901",
                  22
                ],
                [
                  "b00909",
                  "Arthur Conan Doyle",
                  "A scandal in Bohemia",
                  "1891",
                  18
                ],
                [
                  "b00001",
                  "Arthur Conan Doyle",
                  "A study in scarlet",
                  "1887",
                  5.12
                ],
                [
                  "b00001",
                  "Arthur Conan Doyle",
                  "A study in scarlet",
                  "1887",
                  2.33
                ],
                [
                  "b00023",
                  "Arthur Conan Doyle",
                  "Playing with Fire",
                  "1900",
                  29.99
                ],
                [
                  "b01001",
                  "Arthur Conan Doyle",
                  "The adventures of Sherlock Holmes",
                  "1892",
                  null
                ],
                [
                  "b00501",
                  "Arthur Conan Doyle",
                  "The memoirs of Sherlock Holmes",
                  "1893",
                  null
                ],
                [
                  "b00300",
                  "Arthur Conan Doyle",
                  "The hounds of Baskerville",
                  "1901",
                  null
                ],
                [
                  "b00001",
                  "Arthur Conan Doyle",
                  "A study in scarlet",
                  "1887",
                  null
                ],
                [
                  "b00001",
                  "Arthur Conan Doyle",
                  "A study in scarlet",
                  "1887",
                  null
                ],
                [
                  "b00909",
                  "Arthur Conan Doyle",
                  "A scandal in Bohemia",
                  "1891",
                  null
                ],
                [
                  "b00023",
                  "Arthur Conan Doyle",
                  "Playing with Fire",
                  "1900",
                  null
                ]
              ]
            },
            "text/plain": "<Spark SQL result set with 14 rows and 5 fields>"
          },
          "metadata": {}
        }
      ],
      "execution_count": 136,
      "metadata": {
        "jupyter": {
          "source_hidden": false,
          "outputs_hidden": false
        },
        "nteract": {
          "transient": {
            "deleting": false
          }
        },
        "microsoft": {
          "language": "sparksql"
        },
        "collapsed": false
      }
    },
    {
      "cell_type": "code",
      "source": [
        "# this likely isn't exactly what we were hoping for.  Instead of append, maybe overwrite would be better in this classmethod\r\n",
        "dfNewSchema \\\r\n",
        "    .write \\\r\n",
        "    .format(\"delta\") \\\r\n",
        "    .option(\"mergeSchema\", \"true\") \\\r\n",
        "    .mode(\"overwrite\") \\\r\n",
        "    .save(filePath)"
      ],
      "outputs": [
        {
          "output_type": "display_data",
          "data": {
            "application/vnd.livy.statement-meta+json": {
              "spark_pool": "SampleSpark",
              "session_id": "9",
              "statement_id": 512,
              "state": "finished",
              "livy_statement_state": "available",
              "queued_time": "2023-05-01T19:17:17.3392945Z",
              "session_start_time": null,
              "execution_start_time": "2023-05-01T19:17:17.4797776Z",
              "execution_finish_time": "2023-05-01T19:17:21.5623308Z",
              "spark_jobs": null,
              "parent_msg_id": "8f920107-7be7-412c-8801-48bcde0ce9a4"
            },
            "text/plain": "StatementMeta(SampleSpark, 9, 512, Finished, Available)"
          },
          "metadata": {}
        }
      ],
      "execution_count": 142,
      "metadata": {
        "jupyter": {
          "source_hidden": false,
          "outputs_hidden": false
        },
        "nteract": {
          "transient": {
            "deleting": false
          }
        }
      }
    },
    {
      "cell_type": "code",
      "source": [
        "%%sql\r\n",
        "\r\n",
        "select * from delta.`${nv.filePath}` VERSION AS OF 1;\r\n",
        "select * from delta.`${nv.filePath}`;"
      ],
      "outputs": [
        {
          "output_type": "display_data",
          "data": {
            "application/vnd.livy.statement-meta+json": {
              "spark_pool": null,
              "session_id": "9",
              "statement_id": -1,
              "state": "finished",
              "livy_statement_state": "available",
              "queued_time": "2023-05-01T19:17:34.3097945Z",
              "session_start_time": null,
              "execution_start_time": "2023-05-01T19:17:39.3237737Z",
              "execution_finish_time": "2023-05-01T19:17:39.3240229Z",
              "spark_jobs": null,
              "parent_msg_id": "7f19e5c7-28e3-4160-80ca-6369c41d5c4b"
            },
            "text/plain": "StatementMeta(, 9, -1, Finished, Available)"
          },
          "metadata": {}
        },
        {
          "output_type": "execute_result",
          "execution_count": 143,
          "data": {
            "application/vnd.synapse.sparksql-result+json": {
              "schema": {
                "type": "struct",
                "fields": [
                  {
                    "name": "book_id",
                    "type": "string",
                    "nullable": true,
                    "metadata": {}
                  },
                  {
                    "name": "book_author",
                    "type": "string",
                    "nullable": true,
                    "metadata": {}
                  },
                  {
                    "name": "book_name",
                    "type": "string",
                    "nullable": true,
                    "metadata": {}
                  },
                  {
                    "name": "book_pub_year",
                    "type": "long",
                    "nullable": true,
                    "metadata": {}
                  }
                ]
              },
              "data": [
                [
                  "b01001",
                  "Arthur Conan Doyle",
                  "The adventures of Sherlock Holmes",
                  "1892"
                ],
                [
                  "b00501",
                  "Arthur Conan Doyle",
                  "The memoirs of Sherlock Holmes",
                  "1893"
                ],
                [
                  "b00300",
                  "Arthur Conan Doyle",
                  "The hounds of Baskerville",
                  "1901"
                ],
                [
                  "b00001",
                  "Arthur Conan Doyle",
                  "A study in scarlet",
                  "1887"
                ],
                [
                  "b00001",
                  "Arthur Conan Doyle",
                  "A study in scarlet",
                  "1887"
                ]
              ]
            },
            "text/plain": "<Spark SQL result set with 5 rows and 4 fields>"
          },
          "metadata": {}
        },
        {
          "output_type": "execute_result",
          "execution_count": 143,
          "data": {
            "application/vnd.synapse.sparksql-result+json": {
              "schema": {
                "type": "struct",
                "fields": [
                  {
                    "name": "book_id",
                    "type": "string",
                    "nullable": true,
                    "metadata": {}
                  },
                  {
                    "name": "book_author",
                    "type": "string",
                    "nullable": true,
                    "metadata": {}
                  },
                  {
                    "name": "book_name",
                    "type": "string",
                    "nullable": true,
                    "metadata": {}
                  },
                  {
                    "name": "book_pub_year",
                    "type": "long",
                    "nullable": true,
                    "metadata": {}
                  },
                  {
                    "name": "book_price",
                    "type": "double",
                    "nullable": true,
                    "metadata": {}
                  }
                ]
              },
              "data": [
                [
                  "b01001",
                  "Arthur Conan Doyle",
                  "The adventures of Sherlock Holmes",
                  "1892",
                  12
                ],
                [
                  "b00501",
                  "Arthur Conan Doyle",
                  "The memoirs of Sherlock Holmes",
                  "1893",
                  13.39
                ],
                [
                  "b00300",
                  "Arthur Conan Doyle",
                  "The hounds of Baskerville",
                  "1901",
                  22
                ],
                [
                  "b00909",
                  "Arthur Conan Doyle",
                  "A scandal in Bohemia",
                  "1891",
                  18
                ],
                [
                  "b00001",
                  "Arthur Conan Doyle",
                  "A study in scarlet",
                  "1887",
                  2.33
                ],
                [
                  "b00001",
                  "Arthur Conan Doyle",
                  "A study in scarlet",
                  "1887",
                  5.12
                ],
                [
                  "b00023",
                  "Arthur Conan Doyle",
                  "Playing with Fire",
                  "1900",
                  29.99
                ]
              ]
            },
            "text/plain": "<Spark SQL result set with 7 rows and 5 fields>"
          },
          "metadata": {}
        }
      ],
      "execution_count": 143,
      "metadata": {
        "jupyter": {
          "source_hidden": false,
          "outputs_hidden": false
        },
        "nteract": {
          "transient": {
            "deleting": false
          }
        },
        "microsoft": {
          "language": "sparksql"
        },
        "collapsed": false
      }
    },
    {
      "cell_type": "markdown",
      "source": [
        "That probably looks a lot better.  "
      ],
      "metadata": {
        "nteract": {
          "transient": {
            "deleting": false
          }
        }
      }
    },
    {
      "cell_type": "markdown",
      "source": [
        "## Partitioning\r\n",
        "Now, let's say this is a HUGE table.  How will it perform if we query by book_author or by book_pub_year?  \r\n",
        "\r\n",
        "First, what does the lake data look like right now?  \r\n"
      ],
      "metadata": {
        "nteract": {
          "transient": {
            "deleting": false
          }
        }
      }
    },
    {
      "cell_type": "code",
      "source": [
        "# Let's read all of the data back in and then make a copy with the new partitioning\r\n",
        "\r\n",
        "dfBase = (spark\r\n",
        "    .read\r\n",
        "    .format(\"delta\")\r\n",
        "    .load(filePath)\r\n",
        ")\r\n",
        "\r\n",
        "display(dfBase)"
      ],
      "outputs": [
        {
          "output_type": "display_data",
          "data": {
            "application/vnd.livy.statement-meta+json": {
              "spark_pool": "SampleSpark",
              "session_id": "9",
              "statement_id": 515,
              "state": "finished",
              "livy_statement_state": "available",
              "queued_time": "2023-05-01T19:18:04.1229412Z",
              "session_start_time": null,
              "execution_start_time": "2023-05-01T19:18:04.2716765Z",
              "execution_finish_time": "2023-05-01T19:18:05.4728499Z",
              "spark_jobs": null,
              "parent_msg_id": "583732aa-e458-4b28-974d-47c02b95d69b"
            },
            "text/plain": "StatementMeta(SampleSpark, 9, 515, Finished, Available)"
          },
          "metadata": {}
        },
        {
          "output_type": "display_data",
          "data": {
            "application/vnd.synapse.widget-view+json": {
              "widget_id": "ee55e6a2-d176-4660-9e77-e77b3b989597",
              "widget_type": "Synapse.DataFrame"
            },
            "text/plain": "SynapseWidget(Synapse.DataFrame, ee55e6a2-d176-4660-9e77-e77b3b989597)"
          },
          "metadata": {}
        }
      ],
      "execution_count": 144,
      "metadata": {
        "jupyter": {
          "source_hidden": false,
          "outputs_hidden": false
        },
        "nteract": {
          "transient": {
            "deleting": false
          }
        },
        "collapsed": false
      }
    },
    {
      "cell_type": "code",
      "source": [
        "# this will be the base data path, let's not change this\r\n",
        "filePath\r\n"
      ],
      "outputs": [
        {
          "output_type": "display_data",
          "data": {
            "application/vnd.livy.statement-meta+json": {
              "spark_pool": "SampleSpark",
              "session_id": "9",
              "statement_id": 517,
              "state": "finished",
              "livy_statement_state": "available",
              "queued_time": "2023-05-01T19:21:09.3741332Z",
              "session_start_time": null,
              "execution_start_time": "2023-05-01T19:21:09.5118411Z",
              "execution_finish_time": "2023-05-01T19:21:09.6746744Z",
              "spark_jobs": null,
              "parent_msg_id": "fd3bc3c9-3505-436e-ad30-d10120b7b1be"
            },
            "text/plain": "StatementMeta(SampleSpark, 9, 517, Finished, Available)"
          },
          "metadata": {}
        },
        {
          "output_type": "execute_result",
          "execution_count": 871,
          "data": {
            "text/plain": "'abfss://defaultfs@asadatalakedavew891.dfs.core.windows.net/deltaExample/books-davew'"
          },
          "metadata": {}
        }
      ],
      "execution_count": 146,
      "metadata": {
        "jupyter": {
          "source_hidden": false,
          "outputs_hidden": false
        },
        "nteract": {
          "transient": {
            "deleting": false
          }
        }
      }
    },
    {
      "cell_type": "code",
      "source": [
        "filePathPartitionedbyAuthor = 'abfss://defaultfs@asadatalakedavew891.dfs.core.windows.net/deltaExample/books-davew-by-author'"
      ],
      "outputs": [
        {
          "output_type": "display_data",
          "data": {
            "application/vnd.livy.statement-meta+json": {
              "spark_pool": "SampleSpark",
              "session_id": "9",
              "statement_id": 518,
              "state": "finished",
              "livy_statement_state": "available",
              "queued_time": "2023-05-01T19:21:47.749512Z",
              "session_start_time": null,
              "execution_start_time": "2023-05-01T19:21:47.8780407Z",
              "execution_finish_time": "2023-05-01T19:21:48.0510182Z",
              "spark_jobs": null,
              "parent_msg_id": "a5e98f6b-5020-4d2d-9b08-782e9a3bdd58"
            },
            "text/plain": "StatementMeta(SampleSpark, 9, 518, Finished, Available)"
          },
          "metadata": {}
        }
      ],
      "execution_count": 147,
      "metadata": {
        "jupyter": {
          "source_hidden": false,
          "outputs_hidden": false
        },
        "nteract": {
          "transient": {
            "deleting": false
          }
        }
      }
    },
    {
      "cell_type": "code",
      "source": [
        "# Lets write out the book_author partition\r\n",
        "(dfBase\r\n",
        "    .write\r\n",
        "    .format(\"delta\")\r\n",
        "    .partitionBy(\"book_author\")\r\n",
        "    .save(filePathPartitionedbyAuthor)\r\n",
        ")"
      ],
      "outputs": [
        {
          "output_type": "display_data",
          "data": {
            "application/vnd.livy.statement-meta+json": {
              "spark_pool": "SampleSpark",
              "session_id": "9",
              "statement_id": 519,
              "state": "finished",
              "livy_statement_state": "available",
              "queued_time": "2023-05-01T19:22:09.380714Z",
              "session_start_time": null,
              "execution_start_time": "2023-05-01T19:22:09.5097886Z",
              "execution_finish_time": "2023-05-01T19:22:12.342891Z",
              "spark_jobs": null,
              "parent_msg_id": "7d7cc0c3-6f42-4a3c-ae5f-8a1dfc214700"
            },
            "text/plain": "StatementMeta(SampleSpark, 9, 519, Finished, Available)"
          },
          "metadata": {}
        }
      ],
      "execution_count": 148,
      "metadata": {
        "jupyter": {
          "source_hidden": false,
          "outputs_hidden": false
        },
        "nteract": {
          "transient": {
            "deleting": false
          }
        }
      }
    },
    {
      "cell_type": "markdown",
      "source": [
        "Now what does the lake look like?  "
      ],
      "metadata": {
        "nteract": {
          "transient": {
            "deleting": false
          }
        }
      }
    },
    {
      "cell_type": "code",
      "source": [
        "%%sql\r\n",
        "\r\n",
        "--and let's confirm with sql\r\n",
        "--CHANGEME\r\n",
        "DESCRIBE DETAIL delta.`abfss://defaultfs@asadatalakedavew891.dfs.core.windows.net/deltaExample/books-davew-by-author`"
      ],
      "outputs": [
        {
          "output_type": "display_data",
          "data": {
            "application/vnd.livy.statement-meta+json": {
              "spark_pool": "SampleSpark",
              "session_id": "9",
              "statement_id": 521,
              "state": "finished",
              "livy_statement_state": "available",
              "queued_time": "2023-05-01T19:24:21.760968Z",
              "session_start_time": null,
              "execution_start_time": "2023-05-01T19:24:21.9286288Z",
              "execution_finish_time": "2023-05-01T19:24:22.4506689Z",
              "spark_jobs": null,
              "parent_msg_id": "91f44e34-6d68-4379-ad23-273d6dd4ef83"
            },
            "text/plain": "StatementMeta(SampleSpark, 9, 521, Finished, Available)"
          },
          "metadata": {}
        },
        {
          "output_type": "execute_result",
          "execution_count": 150,
          "data": {
            "application/vnd.synapse.sparksql-result+json": {
              "schema": {
                "type": "struct",
                "fields": [
                  {
                    "name": "format",
                    "type": "string",
                    "nullable": true,
                    "metadata": {}
                  },
                  {
                    "name": "id",
                    "type": "string",
                    "nullable": true,
                    "metadata": {}
                  },
                  {
                    "name": "name",
                    "type": "string",
                    "nullable": true,
                    "metadata": {}
                  },
                  {
                    "name": "description",
                    "type": "string",
                    "nullable": true,
                    "metadata": {}
                  },
                  {
                    "name": "location",
                    "type": "string",
                    "nullable": true,
                    "metadata": {}
                  },
                  {
                    "name": "createdAt",
                    "type": "timestamp",
                    "nullable": true,
                    "metadata": {}
                  },
                  {
                    "name": "lastModified",
                    "type": "timestamp",
                    "nullable": true,
                    "metadata": {}
                  },
                  {
                    "name": "partitionColumns",
                    "type": {
                      "type": "array",
                      "elementType": "string",
                      "containsNull": true
                    },
                    "nullable": true,
                    "metadata": {}
                  },
                  {
                    "name": "numFiles",
                    "type": "long",
                    "nullable": true,
                    "metadata": {}
                  },
                  {
                    "name": "sizeInBytes",
                    "type": "long",
                    "nullable": true,
                    "metadata": {}
                  },
                  {
                    "name": "properties",
                    "type": {
                      "type": "map",
                      "keyType": "string",
                      "valueType": "string",
                      "valueContainsNull": true
                    },
                    "nullable": true,
                    "metadata": {}
                  },
                  {
                    "name": "minReaderVersion",
                    "type": "integer",
                    "nullable": true,
                    "metadata": {}
                  },
                  {
                    "name": "minWriterVersion",
                    "type": "integer",
                    "nullable": true,
                    "metadata": {}
                  }
                ]
              },
              "data": [
                [
                  "delta",
                  "295a6abf-a316-48a6-b991-1586919e98a3",
                  null,
                  null,
                  "abfss://defaultfs@asadatalakedavew891.dfs.core.windows.net/deltaExample/books-davew-by-author",
                  "2023-05-01T19:22:09Z",
                  "2023-05-01T19:22:11Z",
                  [
                    "book_author"
                  ],
                  "1",
                  "1697",
                  {},
                  1,
                  2
                ]
              ]
            },
            "text/plain": "<Spark SQL result set with 1 rows and 13 fields>"
          },
          "metadata": {}
        }
      ],
      "execution_count": 150,
      "metadata": {
        "jupyter": {
          "source_hidden": false,
          "outputs_hidden": false
        },
        "nteract": {
          "transient": {
            "deleting": false
          }
        },
        "microsoft": {
          "language": "sparksql"
        },
        "collapsed": false
      }
    },
    {
      "cell_type": "code",
      "source": [
        "%%sql\r\n",
        "SELECT * \r\n",
        "FROM delta.`abfss://defaultfs@asadatalakedavew891.dfs.core.windows.net/deltaExample/books-davew-by-author`"
      ],
      "outputs": [
        {
          "output_type": "display_data",
          "data": {
            "application/vnd.livy.statement-meta+json": {
              "spark_pool": "SampleSpark",
              "session_id": "12",
              "statement_id": 3,
              "state": "finished",
              "livy_statement_state": "available",
              "queued_time": "2023-05-01T22:26:55.0524024Z",
              "session_start_time": null,
              "execution_start_time": "2023-05-01T22:26:55.199698Z",
              "execution_finish_time": "2023-05-01T22:27:22.445127Z",
              "spark_jobs": null,
              "parent_msg_id": "9a4e8bf5-ddc3-4b80-9f9e-a2031c836255"
            },
            "text/plain": "StatementMeta(SampleSpark, 12, 3, Finished, Available)"
          },
          "metadata": {}
        },
        {
          "output_type": "execute_result",
          "execution_count": 2,
          "data": {
            "application/vnd.synapse.sparksql-result+json": {
              "schema": {
                "type": "struct",
                "fields": [
                  {
                    "name": "book_id",
                    "type": "string",
                    "nullable": true,
                    "metadata": {}
                  },
                  {
                    "name": "book_author",
                    "type": "string",
                    "nullable": true,
                    "metadata": {}
                  },
                  {
                    "name": "book_name",
                    "type": "string",
                    "nullable": true,
                    "metadata": {}
                  },
                  {
                    "name": "book_pub_year",
                    "type": "long",
                    "nullable": true,
                    "metadata": {}
                  },
                  {
                    "name": "book_price",
                    "type": "double",
                    "nullable": true,
                    "metadata": {}
                  }
                ]
              },
              "data": [
                [
                  "b01001",
                  "Arthur Conan Doyle",
                  "The adventures of Sherlock Holmes",
                  "1892",
                  12
                ],
                [
                  "b00501",
                  "Arthur Conan Doyle",
                  "The memoirs of Sherlock Holmes",
                  "1893",
                  13.39
                ],
                [
                  "b00300",
                  "Arthur Conan Doyle",
                  "The hounds of Baskerville",
                  "1901",
                  22
                ],
                [
                  "b00909",
                  "Arthur Conan Doyle",
                  "A scandal in Bohemia",
                  "1891",
                  18
                ],
                [
                  "b00001",
                  "Arthur Conan Doyle",
                  "A study in scarlet",
                  "1887",
                  2.33
                ],
                [
                  "b00001",
                  "Arthur Conan Doyle",
                  "A study in scarlet",
                  "1887",
                  5.12
                ],
                [
                  "b00023",
                  "Arthur Conan Doyle",
                  "Playing with Fire",
                  "1900",
                  29.99
                ]
              ]
            },
            "text/plain": "<Spark SQL result set with 7 rows and 5 fields>"
          },
          "metadata": {}
        }
      ],
      "execution_count": 2,
      "metadata": {
        "jupyter": {
          "source_hidden": false,
          "outputs_hidden": false
        },
        "nteract": {
          "transient": {
            "deleting": false
          }
        },
        "microsoft": {
          "language": "sparksql"
        },
        "collapsed": false
      }
    },
    {
      "cell_type": "code",
      "source": [
        "%%sql\r\n",
        "\r\n",
        "DROP TABLE IF EXISTS books_by_pub_year;\r\n",
        "\r\n",
        "--let's create a partitioned version of the data using SQL on book_pub_year\r\n",
        "--note this is EXTERNAL, ie unmanaged table\r\n",
        "CREATE EXTERNAL TABLE IF NOT EXISTS books_by_pub_year\r\n",
        "    USING DELTA \r\n",
        "    --change me\r\n",
        "    LOCATION 'abfss://defaultfs@asadatalakedavew891.dfs.core.windows.net/deltaExample/books-davew-by-pub-year'\r\n",
        "    PARTITIONED BY (book_pub_year)\r\n",
        "\r\n",
        "AS\r\n",
        "--CHANGEME to the source folder\r\n",
        "SELECT * \r\n",
        "FROM delta.`abfss://defaultfs@asadatalakedavew891.dfs.core.windows.net/deltaExample/books-davew-by-author`\r\n",
        "\r\n"
      ],
      "outputs": [
        {
          "output_type": "display_data",
          "data": {
            "application/vnd.livy.statement-meta+json": {
              "spark_pool": null,
              "session_id": "12",
              "statement_id": -1,
              "state": "finished",
              "livy_statement_state": "available",
              "queued_time": "2023-05-01T22:35:58.7187275Z",
              "session_start_time": null,
              "execution_start_time": "2023-05-01T22:36:08.4255442Z",
              "execution_finish_time": "2023-05-01T22:36:08.4258267Z",
              "spark_jobs": null,
              "parent_msg_id": "52605a14-98c4-47a3-87fd-c985d6f369a8"
            },
            "text/plain": "StatementMeta(, 12, -1, Finished, Available)"
          },
          "metadata": {}
        },
        {
          "output_type": "execute_result",
          "execution_count": 6,
          "data": {
            "application/vnd.synapse.sparksql-result+json": {
              "schema": {
                "type": "struct",
                "fields": []
              },
              "data": []
            },
            "text/plain": "<Spark SQL result set with 0 rows and 0 fields>"
          },
          "metadata": {}
        },
        {
          "output_type": "execute_result",
          "execution_count": 6,
          "data": {
            "application/vnd.synapse.sparksql-result+json": {
              "schema": {
                "type": "struct",
                "fields": []
              },
              "data": []
            },
            "text/plain": "<Spark SQL result set with 0 rows and 0 fields>"
          },
          "metadata": {}
        }
      ],
      "execution_count": 6,
      "metadata": {
        "jupyter": {
          "source_hidden": false,
          "outputs_hidden": false
        },
        "nteract": {
          "transient": {
            "deleting": false
          }
        },
        "microsoft": {
          "language": "sparksql"
        },
        "collapsed": false
      }
    },
    {
      "cell_type": "markdown",
      "source": [
        "Again, what do the files look like in the lake?"
      ],
      "metadata": {
        "nteract": {
          "transient": {
            "deleting": false
          }
        }
      }
    },
    {
      "cell_type": "code",
      "source": [
        "%%sql\r\n",
        "\r\n",
        "DESCRIBE HISTORY delta.`abfss://defaultfs@asadatalakedavew891.dfs.core.windows.net/deltaExample/books-davew`"
      ],
      "outputs": [
        {
          "output_type": "display_data",
          "data": {
            "application/vnd.livy.statement-meta+json": {
              "spark_pool": "SampleSpark",
              "session_id": "12",
              "statement_id": 12,
              "state": "finished",
              "livy_statement_state": "available",
              "queued_time": "2023-05-01T22:38:06.4897859Z",
              "session_start_time": null,
              "execution_start_time": "2023-05-01T22:38:06.6395743Z",
              "execution_finish_time": "2023-05-01T22:38:10.2374102Z",
              "spark_jobs": null,
              "parent_msg_id": "923abab7-444f-4424-802c-4cf6fe6762c6"
            },
            "text/plain": "StatementMeta(SampleSpark, 12, 12, Finished, Available)"
          },
          "metadata": {}
        },
        {
          "output_type": "execute_result",
          "execution_count": 7,
          "data": {
            "application/vnd.synapse.sparksql-result+json": {
              "schema": {
                "type": "struct",
                "fields": [
                  {
                    "name": "version",
                    "type": "long",
                    "nullable": true,
                    "metadata": {}
                  },
                  {
                    "name": "timestamp",
                    "type": "timestamp",
                    "nullable": true,
                    "metadata": {}
                  },
                  {
                    "name": "userId",
                    "type": "string",
                    "nullable": true,
                    "metadata": {}
                  },
                  {
                    "name": "userName",
                    "type": "string",
                    "nullable": true,
                    "metadata": {}
                  },
                  {
                    "name": "operation",
                    "type": "string",
                    "nullable": true,
                    "metadata": {}
                  },
                  {
                    "name": "operationParameters",
                    "type": {
                      "type": "map",
                      "keyType": "string",
                      "valueType": "string",
                      "valueContainsNull": true
                    },
                    "nullable": true,
                    "metadata": {}
                  },
                  {
                    "name": "job",
                    "type": {
                      "type": "struct",
                      "fields": [
                        {
                          "name": "jobId",
                          "type": "string",
                          "nullable": true,
                          "metadata": {}
                        },
                        {
                          "name": "jobName",
                          "type": "string",
                          "nullable": true,
                          "metadata": {}
                        },
                        {
                          "name": "runId",
                          "type": "string",
                          "nullable": true,
                          "metadata": {}
                        },
                        {
                          "name": "jobOwnerId",
                          "type": "string",
                          "nullable": true,
                          "metadata": {}
                        },
                        {
                          "name": "triggerType",
                          "type": "string",
                          "nullable": true,
                          "metadata": {}
                        }
                      ]
                    },
                    "nullable": true,
                    "metadata": {}
                  },
                  {
                    "name": "notebook",
                    "type": {
                      "type": "struct",
                      "fields": [
                        {
                          "name": "notebookId",
                          "type": "string",
                          "nullable": true,
                          "metadata": {}
                        }
                      ]
                    },
                    "nullable": true,
                    "metadata": {}
                  },
                  {
                    "name": "clusterId",
                    "type": "string",
                    "nullable": true,
                    "metadata": {}
                  },
                  {
                    "name": "readVersion",
                    "type": "long",
                    "nullable": true,
                    "metadata": {}
                  },
                  {
                    "name": "isolationLevel",
                    "type": "string",
                    "nullable": true,
                    "metadata": {}
                  },
                  {
                    "name": "isBlindAppend",
                    "type": "boolean",
                    "nullable": true,
                    "metadata": {}
                  },
                  {
                    "name": "operationMetrics",
                    "type": {
                      "type": "map",
                      "keyType": "string",
                      "valueType": "string",
                      "valueContainsNull": true
                    },
                    "nullable": true,
                    "metadata": {}
                  },
                  {
                    "name": "userMetadata",
                    "type": "string",
                    "nullable": true,
                    "metadata": {}
                  },
                  {
                    "name": "engineInfo",
                    "type": "string",
                    "nullable": true,
                    "metadata": {}
                  }
                ]
              },
              "data": [
                [
                  "4",
                  "2023-05-01T19:17:19Z",
                  null,
                  null,
                  "WRITE",
                  {
                    "mode": "Overwrite",
                    "partitionBy": "[]"
                  },
                  null,
                  null,
                  null,
                  "3",
                  "Serializable",
                  false,
                  {
                    "numFiles": "8",
                    "numOutputRows": "7",
                    "numOutputBytes": "13080"
                  },
                  null,
                  "Apache-Spark/3.3.1.5.2-86323270 Delta-Lake/2.2.0.2"
                ],
                [
                  "3",
                  "2023-05-01T18:59:48Z",
                  null,
                  null,
                  "WRITE",
                  {
                    "mode": "Append",
                    "partitionBy": "[]"
                  },
                  null,
                  null,
                  null,
                  "2",
                  "Serializable",
                  true,
                  {
                    "numFiles": "8",
                    "numOutputRows": "7",
                    "numOutputBytes": "13080"
                  },
                  null,
                  "Apache-Spark/3.3.1.5.2-86323270 Delta-Lake/2.2.0.2"
                ],
                [
                  "2",
                  "2023-05-01T18:51:09Z",
                  null,
                  null,
                  "WRITE",
                  {
                    "mode": "Append",
                    "partitionBy": "[]"
                  },
                  null,
                  null,
                  null,
                  "1",
                  "Serializable",
                  true,
                  {
                    "numFiles": "3",
                    "numOutputRows": "2",
                    "numOutputBytes": "3534"
                  },
                  null,
                  "Apache-Spark/3.3.1.5.2-86323270 Delta-Lake/2.2.0.2"
                ],
                [
                  "1",
                  "2023-05-01T18:44:42Z",
                  null,
                  null,
                  "OPTIMIZE",
                  {
                    "predicate": "[]",
                    "auto": "false",
                    "zOrderBy": "[]"
                  },
                  null,
                  null,
                  null,
                  "0",
                  "SnapshotIsolation",
                  false,
                  {
                    "numRemovedFiles": "5",
                    "numRemovedBytes": "7575",
                    "p25FileSize": "1698",
                    "minFileSize": "1698",
                    "numAddedFiles": "1",
                    "maxFileSize": "1698",
                    "p75FileSize": "1698",
                    "p50FileSize": "1698",
                    "numAddedBytes": "1698"
                  },
                  null,
                  "Apache-Spark/3.3.1.5.2-86323270 Delta-Lake/2.2.0.2"
                ],
                [
                  "0",
                  "2023-05-01T18:32:16Z",
                  null,
                  null,
                  "WRITE",
                  {
                    "mode": "ErrorIfExists",
                    "partitionBy": "[]"
                  },
                  null,
                  null,
                  null,
                  null,
                  "Serializable",
                  true,
                  {
                    "numFiles": "6",
                    "numOutputRows": "5",
                    "numOutputBytes": "8170"
                  },
                  null,
                  "Apache-Spark/3.3.1.5.2-86323270 Delta-Lake/2.2.0.2"
                ]
              ]
            },
            "text/plain": "<Spark SQL result set with 5 rows and 15 fields>"
          },
          "metadata": {}
        }
      ],
      "execution_count": 7,
      "metadata": {
        "jupyter": {
          "source_hidden": false,
          "outputs_hidden": false
        },
        "nteract": {
          "transient": {
            "deleting": false
          }
        },
        "microsoft": {
          "language": "sparksql"
        },
        "collapsed": false
      }
    },
    {
      "cell_type": "markdown",
      "source": [
        "##  Clones\r\n"
      ],
      "metadata": {
        "nteract": {
          "transient": {
            "deleting": false
          }
        }
      }
    },
    {
      "cell_type": "code",
      "source": [
        "%%sql\r\n",
        "\r\n",
        "--let's say we want a full copy of data because we want to do some testing\r\n",
        "\r\n",
        "--this may require you to be on latest Spark runtime\r\n",
        "\r\n",
        "--CHANGE the paths\r\n",
        "CREATE OR REPLACE TABLE delta.`abfss://defaultfs@asadatalakedavew891.dfs.core.windows.net/deltaExample/books-davew`\r\n",
        "CLONE --or SHALLOW CLONE\r\n",
        "delta.`abfss://defaultfs@asadatalakedavew891.dfs.core.windows.net/deltaExample/books-davew-clone`\r\n"
      ],
      "outputs": [
        {
          "output_type": "display_data",
          "data": {
            "application/vnd.livy.statement-meta+json": {
              "spark_pool": "SampleSpark",
              "session_id": "12",
              "statement_id": 13,
              "state": "finished",
              "livy_statement_state": "available",
              "queued_time": "2023-05-01T22:45:33.5243684Z",
              "session_start_time": null,
              "execution_start_time": "2023-05-01T22:45:33.6694548Z",
              "execution_finish_time": "2023-05-01T22:45:34.2750564Z",
              "spark_jobs": null,
              "parent_msg_id": "bc97329f-c70f-4443-81c4-f5658d54fb0f"
            },
            "text/plain": "StatementMeta(SampleSpark, 12, 13, Finished, Available)"
          },
          "metadata": {}
        },
        {
          "output_type": "error",
          "ename": "Error",
          "evalue": "\nSyntax error at or near 'CLONE'(line 6, pos 0)\n\n== SQL ==\n\n--let's say we want a full copy of data because we want to do some testing\n\n--CHANGE the paths\nCREATE OR REPLACE TABLE delta.`abfss://defaultfs@asadatalakedavew891.dfs.core.windows.net/deltaExample/books-davew`\nCLONE delta.`abfss://defaultfs@asadatalakedavew891.dfs.core.windows.net/deltaExample/books-davew-clone`\n^^^\n",
          "traceback": [
            "Error: \nSyntax error at or near 'CLONE'(line 6, pos 0)\n\n== SQL ==\n\n--let's say we want a full copy of data because we want to do some testing\n\n--CHANGE the paths\nCREATE OR REPLACE TABLE delta.`abfss://defaultfs@asadatalakedavew891.dfs.core.windows.net/deltaExample/books-davew`\nCLONE delta.`abfss://defaultfs@asadatalakedavew891.dfs.core.windows.net/deltaExample/books-davew-clone`\n^^^\n",
            "org.apache.spark.sql.catalyst.parser.ParseException.withCommand(ParseDriver.scala:306)",
            "org.apache.spark.sql.catalyst.parser.AbstractSqlParser.parse(ParseDriver.scala:143)",
            "org.apache.spark.sql.execution.SparkSqlParser.parse(SparkSqlParser.scala:52)",
            "org.apache.spark.sql.catalyst.parser.AbstractSqlParser.parsePlan(ParseDriver.scala:89)",
            "io.delta.sql.parser.DeltaSqlParser.$anonfun$parsePlan$1(DeltaSqlParser.scala:78)",
            "io.delta.sql.parser.DeltaSqlParser.parse(DeltaSqlParser.scala:111)",
            "io.delta.sql.parser.DeltaSqlParser.parsePlan(DeltaSqlParser.scala:75)",
            "com.microsoft.azure.synapse.ml.predict.SynapsePredictParser.parsePlan(SynapsePredictParser.scala:19)",
            "org.apache.spark.sql.SparkSession.$anonfun$sql$2(SparkSession.scala:620)",
            "org.apache.spark.sql.catalyst.QueryPlanningTracker.measurePhase(QueryPlanningTracker.scala:120)",
            "org.apache.spark.sql.SparkSession.$anonfun$sql$1(SparkSession.scala:620)",
            "org.apache.spark.sql.SparkSession.withActive(SparkSession.scala:779)",
            "org.apache.spark.sql.SparkSession.sql(SparkSession.scala:617)",
            "org.apache.livy.repl.SQLInterpreter.execute(SQLInterpreter.scala:129)",
            "org.apache.livy.repl.Session.$anonfun$executeCode$1(Session.scala:708)",
            "scala.Option.map(Option.scala:230)",
            "org.apache.livy.repl.Session.executeCode(Session.scala:705)",
            "org.apache.livy.repl.Session.$anonfun$execute$4(Session.scala:485)",
            "org.apache.livy.repl.Session.withRealtimeOutputSupport(Session.scala:911)",
            "org.apache.livy.repl.Session.$anonfun$execute$1(Session.scala:485)",
            "scala.runtime.java8.JFunction0$mcV$sp.apply(JFunction0$mcV$sp.java:23)",
            "scala.concurrent.Future$.$anonfun$apply$1(Future.scala:659)",
            "scala.util.Success.$anonfun$map$1(Try.scala:255)",
            "scala.util.Success.map(Try.scala:213)",
            "scala.concurrent.Future.$anonfun$map$1(Future.scala:292)",
            "scala.concurrent.impl.Promise.liftedTree1$1(Promise.scala:33)",
            "scala.concurrent.impl.Promise.$anonfun$transform$1(Promise.scala:33)",
            "scala.concurrent.impl.CallbackRunnable.run(Promise.scala:64)",
            "java.util.concurrent.ThreadPoolExecutor.runWorker(ThreadPoolExecutor.java:1149)",
            "java.util.concurrent.ThreadPoolExecutor$Worker.run(ThreadPoolExecutor.java:624)",
            "java.lang.Thread.run(Thread.java:750)"
          ]
        }
      ],
      "execution_count": 8,
      "metadata": {
        "jupyter": {
          "source_hidden": false,
          "outputs_hidden": false
        },
        "nteract": {
          "transient": {
            "deleting": false
          }
        },
        "microsoft": {
          "language": "sparksql"
        }
      }
    },
    {
      "cell_type": "markdown",
      "source": [
        "## Other Useful Code when working with your data lake"
      ],
      "metadata": {
        "nteract": {
          "transient": {
            "deleting": false
          }
        }
      }
    },
    {
      "cell_type": "code",
      "source": [
        "myPath = \"abfss://defaultfs@asadatalakedavew891.dfs.core.windows.net/deltaExample/delta-table-davew\"\r\n",
        "mssparkutils.fs.rm(myPath,recurse=True)"
      ],
      "outputs": [
        {
          "output_type": "display_data",
          "data": {
            "application/vnd.livy.statement-meta+json": {
              "spark_pool": "SampleSpark",
              "session_id": "9",
              "statement_id": 366,
              "state": "finished",
              "livy_statement_state": "available",
              "queued_time": "2023-05-01T17:00:55.8421932Z",
              "session_start_time": null,
              "execution_start_time": "2023-05-01T17:00:55.9857797Z",
              "execution_finish_time": "2023-05-01T17:00:56.5659061Z",
              "spark_jobs": null,
              "parent_msg_id": "3f975be3-85d1-4f1c-8eca-e3a48e622ed0"
            },
            "text/plain": "StatementMeta(SampleSpark, 9, 366, Finished, Available)"
          },
          "metadata": {}
        },
        {
          "output_type": "execute_result",
          "execution_count": 675,
          "data": {
            "text/plain": "True"
          },
          "metadata": {}
        }
      ],
      "execution_count": 56,
      "metadata": {
        "jupyter": {
          "source_hidden": false,
          "outputs_hidden": false
        },
        "nteract": {
          "transient": {
            "deleting": false
          }
        }
      }
    },
    {
      "cell_type": "code",
      "source": [
        "mssparkutils.fs.ls(\"abfss://defaultfs@asadatalakedavew891.dfs.core.windows.net/deltaExample/cities-davew/\")"
      ],
      "outputs": [
        {
          "output_type": "display_data",
          "data": {
            "application/vnd.livy.statement-meta+json": {
              "spark_pool": "SampleSpark",
              "session_id": "9",
              "statement_id": 376,
              "state": "finished",
              "livy_statement_state": "available",
              "queued_time": "2023-05-01T17:06:37.0241458Z",
              "session_start_time": null,
              "execution_start_time": "2023-05-01T17:06:37.1587345Z",
              "execution_finish_time": "2023-05-01T17:06:37.741332Z",
              "spark_jobs": null,
              "parent_msg_id": "b739a35e-7d20-431a-b561-735b46dfecbd"
            },
            "text/plain": "StatementMeta(SampleSpark, 9, 376, Finished, Available)"
          },
          "metadata": {}
        },
        {
          "output_type": "execute_result",
          "execution_count": 695,
          "data": {
            "text/plain": "[FileInfo(path=abfss://defaultfs@asadatalakedavew891.dfs.core.windows.net/deltaExample/cities-davew/_delta_log, name=_delta_log, size=0),\n FileInfo(path=abfss://defaultfs@asadatalakedavew891.dfs.core.windows.net/deltaExample/cities-davew/part-00000-4b116107-f89c-480c-8ead-fdba3bc881d6-c000.snappy.parquet, name=part-00000-4b116107-f89c-480c-8ead-fdba3bc881d6-c000.snappy.parquet, size=398),\n FileInfo(path=abfss://defaultfs@asadatalakedavew891.dfs.core.windows.net/deltaExample/cities-davew/part-00000-889e19bd-250d-4530-ab67-55ca84b11deb-c000.snappy.parquet, name=part-00000-889e19bd-250d-4530-ab67-55ca84b11deb-c000.snappy.parquet, size=774),\n FileInfo(path=abfss://defaultfs@asadatalakedavew891.dfs.core.windows.net/deltaExample/cities-davew/part-00000-89630fab-68a6-4bbc-adb9-7214e1d8e55f-c000.snappy.parquet, name=part-00000-89630fab-68a6-4bbc-adb9-7214e1d8e55f-c000.snappy.parquet, size=774),\n FileInfo(path=abfss://defaultfs@asadatalakedavew891.dfs.core.windows.net/deltaExample/cities-davew/part-00000-d4deebd5-9424-4d47-a30e-4a855a45e150-c000.snappy.parquet, name=part-00000-d4deebd5-9424-4d47-a30e-4a855a45e150-c000.snappy.parquet, size=774),\n FileInfo(path=abfss://defaultfs@asadatalakedavew891.dfs.core.windows.net/deltaExample/cities-davew/part-00000-f3366407-9ef1-4d8a-96dc-678e9bd8decf-c000.snappy.parquet, name=part-00000-f3366407-9ef1-4d8a-96dc-678e9bd8decf-c000.snappy.parquet, size=732),\n FileInfo(path=abfss://defaultfs@asadatalakedavew891.dfs.core.windows.net/deltaExample/cities-davew/part-00001-4688fdd4-42bd-4f8c-a9fa-aaa4251585a3-c000.snappy.parquet, name=part-00001-4688fdd4-42bd-4f8c-a9fa-aaa4251585a3-c000.snappy.parquet, size=746),\n FileInfo(path=abfss://defaultfs@asadatalakedavew891.dfs.core.windows.net/deltaExample/cities-davew/part-00001-6be2415d-e0f3-4628-8005-e6bc31edaab0-c000.snappy.parquet, name=part-00001-6be2415d-e0f3-4628-8005-e6bc31edaab0-c000.snappy.parquet, size=746),\n FileInfo(path=abfss://defaultfs@asadatalakedavew891.dfs.core.windows.net/deltaExample/cities-davew/part-00001-837a0e3f-62fe-4d28-b644-c7ce7b7e7d8e-c000.snappy.parquet, name=part-00001-837a0e3f-62fe-4d28-b644-c7ce7b7e7d8e-c000.snappy.parquet, size=746),\n FileInfo(path=abfss://defaultfs@asadatalakedavew891.dfs.core.windows.net/deltaExample/cities-davew/part-00001-d4922b11-6761-449a-841d-67b2dacb4d99-c000.snappy.parquet, name=part-00001-d4922b11-6761-449a-841d-67b2dacb4d99-c000.snappy.parquet, size=774),\n FileInfo(path=abfss://defaultfs@asadatalakedavew891.dfs.core.windows.net/deltaExample/cities-davew/part-00002-1cb404b6-5686-4be5-a01f-de0ba4a30b1d-c000.snappy.parquet, name=part-00002-1cb404b6-5686-4be5-a01f-de0ba4a30b1d-c000.snappy.parquet, size=732),\n FileInfo(path=abfss://defaultfs@asadatalakedavew891.dfs.core.windows.net/deltaExample/cities-davew/part-00002-2ad07a87-81dd-4c7b-a1b3-799d64e32b6e-c000.snappy.parquet, name=part-00002-2ad07a87-81dd-4c7b-a1b3-799d64e32b6e-c000.snappy.parquet, size=732),\n FileInfo(path=abfss://defaultfs@asadatalakedavew891.dfs.core.windows.net/deltaExample/cities-davew/part-00002-4eb2618b-9052-4d38-b2a0-92ae33c99b63-c000.snappy.parquet, name=part-00002-4eb2618b-9052-4d38-b2a0-92ae33c99b63-c000.snappy.parquet, size=732),\n FileInfo(path=abfss://defaultfs@asadatalakedavew891.dfs.core.windows.net/deltaExample/cities-davew/part-00002-d20b98bc-eb8b-41b9-8165-72334f6165c9-c000.snappy.parquet, name=part-00002-d20b98bc-eb8b-41b9-8165-72334f6165c9-c000.snappy.parquet, size=732),\n FileInfo(path=abfss://defaultfs@asadatalakedavew891.dfs.core.windows.net/deltaExample/cities-davew/part-00003-106673de-8cd9-45e7-9d20-235d4a75d4d5-c000.snappy.parquet, name=part-00003-106673de-8cd9-45e7-9d20-235d4a75d4d5-c000.snappy.parquet, size=732),\n FileInfo(path=abfss://defaultfs@asadatalakedavew891.dfs.core.windows.net/deltaExample/cities-davew/part-00003-6fd08371-fb2b-407c-b1da-f10333d97074-c000.snappy.parquet, name=part-00003-6fd08371-fb2b-407c-b1da-f10333d97074-c000.snappy.parquet, size=732),\n FileInfo(path=abfss://defaultfs@asadatalakedavew891.dfs.core.windows.net/deltaExample/cities-davew/part-00003-7ab3e4e7-f926-43f9-a7fb-d7185b20c845-c000.snappy.parquet, name=part-00003-7ab3e4e7-f926-43f9-a7fb-d7185b20c845-c000.snappy.parquet, size=732),\n FileInfo(path=abfss://defaultfs@asadatalakedavew891.dfs.core.windows.net/deltaExample/cities-davew/part-00003-fc04b4c2-9093-4b17-97b1-d8cf0d3ad777-c000.snappy.parquet, name=part-00003-fc04b4c2-9093-4b17-97b1-d8cf0d3ad777-c000.snappy.parquet, size=746)]"
          },
          "metadata": {}
        }
      ],
      "execution_count": 61,
      "metadata": {
        "jupyter": {
          "source_hidden": false,
          "outputs_hidden": false
        },
        "nteract": {
          "transient": {
            "deleting": false
          }
        }
      }
    },
    {
      "cell_type": "code",
      "source": [
        "#mssparkutils.env.getUserName()\r\n",
        "user = mssparkutils.env.getUserName()\r\n",
        "filepath = (\"/some/lakepath/{}\").format(user)\r\n",
        "filepath"
      ],
      "outputs": [
        {
          "output_type": "display_data",
          "data": {
            "application/vnd.livy.statement-meta+json": {
              "spark_pool": "SampleSpark",
              "session_id": "9",
              "statement_id": 386,
              "state": "finished",
              "livy_statement_state": "available",
              "queued_time": "2023-05-01T17:08:31.5075818Z",
              "session_start_time": null,
              "execution_start_time": "2023-05-01T17:08:31.6760573Z",
              "execution_finish_time": "2023-05-01T17:08:31.8307725Z",
              "spark_jobs": null,
              "parent_msg_id": "dac55751-8497-4f0b-be3c-3791c94424b5"
            },
            "text/plain": "StatementMeta(SampleSpark, 9, 386, Finished, Available)"
          },
          "metadata": {}
        },
        {
          "output_type": "execute_result",
          "execution_count": 715,
          "data": {
            "text/plain": "'/some/lakepath/davew@microsoft.com'"
          },
          "metadata": {}
        }
      ],
      "execution_count": 66,
      "metadata": {
        "jupyter": {
          "source_hidden": false,
          "outputs_hidden": false
        },
        "nteract": {
          "transient": {
            "deleting": false
          }
        }
      }
    }
  ],
  "metadata": {
    "kernelspec": {
      "name": "synapse_pyspark",
      "language": "Python",
      "display_name": "Synapse PySpark"
    },
    "language_info": {
      "name": "python"
    },
    "kernel_info": {
      "name": "synapse_pyspark"
    },
    "save_output": true,
    "synapse_widget": {
      "version": "0.1",
      "state": {
        "d77e5657-59d8-4023-9a16-659dda79a8d8": {
          "type": "Synapse.DataFrame",
          "sync_state": {
            "table": {
              "rows": [
                {
                  "0": "0"
                },
                {
                  "0": "1"
                },
                {
                  "0": "2"
                },
                {
                  "0": "3"
                },
                {
                  "0": "4"
                }
              ],
              "schema": [
                {
                  "key": "0",
                  "name": "id",
                  "type": "bigint"
                }
              ],
              "truncated": false
            },
            "isSummary": false,
            "language": "scala"
          },
          "persist_state": {
            "view": {
              "type": "details",
              "tableOptions": {},
              "chartOptions": {
                "chartType": "bar",
                "aggregationType": "sum",
                "categoryFieldKeys": [],
                "seriesFieldKeys": [
                  "0"
                ],
                "isStacked": false
              }
            }
          }
        },
        "a9f2ef5c-9aca-4dcd-a74f-160f00c72580": {
          "type": "Synapse.DataFrame",
          "sync_state": {
            "table": {
              "rows": [
                {
                  "0": "1"
                },
                {
                  "0": "3"
                },
                {
                  "0": "2"
                },
                {
                  "0": "0"
                },
                {
                  "0": "4"
                }
              ],
              "schema": [
                {
                  "key": "0",
                  "name": "id",
                  "type": "bigint"
                }
              ],
              "truncated": false
            },
            "isSummary": false,
            "language": "scala"
          },
          "persist_state": {
            "view": {
              "type": "details",
              "tableOptions": {},
              "chartOptions": {
                "chartType": "bar",
                "aggregationType": "sum",
                "categoryFieldKeys": [],
                "seriesFieldKeys": [
                  "0"
                ],
                "isStacked": false
              }
            }
          }
        },
        "3cb187a8-3ec3-4733-8dfd-db80de0f7f89": {
          "type": "Synapse.DataFrame",
          "sync_state": {
            "table": {
              "rows": [
                {
                  "0": "5"
                },
                {
                  "0": "6"
                },
                {
                  "0": "7"
                },
                {
                  "0": "8"
                },
                {
                  "0": "9"
                }
              ],
              "schema": [
                {
                  "key": "0",
                  "name": "id",
                  "type": "bigint"
                }
              ],
              "truncated": false
            },
            "isSummary": false,
            "language": "scala"
          },
          "persist_state": {
            "view": {
              "type": "details",
              "tableOptions": {},
              "chartOptions": {
                "chartType": "bar",
                "aggregationType": "sum",
                "categoryFieldKeys": [],
                "seriesFieldKeys": [
                  "0"
                ],
                "isStacked": false
              }
            }
          }
        },
        "b939baa4-255b-40ac-9444-3059646f088e": {
          "type": "Synapse.DataFrame",
          "sync_state": {
            "table": {
              "rows": [
                {
                  "0": "San Francisco",
                  "1": "10"
                },
                {
                  "0": "Bangalore",
                  "1": "20"
                },
                {
                  "0": "Philadelphia",
                  "1": "30"
                }
              ],
              "schema": [
                {
                  "key": "0",
                  "name": "name",
                  "type": "string"
                },
                {
                  "key": "1",
                  "name": "population",
                  "type": "int"
                }
              ],
              "truncated": false
            },
            "isSummary": false,
            "language": "scala"
          },
          "persist_state": {
            "view": {
              "type": "details",
              "tableOptions": {},
              "chartOptions": {
                "chartType": "bar",
                "aggregationType": "sum",
                "categoryFieldKeys": [
                  "0"
                ],
                "seriesFieldKeys": [
                  "1"
                ],
                "isStacked": false
              }
            }
          }
        },
        "054749af-6074-4416-af32-62625ba3614c": {
          "type": "Synapse.DataFrame",
          "sync_state": {
            "table": {
              "rows": [
                {
                  "0": "b00001",
                  "1": "Arthur Conan Doyle",
                  "2": "A study in scarlet",
                  "3": "1887"
                },
                {
                  "0": "b00001",
                  "1": "Arthur Conan Doyle",
                  "2": "A study in scarlet",
                  "3": "1887"
                },
                {
                  "0": "b01001",
                  "1": "Arthur Conan Doyle",
                  "2": "The adventures of Sherlock Holmes",
                  "3": "1892"
                },
                {
                  "0": "b00501",
                  "1": "Arthur Conan Doyle",
                  "2": "The memoirs of Sherlock Holmes",
                  "3": "1893"
                },
                {
                  "0": "b00300",
                  "1": "Arthur Conan Doyle",
                  "2": "The hounds of Baskerville",
                  "3": "1901"
                }
              ],
              "schema": [
                {
                  "key": "0",
                  "name": "book_id",
                  "type": "string"
                },
                {
                  "key": "1",
                  "name": "book_author",
                  "type": "string"
                },
                {
                  "key": "2",
                  "name": "book_name",
                  "type": "string"
                },
                {
                  "key": "3",
                  "name": "book_pub_year",
                  "type": "bigint"
                }
              ],
              "truncated": false
            },
            "isSummary": false,
            "language": "scala"
          },
          "persist_state": {
            "view": {
              "type": "details",
              "tableOptions": {},
              "chartOptions": {
                "chartType": "bar",
                "aggregationType": "sum",
                "categoryFieldKeys": [
                  "0"
                ],
                "seriesFieldKeys": [
                  "3"
                ],
                "isStacked": false
              }
            }
          }
        },
        "445ea368-8f07-4f24-8932-b2a83814dc66": {
          "type": "Synapse.DataFrame",
          "sync_state": {
            "table": {
              "rows": [
                {
                  "0": "b00909",
                  "1": "Arthur Conan Doyle",
                  "2": "A scandal in Bohemia",
                  "3": "1891"
                },
                {
                  "0": "b00023",
                  "1": "Arthur Conan Doyle",
                  "2": "Playing with Fire",
                  "3": "1900"
                }
              ],
              "schema": [
                {
                  "key": "0",
                  "name": "book_id",
                  "type": "string"
                },
                {
                  "key": "1",
                  "name": "book_author",
                  "type": "string"
                },
                {
                  "key": "2",
                  "name": "book_name",
                  "type": "string"
                },
                {
                  "key": "3",
                  "name": "book_pub_year",
                  "type": "bigint"
                }
              ],
              "truncated": false
            },
            "isSummary": false,
            "language": "scala"
          },
          "persist_state": {
            "view": {
              "type": "details",
              "tableOptions": {},
              "chartOptions": {
                "chartType": "bar",
                "aggregationType": "sum",
                "categoryFieldKeys": [
                  "0"
                ],
                "seriesFieldKeys": [
                  "3"
                ],
                "isStacked": false
              }
            }
          }
        },
        "05498cd8-0647-4aec-8969-e7cfe2d22e6f": {
          "type": "Synapse.DataFrame",
          "sync_state": {
            "table": {
              "rows": [
                {
                  "0": "b00001",
                  "1": "Arthur Conan Doyle",
                  "2": "A study in scarlet",
                  "3": "1887",
                  "4": "2.33"
                },
                {
                  "0": "b00001",
                  "1": "Arthur Conan Doyle",
                  "2": "A study in scarlet",
                  "3": "1887",
                  "4": "5.12"
                },
                {
                  "0": "b01001",
                  "1": "Arthur Conan Doyle",
                  "2": "The adventures of Sherlock Holmes",
                  "3": "1892",
                  "4": "12.0"
                },
                {
                  "0": "b00501",
                  "1": "Arthur Conan Doyle",
                  "2": "The memoirs of Sherlock Holmes",
                  "3": "1893",
                  "4": "13.39"
                },
                {
                  "0": "b00300",
                  "1": "Arthur Conan Doyle",
                  "2": "The hounds of Baskerville",
                  "3": "1901",
                  "4": "22.0"
                },
                {
                  "0": "b00909",
                  "1": "Arthur Conan Doyle",
                  "2": "A scandal in Bohemia",
                  "3": "1891",
                  "4": "18.0"
                },
                {
                  "0": "b00023",
                  "1": "Arthur Conan Doyle",
                  "2": "Playing with Fire",
                  "3": "1900",
                  "4": "29.99"
                }
              ],
              "schema": [
                {
                  "key": "0",
                  "name": "book_id",
                  "type": "string"
                },
                {
                  "key": "1",
                  "name": "book_author",
                  "type": "string"
                },
                {
                  "key": "2",
                  "name": "book_name",
                  "type": "string"
                },
                {
                  "key": "3",
                  "name": "book_pub_year",
                  "type": "bigint"
                },
                {
                  "key": "4",
                  "name": "book_price",
                  "type": "double"
                }
              ],
              "truncated": false
            },
            "isSummary": false,
            "language": "scala"
          },
          "persist_state": {
            "view": {
              "type": "details",
              "tableOptions": {},
              "chartOptions": {
                "chartType": "bar",
                "aggregationType": "sum",
                "categoryFieldKeys": [
                  "0"
                ],
                "seriesFieldKeys": [
                  "3"
                ],
                "isStacked": false
              }
            }
          }
        },
        "ee55e6a2-d176-4660-9e77-e77b3b989597": {
          "type": "Synapse.DataFrame",
          "sync_state": {
            "table": {
              "rows": [
                {
                  "0": "b01001",
                  "1": "Arthur Conan Doyle",
                  "2": "The adventures of Sherlock Holmes",
                  "3": "1892",
                  "4": "12.0"
                },
                {
                  "0": "b00501",
                  "1": "Arthur Conan Doyle",
                  "2": "The memoirs of Sherlock Holmes",
                  "3": "1893",
                  "4": "13.39"
                },
                {
                  "0": "b00300",
                  "1": "Arthur Conan Doyle",
                  "2": "The hounds of Baskerville",
                  "3": "1901",
                  "4": "22.0"
                },
                {
                  "0": "b00909",
                  "1": "Arthur Conan Doyle",
                  "2": "A scandal in Bohemia",
                  "3": "1891",
                  "4": "18.0"
                },
                {
                  "0": "b00001",
                  "1": "Arthur Conan Doyle",
                  "2": "A study in scarlet",
                  "3": "1887",
                  "4": "2.33"
                },
                {
                  "0": "b00001",
                  "1": "Arthur Conan Doyle",
                  "2": "A study in scarlet",
                  "3": "1887",
                  "4": "5.12"
                },
                {
                  "0": "b00023",
                  "1": "Arthur Conan Doyle",
                  "2": "Playing with Fire",
                  "3": "1900",
                  "4": "29.99"
                }
              ],
              "schema": [
                {
                  "key": "0",
                  "name": "book_id",
                  "type": "string"
                },
                {
                  "key": "1",
                  "name": "book_author",
                  "type": "string"
                },
                {
                  "key": "2",
                  "name": "book_name",
                  "type": "string"
                },
                {
                  "key": "3",
                  "name": "book_pub_year",
                  "type": "bigint"
                },
                {
                  "key": "4",
                  "name": "book_price",
                  "type": "double"
                }
              ],
              "truncated": false
            },
            "isSummary": false,
            "language": "scala"
          },
          "persist_state": {
            "view": {
              "type": "details",
              "tableOptions": {},
              "chartOptions": {
                "chartType": "bar",
                "aggregationType": "sum",
                "categoryFieldKeys": [
                  "0"
                ],
                "seriesFieldKeys": [
                  "3"
                ],
                "isStacked": false
              }
            }
          }
        }
      }
    }
  },
  "nbformat": 4,
  "nbformat_minor": 2
}